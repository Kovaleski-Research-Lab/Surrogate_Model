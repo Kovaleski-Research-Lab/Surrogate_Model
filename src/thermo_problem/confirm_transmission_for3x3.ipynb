{
 "cells": [
  {
   "cell_type": "code",
   "execution_count": 11,
   "id": "25c4963d-d1c5-47a5-94f9-95ca2d4cff01",
   "metadata": {},
   "outputs": [],
   "source": [
    "import os\n",
    "import pickle\n",
    "import shutil \n",
    "\n",
    "import meep as mp\n",
    "import numpy as np\n",
    "import matplotlib.pyplot as plt\n",
    "from tqdm import tqdm\n",
    "import math\n",
    "from IPython import embed\n",
    "import random"
   ]
  },
  {
   "cell_type": "code",
   "execution_count": 12,
   "id": "77525e40-e3a0-4f00-8442-1f2d2292d4c8",
   "metadata": {},
   "outputs": [],
   "source": [
    "mp.Verbosity(2)\n",
    "\n",
    "resolution = 20\n",
    "\n",
    "n_fusedSilica = 1.44\n",
    "n_PDMS = 1.4\n",
    "n_amorphousSi = 3.48\n",
    "\n",
    "a = 0.680   # lattice period \n",
    "\n",
    "pml_thickness = 0.780\n",
    "height_pillar = 1.020\n",
    "width_PDMS = 1.560\n",
    "width_fusedSilica = 0.780\n",
    "\n",
    "cell_x = a * 3\n",
    "cell_y = a * 3\n",
    "cell_z = round(2*pml_thickness + width_PDMS + height_pillar +  width_fusedSilica, 3)\n",
    "\n",
    "center_PDMS = round(0.5*(height_pillar + width_PDMS + pml_thickness) \n",
    "                    + (pml_thickness + width_fusedSilica) - 0.5*cell_z, 3)\n",
    "center_fusedSilica = round(0.5*(pml_thickness + width_fusedSilica) - 0.5*cell_z, 3)\n",
    "center_pillar = round(pml_thickness + width_fusedSilica + 0.5*height_pillar\n",
    "                    - 0.5*cell_z, 3) \n",
    "\n",
    "z_fusedSilica = pml_thickness + width_fusedSilica\n",
    "z_PDMS = height_pillar + width_PDMS + pml_thickness"
   ]
  },
  {
   "cell_type": "code",
   "execution_count": 13,
   "id": "1953bd0b-78eb-41f7-8100-1d538da7161d",
   "metadata": {},
   "outputs": [],
   "source": [
    "geometry = [mp.Block(size=mp.Vector3(mp.inf,mp.inf,z_fusedSilica), \n",
    "                    center=mp.Vector3(0,0,center_fusedSilica),\n",
    "                    material=mp.Medium(index=n_fusedSilica)),\n",
    "            mp.Block(size=mp.Vector3(mp.inf,mp.inf,z_PDMS),\n",
    "                    center=mp.Vector3(0,0,center_PDMS),\n",
    "                    material=mp.Medium(index=n_PDMS))]\n",
    "\n",
    "k_point = mp.Vector3(0,0,0)\n",
    "#k_point = mp.Vector3(np.radians(35), 0, 0)  # k vector defines normal to the plane of propagation\n",
    "\n",
    "wavelength = 1.55\n",
    "freq = 1 / wavelength\n",
    "\n",
    "## initialize matrix for data collection ##\n",
    "##########################################\n",
    "\n",
    "num = 15 # this is the number of pillars we will build\n",
    "data = np.zeros((3,num))\n",
    "dfts = []\n",
    "\n",
    "## set up and build source ##\n",
    "############################\n",
    "\n",
    "center_source = round(pml_thickness + width_fusedSilica*0.2 - 0.5*cell_z, 3) \n",
    "source_cmpt = mp.Ey\n",
    "\n",
    "fcen = freq\n",
    "fwidth=0.2*freq\n",
    "\n",
    "sources = [mp.Source(mp.GaussianSource(fcen, fwidth=fwidth), component = source_cmpt,\n",
    "                            center=mp.Vector3(0,0,center_source),\n",
    "                            size=mp.Vector3(cell_x,cell_y,0))]\n",
    "\n",
    "def run_sim():\n",
    "    sim.run(until_after_sources=mp.stop_when_fields_decayed(50, source_cmpt, mp.Vector3(0, 0, cell_z), 1e-2))"
   ]
  },
  {
   "cell_type": "code",
   "execution_count": 14,
   "id": "b3e57a1e-df07-4d04-95ee-e03f5f3db930",
   "metadata": {},
   "outputs": [
    {
     "name": "stderr",
     "output_type": "stream",
     "text": [
      "Warning: grid volume is not an integer number of pixels; cell size will be rounded to nearest pixel.\n"
     ]
    },
    {
     "name": "stdout",
     "output_type": "stream",
     "text": [
      "-----------\n",
      "Initializing structure...\n",
      "time for choose_chunkdivision = 0.000120878 s\n",
      "Working in 3D dimensions.\n",
      "Computational cell is 2.05 x 2.05 x 4.9 with resolution 20\n",
      "     block, center = (0,0,-1.68)\n",
      "          size (1e+20,1e+20,1.56)\n",
      "          axes (1,0,0), (0,1,0), (0,0,1)\n",
      "          dielectric constant epsilon diagonal = (2.0736,2.0736,2.0736)\n",
      "     block, center = (0,0,0.78)\n",
      "          size (1e+20,1e+20,3.36)\n",
      "          axes (1,0,0), (0,1,0), (0,0,1)\n",
      "          dielectric constant epsilon diagonal = (1.96,1.96,1.96)\n",
      "time for set_epsilon = 0.683761 s\n",
      "-----------\n",
      "on time step 1576 (time=39.4), 0.00253909 s/step\n",
      "field decay(t = 50.025000000000006): 0.12053885221037682 / 0.12053885221037682 = 1.0\n",
      "on time step 3263 (time=81.575), 0.00237244 s/step\n",
      "field decay(t = 100.05000000000001): 0.028505959764893892 / 0.12053885221037682 = 0.23648773189861105\n",
      "on time step 4951 (time=123.775), 0.00237076 s/step\n",
      "field decay(t = 150.07500000000002): 6.901501745057479e-09 / 0.12053885221037682 = 5.7255412827494555e-08\n",
      "run 0 finished at t = 150.07500000000002 (6003 timesteps)\n"
     ]
    }
   ],
   "source": [
    "cell_size = mp.Vector3(cell_x,cell_y,cell_z)\n",
    "pml_layers = [mp.PML(thickness = pml_thickness, direction = mp.Z)]\n",
    "\n",
    "sim = mp.Simulation(cell_size=cell_size,\n",
    "                    geometry=geometry,\n",
    "                    sources=sources,\n",
    "                    k_point=k_point,\n",
    "                    boundary_layers=pml_layers,\n",
    "                    #symmetries=symmetries,\n",
    "                    resolution=resolution)\n",
    "nfreq = 1\n",
    "df = 0\n",
    "fr_center = round(0.5*cell_z - pml_thickness - 0.3*width_PDMS, 3)\n",
    "fr = mp.FluxRegion(center=mp.Vector3(0,0,fr_center), \n",
    "            size=mp.Vector3(cell_x, cell_y, 0))\n",
    "\n",
    "# fr = mp.FluxRegion(center=mp.Vector3(0,0,fr_center), \n",
    "#             size=mp.Vector3(a, a, 0))\n",
    "\n",
    "flux_object = sim.add_flux(freq, df, nfreq, fr)\n",
    "where=mp.Volume(center=mp.Vector3(0, 0, fr_center), size=mp.Vector3(cell_x, cell_y, 0))\n",
    "dft_object = sim.add_dft_fields([mp.Ex, mp.Ey, mp.Ez], freq, df, nfreq, where=where)\n",
    "run_sim()"
   ]
  },
  {
   "cell_type": "code",
   "execution_count": 15,
   "id": "e1928f78-f36e-46a5-9b2f-81d15f656f61",
   "metadata": {},
   "outputs": [
    {
     "name": "stdout",
     "output_type": "stream",
     "text": [
      "10.5126710512241\n"
     ]
    }
   ],
   "source": [
    "initial_flux = mp.get_fluxes(flux_object)[0]     # initial flux\n",
    "initial_dft = [sim.get_dft_array(dft_object, mp.Ex, 0),\n",
    "               sim.get_dft_array(dft_object, mp.Ey, 0),\n",
    "               sim.get_dft_array(dft_object, mp.Ez, 0)]\n",
    "sim.reset_meep()\n",
    "print(initial_flux)"
   ]
  },
  {
   "cell_type": "code",
   "execution_count": 16,
   "id": "1451b7e0-fd88-4411-bd8e-1dc01667d522",
   "metadata": {},
   "outputs": [],
   "source": [
    "x_list = [-a, 0, a, -a, 0, a, -a, 0, a]\n",
    "y_list = [a, a, a, 0, 0, 0, -a, -a, -a] \n",
    "radii_list = np.random.uniform(0.075, 0.250, 9)\n",
    "\n",
    "for i, neighbor in enumerate(radii_list):\n",
    "    radius = neighbor\n",
    "    x_dim = x_list[i]\n",
    "    y_dim = y_list[i]\n",
    "    geometry.append(mp.Cylinder(radius=radii_list[i],\n",
    "                                height=height_pillar,\n",
    "                                axis=mp.Vector3(0,0,1),\n",
    "                                center=mp.Vector3(x_list[i], y_list[i], center_pillar),\n",
    "                                material=mp.Medium(index=n_amorphousSi)))"
   ]
  },
  {
   "cell_type": "code",
   "execution_count": 17,
   "id": "6b160360-53ce-4209-aa4d-5f9069ac5dbc",
   "metadata": {
    "scrolled": true
   },
   "outputs": [
    {
     "name": "stderr",
     "output_type": "stream",
     "text": [
      "  0%|                                                                             | 0/15 [00:00<?, ?it/s]Warning: grid volume is not an integer number of pixels; cell size will be rounded to nearest pixel.\n"
     ]
    },
    {
     "name": "stdout",
     "output_type": "stream",
     "text": [
      "central_index = 6\n",
      "central pillar: 0.075\n",
      "at iteration 0 the central pillar is at Vector3<0.68, 0.0, -0.39> with 0.11656847674731535\n",
      "-----------\n",
      "Initializing structure...\n",
      "time for choose_chunkdivision = 8.29697e-05 s\n",
      "Working in 3D dimensions.\n",
      "Computational cell is 2.05 x 2.05 x 4.9 with resolution 20\n",
      "     block, center = (0,0,-1.68)\n",
      "          size (1e+20,1e+20,1.56)\n",
      "          axes (1,0,0), (0,1,0), (0,0,1)\n",
      "          dielectric constant epsilon diagonal = (2.0736,2.0736,2.0736)\n",
      "     block, center = (0,0,0.78)\n",
      "          size (1e+20,1e+20,3.36)\n",
      "          axes (1,0,0), (0,1,0), (0,0,1)\n",
      "          dielectric constant epsilon diagonal = (1.96,1.96,1.96)\n",
      "     cylinder, center = (-0.68,0.68,-0.39)\n",
      "          radius 0.201033, height 1.02, axis (0, 0, 1)\n",
      "          dielectric constant epsilon diagonal = (12.1104,12.1104,12.1104)\n",
      "     cylinder, center = (0,0.68,-0.39)\n",
      "          radius 0.215939, height 1.02, axis (0, 0, 1)\n",
      "          dielectric constant epsilon diagonal = (12.1104,12.1104,12.1104)\n",
      "     cylinder, center = (0.68,0.68,-0.39)\n",
      "          radius 0.244096, height 1.02, axis (0, 0, 1)\n",
      "          dielectric constant epsilon diagonal = (12.1104,12.1104,12.1104)\n",
      "     cylinder, center = (-0.68,0,-0.39)\n",
      "          radius 0.0825139, height 1.02, axis (0, 0, 1)\n",
      "          dielectric constant epsilon diagonal = (12.1104,12.1104,12.1104)\n",
      "     cylinder, center = (0.68,0,-0.39)\n",
      "          radius 0.116568, height 1.02, axis (0, 0, 1)\n",
      "          dielectric constant epsilon diagonal = (12.1104,12.1104,12.1104)\n",
      "     cylinder, center = (-0.68,-0.68,-0.39)\n",
      "          radius 0.210527, height 1.02, axis (0, 0, 1)\n",
      "          dielectric constant epsilon diagonal = (12.1104,12.1104,12.1104)\n",
      "     cylinder, center = (0,-0.68,-0.39)\n",
      "          radius 0.164173, height 1.02, axis (0, 0, 1)\n",
      "          dielectric constant epsilon diagonal = (12.1104,12.1104,12.1104)\n",
      "     cylinder, center = (0.68,-0.68,-0.39)\n",
      "          radius 0.0810593, height 1.02, axis (0, 0, 1)\n",
      "          dielectric constant epsilon diagonal = (12.1104,12.1104,12.1104)\n",
      "     ...(+ 1 objects not shown)...\n",
      "time for set_epsilon = 0.963217 s\n",
      "-----------\n",
      "on time step 1472 (time=36.8), 0.00271781 s/step\n",
      "field decay(t = 50.025000000000006): 0.011576461570685394 / 0.011576461570685394 = 1.0\n",
      "on time step 3051 (time=76.275), 0.00253401 s/step\n",
      "field decay(t = 100.05000000000001): 0.006282587398445428 / 0.011576461570685394 = 0.542703602485458\n",
      "on time step 4634 (time=115.85), 0.00252788 s/step\n"
     ]
    },
    {
     "name": "stderr",
     "output_type": "stream",
     "text": [
      "Warning: grid volume is not an integer number of pixels; cell size will be rounded to nearest pixel.\n"
     ]
    },
    {
     "name": "stdout",
     "output_type": "stream",
     "text": [
      "field decay(t = 150.07500000000002): 2.7972212784783946e-05 / 0.011576461570685394 = 0.0024163007507939085\n",
      "run 0 finished at t = 150.07500000000002 (6003 timesteps)\n",
      "MPB solved for frequency_1(0,0,0.903226) = 0.645161 after 17 iters\n",
      "Dominant planewave for band 1: (0.000000,0.000000,0.903226)\n"
     ]
    },
    {
     "name": "stderr",
     "output_type": "stream",
     "text": [
      "  7%|████▌                                                                | 1/15 [00:16<03:52, 16.59s/it]Warning: grid volume is not an integer number of pixels; cell size will be rounded to nearest pixel.\n"
     ]
    },
    {
     "name": "stdout",
     "output_type": "stream",
     "text": [
      "central_index = 10\n",
      "central pillar: 0.0875\n",
      "at iteration 1 the central pillar is at Vector3<0.0, 0.0, -0.39> with 0.0875\n",
      "-----------\n",
      "Initializing structure...\n",
      "time for choose_chunkdivision = 4.60148e-05 s\n",
      "Working in 3D dimensions.\n",
      "Computational cell is 2.05 x 2.05 x 4.9 with resolution 20\n",
      "     block, center = (0,0,-1.68)\n",
      "          size (1e+20,1e+20,1.56)\n",
      "          axes (1,0,0), (0,1,0), (0,0,1)\n",
      "          dielectric constant epsilon diagonal = (2.0736,2.0736,2.0736)\n",
      "     block, center = (0,0,0.78)\n",
      "          size (1e+20,1e+20,3.36)\n",
      "          axes (1,0,0), (0,1,0), (0,0,1)\n",
      "          dielectric constant epsilon diagonal = (1.96,1.96,1.96)\n",
      "     cylinder, center = (-0.68,0.68,-0.39)\n",
      "          radius 0.201033, height 1.02, axis (0, 0, 1)\n",
      "          dielectric constant epsilon diagonal = (12.1104,12.1104,12.1104)\n",
      "     cylinder, center = (0,0.68,-0.39)\n",
      "          radius 0.215939, height 1.02, axis (0, 0, 1)\n",
      "          dielectric constant epsilon diagonal = (12.1104,12.1104,12.1104)\n",
      "     cylinder, center = (0.68,0.68,-0.39)\n",
      "          radius 0.244096, height 1.02, axis (0, 0, 1)\n",
      "          dielectric constant epsilon diagonal = (12.1104,12.1104,12.1104)\n",
      "     cylinder, center = (-0.68,0,-0.39)\n",
      "          radius 0.0825139, height 1.02, axis (0, 0, 1)\n",
      "          dielectric constant epsilon diagonal = (12.1104,12.1104,12.1104)\n",
      "     cylinder, center = (0.68,0,-0.39)\n",
      "          radius 0.116568, height 1.02, axis (0, 0, 1)\n",
      "          dielectric constant epsilon diagonal = (12.1104,12.1104,12.1104)\n",
      "     cylinder, center = (-0.68,-0.68,-0.39)\n",
      "          radius 0.210527, height 1.02, axis (0, 0, 1)\n",
      "          dielectric constant epsilon diagonal = (12.1104,12.1104,12.1104)\n",
      "     cylinder, center = (0,-0.68,-0.39)\n",
      "          radius 0.164173, height 1.02, axis (0, 0, 1)\n",
      "          dielectric constant epsilon diagonal = (12.1104,12.1104,12.1104)\n",
      "     cylinder, center = (0.68,-0.68,-0.39)\n",
      "          radius 0.0810593, height 1.02, axis (0, 0, 1)\n",
      "          dielectric constant epsilon diagonal = (12.1104,12.1104,12.1104)\n",
      "     ...(+ 1 objects not shown)...\n",
      "time for set_epsilon = 0.963586 s\n",
      "-----------\n",
      "on time step 1507 (time=37.675), 0.00265486 s/step\n",
      "field decay(t = 50.025000000000006): 0.01900972093948374 / 0.01900972093948374 = 1.0\n",
      "on time step 3119 (time=77.975), 0.00248182 s/step\n",
      "field decay(t = 100.05000000000001): 0.01018243875022685 / 0.01900972093948374 = 0.5356437783932761\n",
      "on time step 4729 (time=118.225), 0.00248539 s/step\n"
     ]
    },
    {
     "name": "stderr",
     "output_type": "stream",
     "text": [
      "Warning: grid volume is not an integer number of pixels; cell size will be rounded to nearest pixel.\n"
     ]
    },
    {
     "name": "stdout",
     "output_type": "stream",
     "text": [
      "field decay(t = 150.07500000000002): 2.926059174523128e-05 / 0.01900972093948374 = 0.0015392436237428495\n",
      "run 0 finished at t = 150.07500000000002 (6003 timesteps)\n",
      "MPB solved for frequency_1(0,0,0.903226) = 0.645161 after 17 iters\n",
      "Dominant planewave for band 1: (0.000000,0.000000,0.903226)\n"
     ]
    },
    {
     "name": "stderr",
     "output_type": "stream",
     "text": [
      " 13%|█████████▏                                                           | 2/15 [00:32<03:33, 16.44s/it]Warning: grid volume is not an integer number of pixels; cell size will be rounded to nearest pixel.\n"
     ]
    },
    {
     "name": "stdout",
     "output_type": "stream",
     "text": [
      "central_index = 10\n",
      "central pillar: 0.09999999999999999\n",
      "at iteration 2 the central pillar is at Vector3<0.0, 0.0, -0.39> with 0.09999999999999999\n",
      "-----------\n",
      "Initializing structure...\n",
      "time for choose_chunkdivision = 4.79221e-05 s\n",
      "Working in 3D dimensions.\n",
      "Computational cell is 2.05 x 2.05 x 4.9 with resolution 20\n",
      "     block, center = (0,0,-1.68)\n",
      "          size (1e+20,1e+20,1.56)\n",
      "          axes (1,0,0), (0,1,0), (0,0,1)\n",
      "          dielectric constant epsilon diagonal = (2.0736,2.0736,2.0736)\n",
      "     block, center = (0,0,0.78)\n",
      "          size (1e+20,1e+20,3.36)\n",
      "          axes (1,0,0), (0,1,0), (0,0,1)\n",
      "          dielectric constant epsilon diagonal = (1.96,1.96,1.96)\n",
      "     cylinder, center = (-0.68,0.68,-0.39)\n",
      "          radius 0.201033, height 1.02, axis (0, 0, 1)\n",
      "          dielectric constant epsilon diagonal = (12.1104,12.1104,12.1104)\n",
      "     cylinder, center = (0,0.68,-0.39)\n",
      "          radius 0.215939, height 1.02, axis (0, 0, 1)\n",
      "          dielectric constant epsilon diagonal = (12.1104,12.1104,12.1104)\n",
      "     cylinder, center = (0.68,0.68,-0.39)\n",
      "          radius 0.244096, height 1.02, axis (0, 0, 1)\n",
      "          dielectric constant epsilon diagonal = (12.1104,12.1104,12.1104)\n",
      "     cylinder, center = (-0.68,0,-0.39)\n",
      "          radius 0.0825139, height 1.02, axis (0, 0, 1)\n",
      "          dielectric constant epsilon diagonal = (12.1104,12.1104,12.1104)\n",
      "     cylinder, center = (0.68,0,-0.39)\n",
      "          radius 0.116568, height 1.02, axis (0, 0, 1)\n",
      "          dielectric constant epsilon diagonal = (12.1104,12.1104,12.1104)\n",
      "     cylinder, center = (-0.68,-0.68,-0.39)\n",
      "          radius 0.210527, height 1.02, axis (0, 0, 1)\n",
      "          dielectric constant epsilon diagonal = (12.1104,12.1104,12.1104)\n",
      "     cylinder, center = (0,-0.68,-0.39)\n",
      "          radius 0.164173, height 1.02, axis (0, 0, 1)\n",
      "          dielectric constant epsilon diagonal = (12.1104,12.1104,12.1104)\n",
      "     cylinder, center = (0.68,-0.68,-0.39)\n",
      "          radius 0.0810593, height 1.02, axis (0, 0, 1)\n",
      "          dielectric constant epsilon diagonal = (12.1104,12.1104,12.1104)\n",
      "     ...(+ 1 objects not shown)...\n",
      "time for set_epsilon = 0.962141 s\n",
      "-----------\n",
      "on time step 1496 (time=37.4), 0.00267523 s/step\n",
      "field decay(t = 50.025000000000006): 0.038421006537680435 / 0.038421006537680435 = 1.0\n",
      "on time step 3094 (time=77.35), 0.00250471 s/step\n",
      "field decay(t = 100.05000000000001): 0.020343325269219358 / 0.038421006537680435 = 0.5294844436016571\n",
      "on time step 4694 (time=117.35), 0.00250103 s/step\n"
     ]
    },
    {
     "name": "stderr",
     "output_type": "stream",
     "text": [
      "Warning: grid volume is not an integer number of pixels; cell size will be rounded to nearest pixel.\n"
     ]
    },
    {
     "name": "stdout",
     "output_type": "stream",
     "text": [
      "field decay(t = 150.07500000000002): 4.549782724952294e-05 / 0.038421006537680435 = 0.0011841914449821113\n",
      "run 0 finished at t = 150.07500000000002 (6003 timesteps)\n",
      "MPB solved for frequency_1(0,0,0.903226) = 0.645161 after 17 iters\n",
      "Dominant planewave for band 1: (0.000000,0.000000,0.903226)\n"
     ]
    },
    {
     "name": "stderr",
     "output_type": "stream",
     "text": [
      " 20%|█████████████▊                                                       | 3/15 [00:49<03:17, 16.44s/it]Warning: grid volume is not an integer number of pixels; cell size will be rounded to nearest pixel.\n"
     ]
    },
    {
     "name": "stdout",
     "output_type": "stream",
     "text": [
      "central_index = 10\n",
      "central pillar: 0.11249999999999999\n",
      "at iteration 3 the central pillar is at Vector3<0.0, 0.0, -0.39> with 0.11249999999999999\n",
      "-----------\n",
      "Initializing structure...\n",
      "time for choose_chunkdivision = 4.50611e-05 s\n",
      "Working in 3D dimensions.\n",
      "Computational cell is 2.05 x 2.05 x 4.9 with resolution 20\n",
      "     block, center = (0,0,-1.68)\n",
      "          size (1e+20,1e+20,1.56)\n",
      "          axes (1,0,0), (0,1,0), (0,0,1)\n",
      "          dielectric constant epsilon diagonal = (2.0736,2.0736,2.0736)\n",
      "     block, center = (0,0,0.78)\n",
      "          size (1e+20,1e+20,3.36)\n",
      "          axes (1,0,0), (0,1,0), (0,0,1)\n",
      "          dielectric constant epsilon diagonal = (1.96,1.96,1.96)\n",
      "     cylinder, center = (-0.68,0.68,-0.39)\n",
      "          radius 0.201033, height 1.02, axis (0, 0, 1)\n",
      "          dielectric constant epsilon diagonal = (12.1104,12.1104,12.1104)\n",
      "     cylinder, center = (0,0.68,-0.39)\n",
      "          radius 0.215939, height 1.02, axis (0, 0, 1)\n",
      "          dielectric constant epsilon diagonal = (12.1104,12.1104,12.1104)\n",
      "     cylinder, center = (0.68,0.68,-0.39)\n",
      "          radius 0.244096, height 1.02, axis (0, 0, 1)\n",
      "          dielectric constant epsilon diagonal = (12.1104,12.1104,12.1104)\n",
      "     cylinder, center = (-0.68,0,-0.39)\n",
      "          radius 0.0825139, height 1.02, axis (0, 0, 1)\n",
      "          dielectric constant epsilon diagonal = (12.1104,12.1104,12.1104)\n",
      "     cylinder, center = (0.68,0,-0.39)\n",
      "          radius 0.116568, height 1.02, axis (0, 0, 1)\n",
      "          dielectric constant epsilon diagonal = (12.1104,12.1104,12.1104)\n",
      "     cylinder, center = (-0.68,-0.68,-0.39)\n",
      "          radius 0.210527, height 1.02, axis (0, 0, 1)\n",
      "          dielectric constant epsilon diagonal = (12.1104,12.1104,12.1104)\n",
      "     cylinder, center = (0,-0.68,-0.39)\n",
      "          radius 0.164173, height 1.02, axis (0, 0, 1)\n",
      "          dielectric constant epsilon diagonal = (12.1104,12.1104,12.1104)\n",
      "     cylinder, center = (0.68,-0.68,-0.39)\n",
      "          radius 0.0810593, height 1.02, axis (0, 0, 1)\n",
      "          dielectric constant epsilon diagonal = (12.1104,12.1104,12.1104)\n",
      "     ...(+ 1 objects not shown)...\n",
      "time for set_epsilon = 0.971656 s\n",
      "-----------\n",
      "on time step 1512 (time=37.8), 0.00264559 s/step\n",
      "field decay(t = 50.025000000000006): 0.0654475077329288 / 0.0654475077329288 = 1.0\n",
      "on time step 3127 (time=78.175), 0.00247689 s/step\n",
      "field decay(t = 100.05000000000001): 0.03420491522016289 / 0.0654475077329288 = 0.5226312873477574\n",
      "on time step 4744 (time=118.6), 0.00247399 s/step\n"
     ]
    },
    {
     "name": "stderr",
     "output_type": "stream",
     "text": [
      "Warning: grid volume is not an integer number of pixels; cell size will be rounded to nearest pixel.\n"
     ]
    },
    {
     "name": "stdout",
     "output_type": "stream",
     "text": [
      "field decay(t = 150.07500000000002): 8.14617363642633e-05 / 0.0654475077329288 = 0.0012446881353631318\n",
      "run 0 finished at t = 150.07500000000002 (6003 timesteps)\n",
      "MPB solved for frequency_1(0,0,0.903226) = 0.645161 after 17 iters\n",
      "Dominant planewave for band 1: (0.000000,0.000000,0.903226)\n"
     ]
    },
    {
     "name": "stderr",
     "output_type": "stream",
     "text": [
      " 27%|██████████████████▍                                                  | 4/15 [01:05<03:00, 16.38s/it]Warning: grid volume is not an integer number of pixels; cell size will be rounded to nearest pixel.\n"
     ]
    },
    {
     "name": "stdout",
     "output_type": "stream",
     "text": [
      "central_index = 10\n",
      "central pillar: 0.125\n",
      "at iteration 4 the central pillar is at Vector3<0.0, 0.0, -0.39> with 0.125\n",
      "-----------\n",
      "Initializing structure...\n",
      "time for choose_chunkdivision = 4.00543e-05 s\n",
      "Working in 3D dimensions.\n",
      "Computational cell is 2.05 x 2.05 x 4.9 with resolution 20\n",
      "     block, center = (0,0,-1.68)\n",
      "          size (1e+20,1e+20,1.56)\n",
      "          axes (1,0,0), (0,1,0), (0,0,1)\n",
      "          dielectric constant epsilon diagonal = (2.0736,2.0736,2.0736)\n",
      "     block, center = (0,0,0.78)\n",
      "          size (1e+20,1e+20,3.36)\n",
      "          axes (1,0,0), (0,1,0), (0,0,1)\n",
      "          dielectric constant epsilon diagonal = (1.96,1.96,1.96)\n",
      "     cylinder, center = (-0.68,0.68,-0.39)\n",
      "          radius 0.201033, height 1.02, axis (0, 0, 1)\n",
      "          dielectric constant epsilon diagonal = (12.1104,12.1104,12.1104)\n",
      "     cylinder, center = (0,0.68,-0.39)\n",
      "          radius 0.215939, height 1.02, axis (0, 0, 1)\n",
      "          dielectric constant epsilon diagonal = (12.1104,12.1104,12.1104)\n",
      "     cylinder, center = (0.68,0.68,-0.39)\n",
      "          radius 0.244096, height 1.02, axis (0, 0, 1)\n",
      "          dielectric constant epsilon diagonal = (12.1104,12.1104,12.1104)\n",
      "     cylinder, center = (-0.68,0,-0.39)\n",
      "          radius 0.0825139, height 1.02, axis (0, 0, 1)\n",
      "          dielectric constant epsilon diagonal = (12.1104,12.1104,12.1104)\n",
      "     cylinder, center = (0.68,0,-0.39)\n",
      "          radius 0.116568, height 1.02, axis (0, 0, 1)\n",
      "          dielectric constant epsilon diagonal = (12.1104,12.1104,12.1104)\n",
      "     cylinder, center = (-0.68,-0.68,-0.39)\n",
      "          radius 0.210527, height 1.02, axis (0, 0, 1)\n",
      "          dielectric constant epsilon diagonal = (12.1104,12.1104,12.1104)\n",
      "     cylinder, center = (0,-0.68,-0.39)\n",
      "          radius 0.164173, height 1.02, axis (0, 0, 1)\n",
      "          dielectric constant epsilon diagonal = (12.1104,12.1104,12.1104)\n",
      "     cylinder, center = (0.68,-0.68,-0.39)\n",
      "          radius 0.0810593, height 1.02, axis (0, 0, 1)\n",
      "          dielectric constant epsilon diagonal = (12.1104,12.1104,12.1104)\n",
      "     ...(+ 1 objects not shown)...\n",
      "time for set_epsilon = 0.958958 s\n",
      "-----------\n",
      "on time step 1507 (time=37.675), 0.00265453 s/step\n",
      "field decay(t = 50.025000000000006): 0.12629047158758958 / 0.12629047158758958 = 1.0\n",
      "on time step 3116 (time=77.9), 0.00248652 s/step\n",
      "field decay(t = 100.05000000000001): 0.06593405489114364 / 0.12629047158758958 = 0.5220825772704051\n",
      "on time step 4730 (time=118.25), 0.00247973 s/step\n"
     ]
    },
    {
     "name": "stderr",
     "output_type": "stream",
     "text": [
      "Warning: grid volume is not an integer number of pixels; cell size will be rounded to nearest pixel.\n"
     ]
    },
    {
     "name": "stdout",
     "output_type": "stream",
     "text": [
      "field decay(t = 150.07500000000002): 0.00016830296793880523 / 0.12629047158758958 = 0.0013326656067008\n",
      "run 0 finished at t = 150.07500000000002 (6003 timesteps)\n",
      "MPB solved for frequency_1(0,0,0.903226) = 0.645161 after 17 iters\n",
      "Dominant planewave for band 1: (0.000000,0.000000,0.903226)\n"
     ]
    },
    {
     "name": "stderr",
     "output_type": "stream",
     "text": [
      " 33%|███████████████████████                                              | 5/15 [01:21<02:43, 16.35s/it]Warning: grid volume is not an integer number of pixels; cell size will be rounded to nearest pixel.\n"
     ]
    },
    {
     "name": "stdout",
     "output_type": "stream",
     "text": [
      "central_index = 10\n",
      "central pillar: 0.13749999999999998\n",
      "at iteration 5 the central pillar is at Vector3<0.0, 0.0, -0.39> with 0.13749999999999998\n",
      "-----------\n",
      "Initializing structure...\n",
      "time for choose_chunkdivision = 4.3869e-05 s\n",
      "Working in 3D dimensions.\n",
      "Computational cell is 2.05 x 2.05 x 4.9 with resolution 20\n",
      "     block, center = (0,0,-1.68)\n",
      "          size (1e+20,1e+20,1.56)\n",
      "          axes (1,0,0), (0,1,0), (0,0,1)\n",
      "          dielectric constant epsilon diagonal = (2.0736,2.0736,2.0736)\n",
      "     block, center = (0,0,0.78)\n",
      "          size (1e+20,1e+20,3.36)\n",
      "          axes (1,0,0), (0,1,0), (0,0,1)\n",
      "          dielectric constant epsilon diagonal = (1.96,1.96,1.96)\n",
      "     cylinder, center = (-0.68,0.68,-0.39)\n",
      "          radius 0.201033, height 1.02, axis (0, 0, 1)\n",
      "          dielectric constant epsilon diagonal = (12.1104,12.1104,12.1104)\n",
      "     cylinder, center = (0,0.68,-0.39)\n",
      "          radius 0.215939, height 1.02, axis (0, 0, 1)\n",
      "          dielectric constant epsilon diagonal = (12.1104,12.1104,12.1104)\n",
      "     cylinder, center = (0.68,0.68,-0.39)\n",
      "          radius 0.244096, height 1.02, axis (0, 0, 1)\n",
      "          dielectric constant epsilon diagonal = (12.1104,12.1104,12.1104)\n",
      "     cylinder, center = (-0.68,0,-0.39)\n",
      "          radius 0.0825139, height 1.02, axis (0, 0, 1)\n",
      "          dielectric constant epsilon diagonal = (12.1104,12.1104,12.1104)\n",
      "     cylinder, center = (0.68,0,-0.39)\n",
      "          radius 0.116568, height 1.02, axis (0, 0, 1)\n",
      "          dielectric constant epsilon diagonal = (12.1104,12.1104,12.1104)\n",
      "     cylinder, center = (-0.68,-0.68,-0.39)\n",
      "          radius 0.210527, height 1.02, axis (0, 0, 1)\n",
      "          dielectric constant epsilon diagonal = (12.1104,12.1104,12.1104)\n",
      "     cylinder, center = (0,-0.68,-0.39)\n",
      "          radius 0.164173, height 1.02, axis (0, 0, 1)\n",
      "          dielectric constant epsilon diagonal = (12.1104,12.1104,12.1104)\n",
      "     cylinder, center = (0.68,-0.68,-0.39)\n",
      "          radius 0.0810593, height 1.02, axis (0, 0, 1)\n",
      "          dielectric constant epsilon diagonal = (12.1104,12.1104,12.1104)\n",
      "     ...(+ 1 objects not shown)...\n",
      "time for set_epsilon = 0.970956 s\n",
      "-----------\n",
      "on time step 1513 (time=37.825), 0.00264504 s/step\n",
      "field decay(t = 50.025000000000006): 0.2526617147153865 / 0.2526617147153865 = 1.0\n",
      "on time step 3128 (time=78.2), 0.00247767 s/step\n",
      "field decay(t = 100.05000000000001): 0.1291109126933728 / 0.2526617147153865 = 0.5110030731755746\n",
      "on time step 4744 (time=118.6), 0.00247568 s/step\n"
     ]
    },
    {
     "name": "stderr",
     "output_type": "stream",
     "text": [
      "Warning: grid volume is not an integer number of pixels; cell size will be rounded to nearest pixel.\n"
     ]
    },
    {
     "name": "stdout",
     "output_type": "stream",
     "text": [
      "field decay(t = 150.07500000000002): 8.413319387624221e-05 / 0.2526617147153865 = 0.0003329875045414575\n",
      "run 0 finished at t = 150.07500000000002 (6003 timesteps)\n",
      "MPB solved for frequency_1(0,0,0.903226) = 0.645161 after 17 iters\n",
      "Dominant planewave for band 1: (0.000000,0.000000,0.903226)\n"
     ]
    },
    {
     "name": "stderr",
     "output_type": "stream",
     "text": [
      " 40%|███████████████████████████▌                                         | 6/15 [01:38<02:26, 16.33s/it]Warning: grid volume is not an integer number of pixels; cell size will be rounded to nearest pixel.\n"
     ]
    },
    {
     "name": "stdout",
     "output_type": "stream",
     "text": [
      "central_index = 10\n",
      "central pillar: 0.15\n",
      "at iteration 6 the central pillar is at Vector3<0.0, 0.0, -0.39> with 0.15\n",
      "-----------\n",
      "Initializing structure...\n",
      "time for choose_chunkdivision = 4.3869e-05 s\n",
      "Working in 3D dimensions.\n",
      "Computational cell is 2.05 x 2.05 x 4.9 with resolution 20\n",
      "     block, center = (0,0,-1.68)\n",
      "          size (1e+20,1e+20,1.56)\n",
      "          axes (1,0,0), (0,1,0), (0,0,1)\n",
      "          dielectric constant epsilon diagonal = (2.0736,2.0736,2.0736)\n",
      "     block, center = (0,0,0.78)\n",
      "          size (1e+20,1e+20,3.36)\n",
      "          axes (1,0,0), (0,1,0), (0,0,1)\n",
      "          dielectric constant epsilon diagonal = (1.96,1.96,1.96)\n",
      "     cylinder, center = (-0.68,0.68,-0.39)\n",
      "          radius 0.201033, height 1.02, axis (0, 0, 1)\n",
      "          dielectric constant epsilon diagonal = (12.1104,12.1104,12.1104)\n",
      "     cylinder, center = (0,0.68,-0.39)\n",
      "          radius 0.215939, height 1.02, axis (0, 0, 1)\n",
      "          dielectric constant epsilon diagonal = (12.1104,12.1104,12.1104)\n",
      "     cylinder, center = (0.68,0.68,-0.39)\n",
      "          radius 0.244096, height 1.02, axis (0, 0, 1)\n",
      "          dielectric constant epsilon diagonal = (12.1104,12.1104,12.1104)\n",
      "     cylinder, center = (-0.68,0,-0.39)\n",
      "          radius 0.0825139, height 1.02, axis (0, 0, 1)\n",
      "          dielectric constant epsilon diagonal = (12.1104,12.1104,12.1104)\n",
      "     cylinder, center = (0.68,0,-0.39)\n",
      "          radius 0.116568, height 1.02, axis (0, 0, 1)\n",
      "          dielectric constant epsilon diagonal = (12.1104,12.1104,12.1104)\n",
      "     cylinder, center = (-0.68,-0.68,-0.39)\n",
      "          radius 0.210527, height 1.02, axis (0, 0, 1)\n",
      "          dielectric constant epsilon diagonal = (12.1104,12.1104,12.1104)\n",
      "     cylinder, center = (0,-0.68,-0.39)\n",
      "          radius 0.164173, height 1.02, axis (0, 0, 1)\n",
      "          dielectric constant epsilon diagonal = (12.1104,12.1104,12.1104)\n",
      "     cylinder, center = (0.68,-0.68,-0.39)\n",
      "          radius 0.0810593, height 1.02, axis (0, 0, 1)\n",
      "          dielectric constant epsilon diagonal = (12.1104,12.1104,12.1104)\n",
      "     ...(+ 1 objects not shown)...\n",
      "time for set_epsilon = 0.975017 s\n",
      "-----------\n",
      "on time step 1497 (time=37.425), 0.00267348 s/step\n",
      "field decay(t = 50.025000000000006): 0.41024226455728596 / 0.41024226455728596 = 1.0\n",
      "on time step 3098 (time=77.45), 0.00249982 s/step\n",
      "field decay(t = 100.05000000000001): 0.16952008265492557 / 0.41024226455728596 = 0.4132194493365125\n",
      "on time step 4702 (time=117.55), 0.00249476 s/step\n"
     ]
    },
    {
     "name": "stderr",
     "output_type": "stream",
     "text": [
      "Warning: grid volume is not an integer number of pixels; cell size will be rounded to nearest pixel.\n"
     ]
    },
    {
     "name": "stdout",
     "output_type": "stream",
     "text": [
      "field decay(t = 150.07500000000002): 0.0004121121720317225 / 0.41024226455728596 = 0.0010045580566313771\n",
      "run 0 finished at t = 150.07500000000002 (6003 timesteps)\n",
      "MPB solved for frequency_1(0,0,0.903226) = 0.645161 after 17 iters\n",
      "Dominant planewave for band 1: (0.000000,0.000000,0.903226)\n"
     ]
    },
    {
     "name": "stderr",
     "output_type": "stream",
     "text": [
      " 47%|████████████████████████████████▏                                    | 7/15 [01:54<02:10, 16.36s/it]Warning: grid volume is not an integer number of pixels; cell size will be rounded to nearest pixel.\n"
     ]
    },
    {
     "name": "stdout",
     "output_type": "stream",
     "text": [
      "central_index = 10\n",
      "central pillar: 0.16249999999999998\n",
      "at iteration 7 the central pillar is at Vector3<0.0, 0.0, -0.39> with 0.16249999999999998\n",
      "-----------\n",
      "Initializing structure...\n",
      "time for choose_chunkdivision = 4.1008e-05 s\n",
      "Working in 3D dimensions.\n",
      "Computational cell is 2.05 x 2.05 x 4.9 with resolution 20\n",
      "     block, center = (0,0,-1.68)\n",
      "          size (1e+20,1e+20,1.56)\n",
      "          axes (1,0,0), (0,1,0), (0,0,1)\n",
      "          dielectric constant epsilon diagonal = (2.0736,2.0736,2.0736)\n",
      "     block, center = (0,0,0.78)\n",
      "          size (1e+20,1e+20,3.36)\n",
      "          axes (1,0,0), (0,1,0), (0,0,1)\n",
      "          dielectric constant epsilon diagonal = (1.96,1.96,1.96)\n",
      "     cylinder, center = (-0.68,0.68,-0.39)\n",
      "          radius 0.201033, height 1.02, axis (0, 0, 1)\n",
      "          dielectric constant epsilon diagonal = (12.1104,12.1104,12.1104)\n",
      "     cylinder, center = (0,0.68,-0.39)\n",
      "          radius 0.215939, height 1.02, axis (0, 0, 1)\n",
      "          dielectric constant epsilon diagonal = (12.1104,12.1104,12.1104)\n",
      "     cylinder, center = (0.68,0.68,-0.39)\n",
      "          radius 0.244096, height 1.02, axis (0, 0, 1)\n",
      "          dielectric constant epsilon diagonal = (12.1104,12.1104,12.1104)\n",
      "     cylinder, center = (-0.68,0,-0.39)\n",
      "          radius 0.0825139, height 1.02, axis (0, 0, 1)\n",
      "          dielectric constant epsilon diagonal = (12.1104,12.1104,12.1104)\n",
      "     cylinder, center = (0.68,0,-0.39)\n",
      "          radius 0.116568, height 1.02, axis (0, 0, 1)\n",
      "          dielectric constant epsilon diagonal = (12.1104,12.1104,12.1104)\n",
      "     cylinder, center = (-0.68,-0.68,-0.39)\n",
      "          radius 0.210527, height 1.02, axis (0, 0, 1)\n",
      "          dielectric constant epsilon diagonal = (12.1104,12.1104,12.1104)\n",
      "     cylinder, center = (0,-0.68,-0.39)\n",
      "          radius 0.164173, height 1.02, axis (0, 0, 1)\n",
      "          dielectric constant epsilon diagonal = (12.1104,12.1104,12.1104)\n",
      "     cylinder, center = (0.68,-0.68,-0.39)\n",
      "          radius 0.0810593, height 1.02, axis (0, 0, 1)\n",
      "          dielectric constant epsilon diagonal = (12.1104,12.1104,12.1104)\n",
      "     ...(+ 1 objects not shown)...\n",
      "time for set_epsilon = 0.972866 s\n",
      "-----------\n",
      "on time step 1518 (time=37.95), 0.00263637 s/step\n",
      "field decay(t = 50.025000000000006): 0.47975975302893176 / 0.47975975302893176 = 1.0\n",
      "on time step 3142 (time=78.55), 0.00246417 s/step\n",
      "field decay(t = 100.05000000000001): 0.17279118966081441 / 0.47975975302893176 = 0.36016191139400205\n",
      "on time step 4768 (time=119.2), 0.00246082 s/step\n"
     ]
    },
    {
     "name": "stderr",
     "output_type": "stream",
     "text": [
      "Warning: grid volume is not an integer number of pixels; cell size will be rounded to nearest pixel.\n"
     ]
    },
    {
     "name": "stdout",
     "output_type": "stream",
     "text": [
      "field decay(t = 150.07500000000002): 0.0011457353259288153 / 0.47975975302893176 = 0.0023881438963883287\n",
      "run 0 finished at t = 150.07500000000002 (6003 timesteps)\n",
      "MPB solved for frequency_1(0,0,0.903226) = 0.645161 after 17 iters\n",
      "Dominant planewave for band 1: (0.000000,0.000000,0.903226)\n"
     ]
    },
    {
     "name": "stderr",
     "output_type": "stream",
     "text": [
      " 53%|████████████████████████████████████▊                                | 8/15 [02:10<01:54, 16.31s/it]Warning: grid volume is not an integer number of pixels; cell size will be rounded to nearest pixel.\n"
     ]
    },
    {
     "name": "stdout",
     "output_type": "stream",
     "text": [
      "central_index = 10\n",
      "central pillar: 0.175\n",
      "at iteration 8 the central pillar is at Vector3<0.0, 0.0, -0.39> with 0.175\n",
      "-----------\n",
      "Initializing structure...\n",
      "time for choose_chunkdivision = 4.00543e-05 s\n",
      "Working in 3D dimensions.\n",
      "Computational cell is 2.05 x 2.05 x 4.9 with resolution 20\n",
      "     block, center = (0,0,-1.68)\n",
      "          size (1e+20,1e+20,1.56)\n",
      "          axes (1,0,0), (0,1,0), (0,0,1)\n",
      "          dielectric constant epsilon diagonal = (2.0736,2.0736,2.0736)\n",
      "     block, center = (0,0,0.78)\n",
      "          size (1e+20,1e+20,3.36)\n",
      "          axes (1,0,0), (0,1,0), (0,0,1)\n",
      "          dielectric constant epsilon diagonal = (1.96,1.96,1.96)\n",
      "     cylinder, center = (-0.68,0.68,-0.39)\n",
      "          radius 0.201033, height 1.02, axis (0, 0, 1)\n",
      "          dielectric constant epsilon diagonal = (12.1104,12.1104,12.1104)\n",
      "     cylinder, center = (0,0.68,-0.39)\n",
      "          radius 0.215939, height 1.02, axis (0, 0, 1)\n",
      "          dielectric constant epsilon diagonal = (12.1104,12.1104,12.1104)\n",
      "     cylinder, center = (0.68,0.68,-0.39)\n",
      "          radius 0.244096, height 1.02, axis (0, 0, 1)\n",
      "          dielectric constant epsilon diagonal = (12.1104,12.1104,12.1104)\n",
      "     cylinder, center = (-0.68,0,-0.39)\n",
      "          radius 0.0825139, height 1.02, axis (0, 0, 1)\n",
      "          dielectric constant epsilon diagonal = (12.1104,12.1104,12.1104)\n",
      "     cylinder, center = (0.68,0,-0.39)\n",
      "          radius 0.116568, height 1.02, axis (0, 0, 1)\n",
      "          dielectric constant epsilon diagonal = (12.1104,12.1104,12.1104)\n",
      "     cylinder, center = (-0.68,-0.68,-0.39)\n",
      "          radius 0.210527, height 1.02, axis (0, 0, 1)\n",
      "          dielectric constant epsilon diagonal = (12.1104,12.1104,12.1104)\n",
      "     cylinder, center = (0,-0.68,-0.39)\n",
      "          radius 0.164173, height 1.02, axis (0, 0, 1)\n",
      "          dielectric constant epsilon diagonal = (12.1104,12.1104,12.1104)\n",
      "     cylinder, center = (0.68,-0.68,-0.39)\n",
      "          radius 0.0810593, height 1.02, axis (0, 0, 1)\n",
      "          dielectric constant epsilon diagonal = (12.1104,12.1104,12.1104)\n",
      "     ...(+ 1 objects not shown)...\n",
      "time for set_epsilon = 0.977774 s\n",
      "-----------\n",
      "on time step 1511 (time=37.775), 0.0026488 s/step\n",
      "field decay(t = 50.025000000000006): 0.4694806581647032 / 0.4694806581647032 = 1.0\n",
      "on time step 3125 (time=78.125), 0.00247927 s/step\n",
      "field decay(t = 100.05000000000001): 0.202119896116348 / 0.4694806581647032 = 0.43051804712568226\n",
      "on time step 4739 (time=118.475), 0.00247886 s/step\n"
     ]
    },
    {
     "name": "stderr",
     "output_type": "stream",
     "text": [
      "Warning: grid volume is not an integer number of pixels; cell size will be rounded to nearest pixel.\n"
     ]
    },
    {
     "name": "stdout",
     "output_type": "stream",
     "text": [
      "field decay(t = 150.07500000000002): 0.0003804436982661106 / 0.4694806581647032 = 0.0008103500999452109\n",
      "run 0 finished at t = 150.07500000000002 (6003 timesteps)\n",
      "MPB solved for frequency_1(0,0,0.903226) = 0.645161 after 17 iters\n",
      "Dominant planewave for band 1: (0.000000,0.000000,0.903226)\n"
     ]
    },
    {
     "name": "stderr",
     "output_type": "stream",
     "text": [
      " 60%|█████████████████████████████████████████▍                           | 9/15 [02:27<01:37, 16.31s/it]Warning: grid volume is not an integer number of pixels; cell size will be rounded to nearest pixel.\n"
     ]
    },
    {
     "name": "stdout",
     "output_type": "stream",
     "text": [
      "central_index = 10\n",
      "central pillar: 0.1875\n",
      "at iteration 9 the central pillar is at Vector3<0.0, 0.0, -0.39> with 0.1875\n",
      "-----------\n",
      "Initializing structure...\n",
      "time for choose_chunkdivision = 5.10216e-05 s\n",
      "Working in 3D dimensions.\n",
      "Computational cell is 2.05 x 2.05 x 4.9 with resolution 20\n",
      "     block, center = (0,0,-1.68)\n",
      "          size (1e+20,1e+20,1.56)\n",
      "          axes (1,0,0), (0,1,0), (0,0,1)\n",
      "          dielectric constant epsilon diagonal = (2.0736,2.0736,2.0736)\n",
      "     block, center = (0,0,0.78)\n",
      "          size (1e+20,1e+20,3.36)\n",
      "          axes (1,0,0), (0,1,0), (0,0,1)\n",
      "          dielectric constant epsilon diagonal = (1.96,1.96,1.96)\n",
      "     cylinder, center = (-0.68,0.68,-0.39)\n",
      "          radius 0.201033, height 1.02, axis (0, 0, 1)\n",
      "          dielectric constant epsilon diagonal = (12.1104,12.1104,12.1104)\n",
      "     cylinder, center = (0,0.68,-0.39)\n",
      "          radius 0.215939, height 1.02, axis (0, 0, 1)\n",
      "          dielectric constant epsilon diagonal = (12.1104,12.1104,12.1104)\n",
      "     cylinder, center = (0.68,0.68,-0.39)\n",
      "          radius 0.244096, height 1.02, axis (0, 0, 1)\n",
      "          dielectric constant epsilon diagonal = (12.1104,12.1104,12.1104)\n",
      "     cylinder, center = (-0.68,0,-0.39)\n",
      "          radius 0.0825139, height 1.02, axis (0, 0, 1)\n",
      "          dielectric constant epsilon diagonal = (12.1104,12.1104,12.1104)\n",
      "     cylinder, center = (0.68,0,-0.39)\n",
      "          radius 0.116568, height 1.02, axis (0, 0, 1)\n",
      "          dielectric constant epsilon diagonal = (12.1104,12.1104,12.1104)\n",
      "     cylinder, center = (-0.68,-0.68,-0.39)\n",
      "          radius 0.210527, height 1.02, axis (0, 0, 1)\n",
      "          dielectric constant epsilon diagonal = (12.1104,12.1104,12.1104)\n",
      "     cylinder, center = (0,-0.68,-0.39)\n",
      "          radius 0.164173, height 1.02, axis (0, 0, 1)\n",
      "          dielectric constant epsilon diagonal = (12.1104,12.1104,12.1104)\n",
      "     cylinder, center = (0.68,-0.68,-0.39)\n",
      "          radius 0.0810593, height 1.02, axis (0, 0, 1)\n",
      "          dielectric constant epsilon diagonal = (12.1104,12.1104,12.1104)\n",
      "     ...(+ 1 objects not shown)...\n",
      "time for set_epsilon = 0.986318 s\n",
      "-----------\n",
      "on time step 1489 (time=37.225), 0.00268684 s/step\n",
      "field decay(t = 50.025000000000006): 0.37761056405431 / 0.37761056405431 = 1.0\n",
      "on time step 3084 (time=77.1), 0.00250882 s/step\n",
      "field decay(t = 100.05000000000001): 0.15152205800521285 / 0.37761056405431 = 0.40126541052866344\n",
      "on time step 4678 (time=116.95), 0.00251077 s/step\n"
     ]
    },
    {
     "name": "stderr",
     "output_type": "stream",
     "text": [
      "Warning: grid volume is not an integer number of pixels; cell size will be rounded to nearest pixel.\n"
     ]
    },
    {
     "name": "stdout",
     "output_type": "stream",
     "text": [
      "field decay(t = 150.07500000000002): 0.00036095320550245794 / 0.37761056405431 = 0.0009558874667779255\n",
      "run 0 finished at t = 150.07500000000002 (6003 timesteps)\n",
      "MPB solved for frequency_1(0,0,0.903226) = 0.645161 after 17 iters\n",
      "Dominant planewave for band 1: (0.000000,0.000000,0.903226)\n"
     ]
    },
    {
     "name": "stderr",
     "output_type": "stream",
     "text": [
      " 67%|█████████████████████████████████████████████▎                      | 10/15 [02:43<01:21, 16.37s/it]Warning: grid volume is not an integer number of pixels; cell size will be rounded to nearest pixel.\n"
     ]
    },
    {
     "name": "stdout",
     "output_type": "stream",
     "text": [
      "central_index = 10\n",
      "central pillar: 0.19999999999999998\n",
      "at iteration 10 the central pillar is at Vector3<0.0, 0.0, -0.39> with 0.19999999999999998\n",
      "-----------\n",
      "Initializing structure...\n",
      "time for choose_chunkdivision = 5.4121e-05 s\n",
      "Working in 3D dimensions.\n",
      "Computational cell is 2.05 x 2.05 x 4.9 with resolution 20\n",
      "     block, center = (0,0,-1.68)\n",
      "          size (1e+20,1e+20,1.56)\n",
      "          axes (1,0,0), (0,1,0), (0,0,1)\n",
      "          dielectric constant epsilon diagonal = (2.0736,2.0736,2.0736)\n",
      "     block, center = (0,0,0.78)\n",
      "          size (1e+20,1e+20,3.36)\n",
      "          axes (1,0,0), (0,1,0), (0,0,1)\n",
      "          dielectric constant epsilon diagonal = (1.96,1.96,1.96)\n",
      "     cylinder, center = (-0.68,0.68,-0.39)\n",
      "          radius 0.201033, height 1.02, axis (0, 0, 1)\n",
      "          dielectric constant epsilon diagonal = (12.1104,12.1104,12.1104)\n",
      "     cylinder, center = (0,0.68,-0.39)\n",
      "          radius 0.215939, height 1.02, axis (0, 0, 1)\n",
      "          dielectric constant epsilon diagonal = (12.1104,12.1104,12.1104)\n",
      "     cylinder, center = (0.68,0.68,-0.39)\n",
      "          radius 0.244096, height 1.02, axis (0, 0, 1)\n",
      "          dielectric constant epsilon diagonal = (12.1104,12.1104,12.1104)\n",
      "     cylinder, center = (-0.68,0,-0.39)\n",
      "          radius 0.0825139, height 1.02, axis (0, 0, 1)\n",
      "          dielectric constant epsilon diagonal = (12.1104,12.1104,12.1104)\n",
      "     cylinder, center = (0.68,0,-0.39)\n",
      "          radius 0.116568, height 1.02, axis (0, 0, 1)\n",
      "          dielectric constant epsilon diagonal = (12.1104,12.1104,12.1104)\n",
      "     cylinder, center = (-0.68,-0.68,-0.39)\n",
      "          radius 0.210527, height 1.02, axis (0, 0, 1)\n",
      "          dielectric constant epsilon diagonal = (12.1104,12.1104,12.1104)\n",
      "     cylinder, center = (0,-0.68,-0.39)\n",
      "          radius 0.164173, height 1.02, axis (0, 0, 1)\n",
      "          dielectric constant epsilon diagonal = (12.1104,12.1104,12.1104)\n",
      "     cylinder, center = (0.68,-0.68,-0.39)\n",
      "          radius 0.0810593, height 1.02, axis (0, 0, 1)\n",
      "          dielectric constant epsilon diagonal = (12.1104,12.1104,12.1104)\n",
      "     ...(+ 1 objects not shown)...\n",
      "time for set_epsilon = 0.976357 s\n",
      "-----------\n",
      "on time step 1499 (time=37.475), 0.00266892 s/step\n",
      "field decay(t = 50.025000000000006): 0.2717165982379387 / 0.2717165982379387 = 1.0\n",
      "on time step 3102 (time=77.55), 0.00249629 s/step\n",
      "field decay(t = 100.05000000000001): 0.07122123434282863 / 0.2717165982379387 = 0.26211587663283314\n",
      "on time step 4707 (time=117.675), 0.00249259 s/step\n"
     ]
    },
    {
     "name": "stderr",
     "output_type": "stream",
     "text": [
      "Warning: grid volume is not an integer number of pixels; cell size will be rounded to nearest pixel.\n"
     ]
    },
    {
     "name": "stdout",
     "output_type": "stream",
     "text": [
      "field decay(t = 150.07500000000002): 0.0011029715666945647 / 0.2717165982379387 = 0.004059271954114142\n",
      "run 0 finished at t = 150.07500000000002 (6003 timesteps)\n",
      "MPB solved for frequency_1(0,0,0.903226) = 0.645161 after 17 iters\n",
      "Dominant planewave for band 1: (0.000000,0.000000,0.903226)\n"
     ]
    },
    {
     "name": "stderr",
     "output_type": "stream",
     "text": [
      " 73%|█████████████████████████████████████████████████▊                  | 11/15 [03:00<01:05, 16.38s/it]Warning: grid volume is not an integer number of pixels; cell size will be rounded to nearest pixel.\n"
     ]
    },
    {
     "name": "stdout",
     "output_type": "stream",
     "text": [
      "central_index = 10\n",
      "central pillar: 0.21249999999999997\n",
      "at iteration 11 the central pillar is at Vector3<0.0, 0.0, -0.39> with 0.21249999999999997\n",
      "-----------\n",
      "Initializing structure...\n",
      "time for choose_chunkdivision = 4.29153e-05 s\n",
      "Working in 3D dimensions.\n",
      "Computational cell is 2.05 x 2.05 x 4.9 with resolution 20\n",
      "     block, center = (0,0,-1.68)\n",
      "          size (1e+20,1e+20,1.56)\n",
      "          axes (1,0,0), (0,1,0), (0,0,1)\n",
      "          dielectric constant epsilon diagonal = (2.0736,2.0736,2.0736)\n",
      "     block, center = (0,0,0.78)\n",
      "          size (1e+20,1e+20,3.36)\n",
      "          axes (1,0,0), (0,1,0), (0,0,1)\n",
      "          dielectric constant epsilon diagonal = (1.96,1.96,1.96)\n",
      "     cylinder, center = (-0.68,0.68,-0.39)\n",
      "          radius 0.201033, height 1.02, axis (0, 0, 1)\n",
      "          dielectric constant epsilon diagonal = (12.1104,12.1104,12.1104)\n",
      "     cylinder, center = (0,0.68,-0.39)\n",
      "          radius 0.215939, height 1.02, axis (0, 0, 1)\n",
      "          dielectric constant epsilon diagonal = (12.1104,12.1104,12.1104)\n",
      "     cylinder, center = (0.68,0.68,-0.39)\n",
      "          radius 0.244096, height 1.02, axis (0, 0, 1)\n",
      "          dielectric constant epsilon diagonal = (12.1104,12.1104,12.1104)\n",
      "     cylinder, center = (-0.68,0,-0.39)\n",
      "          radius 0.0825139, height 1.02, axis (0, 0, 1)\n",
      "          dielectric constant epsilon diagonal = (12.1104,12.1104,12.1104)\n",
      "     cylinder, center = (0.68,0,-0.39)\n",
      "          radius 0.116568, height 1.02, axis (0, 0, 1)\n",
      "          dielectric constant epsilon diagonal = (12.1104,12.1104,12.1104)\n",
      "     cylinder, center = (-0.68,-0.68,-0.39)\n",
      "          radius 0.210527, height 1.02, axis (0, 0, 1)\n",
      "          dielectric constant epsilon diagonal = (12.1104,12.1104,12.1104)\n",
      "     cylinder, center = (0,-0.68,-0.39)\n",
      "          radius 0.164173, height 1.02, axis (0, 0, 1)\n",
      "          dielectric constant epsilon diagonal = (12.1104,12.1104,12.1104)\n",
      "     cylinder, center = (0.68,-0.68,-0.39)\n",
      "          radius 0.0810593, height 1.02, axis (0, 0, 1)\n",
      "          dielectric constant epsilon diagonal = (12.1104,12.1104,12.1104)\n",
      "     ...(+ 1 objects not shown)...\n",
      "time for set_epsilon = 0.980577 s\n",
      "-----------\n",
      "on time step 1467 (time=36.675), 0.00272788 s/step\n",
      "field decay(t = 50.025000000000006): 0.21091995060555987 / 0.21091995060555987 = 1.0\n",
      "on time step 3039 (time=75.975), 0.0025455 s/step\n",
      "field decay(t = 100.05000000000001): 0.04948414423007453 / 0.21091995060555987 = 0.23461101753534225\n",
      "on time step 4614 (time=115.35), 0.00254095 s/step\n"
     ]
    },
    {
     "name": "stderr",
     "output_type": "stream",
     "text": [
      "Warning: grid volume is not an integer number of pixels; cell size will be rounded to nearest pixel.\n"
     ]
    },
    {
     "name": "stdout",
     "output_type": "stream",
     "text": [
      "field decay(t = 150.07500000000002): 0.0007820397833472778 / 0.21091995060555987 = 0.0037077563364774613\n",
      "run 0 finished at t = 150.07500000000002 (6003 timesteps)\n",
      "MPB solved for frequency_1(0,0,0.903226) = 0.645161 after 17 iters\n",
      "Dominant planewave for band 1: (0.000000,0.000000,0.903226)\n"
     ]
    },
    {
     "name": "stderr",
     "output_type": "stream",
     "text": [
      " 80%|██████████████████████████████████████████████████████▍             | 12/15 [03:16<00:49, 16.49s/it]Warning: grid volume is not an integer number of pixels; cell size will be rounded to nearest pixel.\n"
     ]
    },
    {
     "name": "stdout",
     "output_type": "stream",
     "text": [
      "central_index = 10\n",
      "central pillar: 0.22499999999999998\n",
      "at iteration 12 the central pillar is at Vector3<0.0, 0.0, -0.39> with 0.22499999999999998\n",
      "-----------\n",
      "Initializing structure...\n",
      "time for choose_chunkdivision = 4.31538e-05 s\n",
      "Working in 3D dimensions.\n",
      "Computational cell is 2.05 x 2.05 x 4.9 with resolution 20\n",
      "     block, center = (0,0,-1.68)\n",
      "          size (1e+20,1e+20,1.56)\n",
      "          axes (1,0,0), (0,1,0), (0,0,1)\n",
      "          dielectric constant epsilon diagonal = (2.0736,2.0736,2.0736)\n",
      "     block, center = (0,0,0.78)\n",
      "          size (1e+20,1e+20,3.36)\n",
      "          axes (1,0,0), (0,1,0), (0,0,1)\n",
      "          dielectric constant epsilon diagonal = (1.96,1.96,1.96)\n",
      "     cylinder, center = (-0.68,0.68,-0.39)\n",
      "          radius 0.201033, height 1.02, axis (0, 0, 1)\n",
      "          dielectric constant epsilon diagonal = (12.1104,12.1104,12.1104)\n",
      "     cylinder, center = (0,0.68,-0.39)\n",
      "          radius 0.215939, height 1.02, axis (0, 0, 1)\n",
      "          dielectric constant epsilon diagonal = (12.1104,12.1104,12.1104)\n",
      "     cylinder, center = (0.68,0.68,-0.39)\n",
      "          radius 0.244096, height 1.02, axis (0, 0, 1)\n",
      "          dielectric constant epsilon diagonal = (12.1104,12.1104,12.1104)\n",
      "     cylinder, center = (-0.68,0,-0.39)\n",
      "          radius 0.0825139, height 1.02, axis (0, 0, 1)\n",
      "          dielectric constant epsilon diagonal = (12.1104,12.1104,12.1104)\n",
      "     cylinder, center = (0.68,0,-0.39)\n",
      "          radius 0.116568, height 1.02, axis (0, 0, 1)\n",
      "          dielectric constant epsilon diagonal = (12.1104,12.1104,12.1104)\n",
      "     cylinder, center = (-0.68,-0.68,-0.39)\n",
      "          radius 0.210527, height 1.02, axis (0, 0, 1)\n",
      "          dielectric constant epsilon diagonal = (12.1104,12.1104,12.1104)\n",
      "     cylinder, center = (0,-0.68,-0.39)\n",
      "          radius 0.164173, height 1.02, axis (0, 0, 1)\n",
      "          dielectric constant epsilon diagonal = (12.1104,12.1104,12.1104)\n",
      "     cylinder, center = (0.68,-0.68,-0.39)\n",
      "          radius 0.0810593, height 1.02, axis (0, 0, 1)\n",
      "          dielectric constant epsilon diagonal = (12.1104,12.1104,12.1104)\n",
      "     ...(+ 1 objects not shown)...\n",
      "time for set_epsilon = 0.991118 s\n",
      "-----------\n",
      "on time step 1489 (time=37.225), 0.00268695 s/step\n",
      "field decay(t = 50.025000000000006): 0.17852225389332083 / 0.17852225389332083 = 1.0\n",
      "on time step 3083 (time=77.075), 0.00251061 s/step\n",
      "field decay(t = 100.05000000000001): 0.0510925853469478 / 0.17852225389332083 = 0.2861972904368499\n",
      "on time step 4679 (time=116.975), 0.00250699 s/step\n"
     ]
    },
    {
     "name": "stderr",
     "output_type": "stream",
     "text": [
      "Warning: grid volume is not an integer number of pixels; cell size will be rounded to nearest pixel.\n"
     ]
    },
    {
     "name": "stdout",
     "output_type": "stream",
     "text": [
      "field decay(t = 150.07500000000002): 0.0009418274832716622 / 0.17852225389332083 = 0.005275686715419065\n",
      "run 0 finished at t = 150.07500000000002 (6003 timesteps)\n",
      "MPB solved for frequency_1(0,0,0.903226) = 0.645161 after 17 iters\n",
      "Dominant planewave for band 1: (0.000000,0.000000,0.903226)\n"
     ]
    },
    {
     "name": "stderr",
     "output_type": "stream",
     "text": [
      " 87%|██████████████████████████████████████████████████████████▉         | 13/15 [03:33<00:32, 16.49s/it]Warning: grid volume is not an integer number of pixels; cell size will be rounded to nearest pixel.\n"
     ]
    },
    {
     "name": "stdout",
     "output_type": "stream",
     "text": [
      "central_index = 10\n",
      "central pillar: 0.2375\n",
      "at iteration 13 the central pillar is at Vector3<0.0, 0.0, -0.39> with 0.2375\n",
      "-----------\n",
      "Initializing structure...\n",
      "time for choose_chunkdivision = 4.29153e-05 s\n",
      "Working in 3D dimensions.\n",
      "Computational cell is 2.05 x 2.05 x 4.9 with resolution 20\n",
      "     block, center = (0,0,-1.68)\n",
      "          size (1e+20,1e+20,1.56)\n",
      "          axes (1,0,0), (0,1,0), (0,0,1)\n",
      "          dielectric constant epsilon diagonal = (2.0736,2.0736,2.0736)\n",
      "     block, center = (0,0,0.78)\n",
      "          size (1e+20,1e+20,3.36)\n",
      "          axes (1,0,0), (0,1,0), (0,0,1)\n",
      "          dielectric constant epsilon diagonal = (1.96,1.96,1.96)\n",
      "     cylinder, center = (-0.68,0.68,-0.39)\n",
      "          radius 0.201033, height 1.02, axis (0, 0, 1)\n",
      "          dielectric constant epsilon diagonal = (12.1104,12.1104,12.1104)\n",
      "     cylinder, center = (0,0.68,-0.39)\n",
      "          radius 0.215939, height 1.02, axis (0, 0, 1)\n",
      "          dielectric constant epsilon diagonal = (12.1104,12.1104,12.1104)\n",
      "     cylinder, center = (0.68,0.68,-0.39)\n",
      "          radius 0.244096, height 1.02, axis (0, 0, 1)\n",
      "          dielectric constant epsilon diagonal = (12.1104,12.1104,12.1104)\n",
      "     cylinder, center = (-0.68,0,-0.39)\n",
      "          radius 0.0825139, height 1.02, axis (0, 0, 1)\n",
      "          dielectric constant epsilon diagonal = (12.1104,12.1104,12.1104)\n",
      "     cylinder, center = (0.68,0,-0.39)\n",
      "          radius 0.116568, height 1.02, axis (0, 0, 1)\n",
      "          dielectric constant epsilon diagonal = (12.1104,12.1104,12.1104)\n",
      "     cylinder, center = (-0.68,-0.68,-0.39)\n",
      "          radius 0.210527, height 1.02, axis (0, 0, 1)\n",
      "          dielectric constant epsilon diagonal = (12.1104,12.1104,12.1104)\n",
      "     cylinder, center = (0,-0.68,-0.39)\n",
      "          radius 0.164173, height 1.02, axis (0, 0, 1)\n",
      "          dielectric constant epsilon diagonal = (12.1104,12.1104,12.1104)\n",
      "     cylinder, center = (0.68,-0.68,-0.39)\n",
      "          radius 0.0810593, height 1.02, axis (0, 0, 1)\n",
      "          dielectric constant epsilon diagonal = (12.1104,12.1104,12.1104)\n",
      "     ...(+ 1 objects not shown)...\n",
      "time for set_epsilon = 0.992137 s\n",
      "-----------\n",
      "on time step 1470 (time=36.75), 0.00272144 s/step\n",
      "field decay(t = 50.025000000000006): 0.16923500620664186 / 0.16923500620664186 = 1.0\n",
      "on time step 3043 (time=76.075), 0.00254401 s/step\n",
      "field decay(t = 100.05000000000001): 0.05487953027808532 / 0.16923500620664186 = 0.3242800145678814\n",
      "on time step 4618 (time=115.45), 0.00254068 s/step\n",
      "field decay(t = 150.07500000000002): 0.002068354916885846 / 0.16923500620664186 = 0.012221791243120896\n",
      "on time step 6199 (time=154.975), 0.00253084 s/step\n",
      "on time step 7777 (time=194.425), 0.00253596 s/step\n"
     ]
    },
    {
     "name": "stderr",
     "output_type": "stream",
     "text": [
      "Warning: grid volume is not an integer number of pixels; cell size will be rounded to nearest pixel.\n"
     ]
    },
    {
     "name": "stdout",
     "output_type": "stream",
     "text": [
      "field decay(t = 200.10000000000002): 0.00016136777791661658 / 0.16923500620664186 = 0.0009535129967116903\n",
      "run 0 finished at t = 200.10000000000002 (8004 timesteps)\n",
      "MPB solved for frequency_1(0,0,0.903226) = 0.645161 after 17 iters\n",
      "Dominant planewave for band 1: (0.000000,0.000000,0.903226)\n"
     ]
    },
    {
     "name": "stderr",
     "output_type": "stream",
     "text": [
      " 93%|███████████████████████████████████████████████████████████████▍    | 14/15 [03:55<00:18, 18.09s/it]Warning: grid volume is not an integer number of pixels; cell size will be rounded to nearest pixel.\n"
     ]
    },
    {
     "name": "stdout",
     "output_type": "stream",
     "text": [
      "central_index = 10\n",
      "central pillar: 0.25\n",
      "at iteration 14 the central pillar is at Vector3<0.0, 0.0, -0.39> with 0.25\n",
      "-----------\n",
      "Initializing structure...\n",
      "time for choose_chunkdivision = 4.31538e-05 s\n",
      "Working in 3D dimensions.\n",
      "Computational cell is 2.05 x 2.05 x 4.9 with resolution 20\n",
      "     block, center = (0,0,-1.68)\n",
      "          size (1e+20,1e+20,1.56)\n",
      "          axes (1,0,0), (0,1,0), (0,0,1)\n",
      "          dielectric constant epsilon diagonal = (2.0736,2.0736,2.0736)\n",
      "     block, center = (0,0,0.78)\n",
      "          size (1e+20,1e+20,3.36)\n",
      "          axes (1,0,0), (0,1,0), (0,0,1)\n",
      "          dielectric constant epsilon diagonal = (1.96,1.96,1.96)\n",
      "     cylinder, center = (-0.68,0.68,-0.39)\n",
      "          radius 0.201033, height 1.02, axis (0, 0, 1)\n",
      "          dielectric constant epsilon diagonal = (12.1104,12.1104,12.1104)\n",
      "     cylinder, center = (0,0.68,-0.39)\n",
      "          radius 0.215939, height 1.02, axis (0, 0, 1)\n",
      "          dielectric constant epsilon diagonal = (12.1104,12.1104,12.1104)\n",
      "     cylinder, center = (0.68,0.68,-0.39)\n",
      "          radius 0.244096, height 1.02, axis (0, 0, 1)\n",
      "          dielectric constant epsilon diagonal = (12.1104,12.1104,12.1104)\n",
      "     cylinder, center = (-0.68,0,-0.39)\n",
      "          radius 0.0825139, height 1.02, axis (0, 0, 1)\n",
      "          dielectric constant epsilon diagonal = (12.1104,12.1104,12.1104)\n",
      "     cylinder, center = (0.68,0,-0.39)\n",
      "          radius 0.116568, height 1.02, axis (0, 0, 1)\n",
      "          dielectric constant epsilon diagonal = (12.1104,12.1104,12.1104)\n",
      "     cylinder, center = (-0.68,-0.68,-0.39)\n",
      "          radius 0.210527, height 1.02, axis (0, 0, 1)\n",
      "          dielectric constant epsilon diagonal = (12.1104,12.1104,12.1104)\n",
      "     cylinder, center = (0,-0.68,-0.39)\n",
      "          radius 0.164173, height 1.02, axis (0, 0, 1)\n",
      "          dielectric constant epsilon diagonal = (12.1104,12.1104,12.1104)\n",
      "     cylinder, center = (0.68,-0.68,-0.39)\n",
      "          radius 0.0810593, height 1.02, axis (0, 0, 1)\n",
      "          dielectric constant epsilon diagonal = (12.1104,12.1104,12.1104)\n",
      "     ...(+ 1 objects not shown)...\n",
      "time for set_epsilon = 0.99694 s\n",
      "-----------\n",
      "on time step 1491 (time=37.275), 0.00268352 s/step\n",
      "field decay(t = 50.025000000000006): 0.1445308398375637 / 0.1445308398375637 = 1.0\n",
      "on time step 3087 (time=77.175), 0.00250742 s/step\n",
      "field decay(t = 100.05000000000001): 0.05123368317215826 / 0.1445308398375637 = 0.3544827057653517\n",
      "on time step 4683 (time=117.075), 0.00250644 s/step\n",
      "field decay(t = 150.07500000000002): 0.004425775204900997 / 0.1445308398375637 = 0.030621666696706854\n",
      "on time step 6279 (time=156.975), 0.00250715 s/step\n",
      "on time step 7875 (time=196.875), 0.00250653 s/step\n"
     ]
    },
    {
     "name": "stderr",
     "output_type": "stream",
     "text": [
      "Warning: grid volume is not an integer number of pixels; cell size will be rounded to nearest pixel.\n"
     ]
    },
    {
     "name": "stdout",
     "output_type": "stream",
     "text": [
      "field decay(t = 200.10000000000002): 0.00014244099122924208 / 0.1445308398375637 = 0.0009855404658917753\n",
      "run 0 finished at t = 200.10000000000002 (8004 timesteps)\n",
      "MPB solved for frequency_1(0,0,0.903226) = 0.645161 after 17 iters\n",
      "Dominant planewave for band 1: (0.000000,0.000000,0.903226)\n"
     ]
    },
    {
     "name": "stderr",
     "output_type": "stream",
     "text": [
      "                                                                                                         \r"
     ]
    }
   ],
   "source": [
    "pbar = tqdm(total=num,leave=False)\n",
    "central_index = None\n",
    "for i,radius in enumerate(np.linspace(0.075,0.25,num=num)):\n",
    "    for j, pillar in enumerate(geometry):\n",
    "        if pillar.center == mp.Vector3(0,0,center_pillar):\n",
    "            central_index = j\n",
    "            print(f\"central_index = {j}\")\n",
    "    if central_index is not None:\n",
    "        geometry.pop(central_index)\n",
    "    print(f\"central pillar: {radius}\")\n",
    "    geometry.append(mp.Cylinder(radius=radius,\n",
    "                        height=height_pillar,\n",
    "                        axis=mp.Vector3(0,0,1),\n",
    "                        center=mp.Vector3(0,0,center_pillar),\n",
    "                        material=mp.Medium(index=n_amorphousSi)))\n",
    "\n",
    "    print(f\"at iteration {i} the central pillar is at {geometry[central_index].center} with {geometry[central_index].radius}\")\n",
    "    sim = mp.Simulation(cell_size=cell_size,\n",
    "                        geometry=geometry,\n",
    "                        sources=sources,\n",
    "                        k_point=k_point,\n",
    "                        boundary_layers=pml_layers,\n",
    "                        #symmetries=symmetries,\n",
    "                        resolution=resolution)\n",
    "    \n",
    "    flux_object = sim.add_flux(freq, df, nfreq, fr)  \n",
    "    dft_object = sim.add_dft_fields([mp.Ex, mp.Ey, mp.Ez], freq, df, nfreq, where=where)\n",
    "    \n",
    "    run_sim()\n",
    "    \n",
    "    res = sim.get_eigenmode_coefficients(flux_object, [1], eig_parity=mp.ODD_Y)\n",
    "    coeffs = res.alpha\n",
    "\n",
    "    flux = abs(coeffs[0,0,0]**2)\n",
    "    phase = np.angle(coeffs[0,0,0]) \n",
    "    \n",
    "    data[0,i] = radius\n",
    "    data[1,i] = flux\n",
    "    data[2,i] = phase\n",
    "    # if(radius!=0.25):\n",
    "    #     sim.reset_meep()\n",
    "    #     print(f\"i= {i},radius={radius}\")\n",
    "    #     geometry.pop(5)\n",
    "    dfts.append([sim.get_dft_array(dft_object, mp.Ex, 0), sim.get_dft_array(dft_object, mp.Ey, 0), sim.get_dft_array(dft_object, mp.Ez, 0)])\n",
    "\n",
    "    pbar.update(1)\n",
    "pbar.close()"
   ]
  },
  {
   "cell_type": "code",
   "execution_count": 18,
   "id": "feab9414-df63-456d-9fe1-89076d199f75",
   "metadata": {},
   "outputs": [],
   "source": [
    "def get_intensity(Ex, Ey, Ez):\n",
    "    E_0 = np.sqrt((abs(Ex)**2 + abs(Ey)**2 + abs(Ez)**2))\n",
    "    I = 0.5 * E_0**2\n",
    "    return(np.mean(I))\n",
    "\n",
    "initial_I = get_intensity(initial_dft[0], initial_dft[1], initial_dft[2])\n",
    "I_list = []\n",
    "\n",
    "for dft in dfts:\n",
    "    I = get_intensity(dft[0], dft[1], dft[2])\n",
    "    I_list.append(I / initial_I)"
   ]
  },
  {
   "cell_type": "code",
   "execution_count": 29,
   "id": "a7d27040-c638-4d3b-8454-382a82ddf48a",
   "metadata": {},
   "outputs": [
    {
     "data": {
      "image/png": "[encoded data removed]",
      "text/plain": [
       "<Figure size 800x500 with 1 Axes>"
      ]
     },
     "metadata": {},
     "output_type": "display_data"
    }
   ],
   "source": [
    "radii = data[0,:]\n",
    "flux_list = data[1,0:] / initial_flux\n",
    "phase_list = data[2,0:]\n",
    "\n",
    "#plt.style.use('seaborn')\n",
    "\n",
    "results = {\"radii\": radii, \"flux\": flux_list, \"phase\": phase_list}\n",
    "# this section plots radius vs. phase and transmission\n",
    "plt.style.use('seaborn-v0_8')\n",
    "\n",
    "tickfontsize=14\n",
    "labelfontsize=16\n",
    "titlefontsize=22\n",
    "padding = 0.02\n",
    "plt.close(\"all\")\n",
    "fig,ax = plt.subplots(figsize=(8,5)) # may want to change. Also see DPI keyword\n",
    "\n",
    "fig.suptitle(\"Meta-atom transmission\",fontsize=titlefontsize)\n",
    "\n",
    "ax.set_xlabel(\"Central pillar radius (nm)\",fontsize=labelfontsize)\n",
    "ax.set_xticks([0.075,0.100,0.125,0.150,0.175,0.200,0.225,0.250])\n",
    "ax.set_xticklabels([75,100,125,150,175,200,225,250],fontsize=tickfontsize)\n",
    "ax.set_ylim([0,1+padding])\n",
    "ax.set_ylabel(r'Percent transmitted ($\\%$)',fontsize=labelfontsize, color = 'blue')\n",
    "ax.plot(radii,flux_list,'b',label='Flux object')\n",
    "ax.plot(radii,I_list,'green',label='Dft object')\n",
    "ax.tick_params(axis='y', labelcolor = 'blue')\n",
    "\n",
    "ax.set_yticks([0,0.2,0.4,0.6,0.8,1])\n",
    "ax.set_yticklabels([0, 20,40,60,80,100],fontsize=tickfontsize)\n",
    "\n",
    "ax.legend(frameon=True, edgecolor='dimgrey')\n",
    "# twin1 = ax.twinx()\n",
    "\n",
    "# twin1.set_ylim([-np.pi,np.pi])\n",
    "# twin1.set_ylabel(r'Phase Delay (rad)',fontsize=labelfontsize, color = 'red')\n",
    "# twin1.set_yticks([-np.pi, -(0.5*np.pi),0, np.pi / 2, np.pi])\n",
    "# twin1.set_yticklabels([r'-$\\pi$',r'-$\\frac{\\pi}{2}$',r'0',r'$\\frac{\\pi}{2}$',r'$\\pi$'],fontsize=tickfontsize+4)\n",
    "# twin1.plot(radii,phase_list,'r',label='Phase')\n",
    "# twin1.tick_params(axis='y', labelcolor = 'red')\n",
    "\n",
    "plt.grid(False)\n",
    "plt.tight_layout()"
   ]
  },
  {
   "cell_type": "code",
   "execution_count": null,
   "id": "3ac05b62-00da-4abb-8977-83a3584f4040",
   "metadata": {},
   "outputs": [],
   "source": [
    "plt.close(\"all\")\n",
    "plt.figure(figsize=(8,8))\n",
    "plot_plane = mp.Volume(center=mp.Vector3(0,0,fr_center),\n",
    "                            size=mp.Vector3(cell_x,cell_y,0))\n",
    "sim.plot2D(output_plane=plot_plane,\n",
    "           #fields=mp.Ey\n",
    "           )\n",
    "plt.grid(False)"
   ]
  },
  {
   "cell_type": "code",
   "execution_count": 31,
   "id": "9deb9b4f-a44f-4e3b-b13d-661642007439",
   "metadata": {},
   "outputs": [],
   "source": [
    "sim.reset_meep()"
   ]
  },
  {
   "cell_type": "markdown",
   "id": "97a15fff-3215-49a7-87e4-bb46b0b5f0d6",
   "metadata": {},
   "source": [
    "## it would be interesting to see these characteristics for different random neighbors, as well as uniform neighbors"
   ]
  },
  {
   "cell_type": "code",
   "execution_count": null,
   "id": "a1ea0acc-4dd8-4107-8409-bd577c228e1f",
   "metadata": {},
   "outputs": [],
   "source": []
  }
 ],
 "metadata": {
  "kernelspec": {
   "display_name": "Python 3 (ipykernel)",
   "language": "python",
   "name": "python3"
  },
  "language_info": {
   "codemirror_mode": {
    "name": "ipython",
    "version": 3
   },
   "file_extension": ".py",
   "mimetype": "text/x-python",
   "name": "python",
   "nbconvert_exporter": "python",
   "pygments_lexer": "ipython3",
   "version": "3.10.12"
  }
 },
 "nbformat": 4,
 "nbformat_minor": 5
}
