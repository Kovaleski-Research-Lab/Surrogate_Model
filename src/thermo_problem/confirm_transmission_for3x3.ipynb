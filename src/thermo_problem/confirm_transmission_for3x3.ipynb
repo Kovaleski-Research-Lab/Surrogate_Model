{
 "cells": [
  {
   "cell_type": "code",
   "execution_count": 1,
   "id": "25c4963d-d1c5-47a5-94f9-95ca2d4cff01",
   "metadata": {},
   "outputs": [
    {
     "name": "stdout",
     "output_type": "stream",
     "text": [
      "Using MPI version 4.0, 1 processes\n"
     ]
    }
   ],
   "source": [
    "import os\n",
    "import pickle\n",
    "import shutil \n",
    "\n",
    "import meep as mp\n",
    "import numpy as np\n",
    "import matplotlib.pyplot as plt\n",
    "from tqdm import tqdm\n",
    "import math\n",
    "from IPython import embed\n",
    "import random"
   ]
  },
  {
   "cell_type": "code",
   "execution_count": 2,
   "id": "77525e40-e3a0-4f00-8442-1f2d2292d4c8",
   "metadata": {},
   "outputs": [],
   "source": [
    "resolution = 20\n",
    "\n",
    "n_fusedSilica = 1.44\n",
    "n_PDMS = 1.4\n",
    "n_amorphousSi = 3.48\n",
    "\n",
    "a = 0.680   # lattice period \n",
    "\n",
    "pml_thickness = 0.780\n",
    "height_pillar = 1.020\n",
    "width_PDMS = 1.560\n",
    "width_fusedSilica = 0.780\n",
    "\n",
    "cell_x = a * 3\n",
    "cell_y = a * 3\n",
    "cell_z = round(2*pml_thickness + width_PDMS + height_pillar +  width_fusedSilica, 3)\n",
    "\n",
    "center_PDMS = round(0.5*(height_pillar + width_PDMS + pml_thickness) \n",
    "                    + (pml_thickness + width_fusedSilica) - 0.5*cell_z, 3)\n",
    "center_fusedSilica = round(0.5*(pml_thickness + width_fusedSilica) - 0.5*cell_z, 3)\n",
    "center_pillar = round(pml_thickness + width_fusedSilica + 0.5*height_pillar\n",
    "                    - 0.5*cell_z, 3) \n",
    "\n",
    "z_fusedSilica = pml_thickness + width_fusedSilica\n",
    "z_PDMS = height_pillar + width_PDMS + pml_thickness"
   ]
  },
  {
   "cell_type": "code",
   "execution_count": 3,
   "id": "1953bd0b-78eb-41f7-8100-1d538da7161d",
   "metadata": {},
   "outputs": [],
   "source": [
    "geometry = [mp.Block(size=mp.Vector3(mp.inf,mp.inf,z_fusedSilica), \n",
    "                    center=mp.Vector3(0,0,center_fusedSilica),\n",
    "                    material=mp.Medium(index=n_fusedSilica)),\n",
    "            mp.Block(size=mp.Vector3(mp.inf,mp.inf,z_PDMS),\n",
    "                    center=mp.Vector3(0,0,center_PDMS),\n",
    "                    material=mp.Medium(index=n_PDMS))]\n",
    "\n",
    "k_point = mp.Vector3(0,0,0)\n",
    "#k_point = mp.Vector3(np.radians(35), 0, 0)  # k vector defines normal to the plane of propagation\n",
    "\n",
    "wavelength = 1.55\n",
    "freq = 1 / wavelength\n",
    "\n",
    "## initialize matrix for data collection ##\n",
    "##########################################\n",
    "\n",
    "num = 6 # this is the number of pillars we will build\n",
    "data = np.zeros((3,num))\n",
    "dfts = []\n",
    "\n",
    "## set up and build source ##\n",
    "############################\n",
    "\n",
    "center_source = round(pml_thickness + width_fusedSilica*0.2 - 0.5*cell_z, 3) \n",
    "source_cmpt = mp.Ey\n",
    "\n",
    "fcen = freq\n",
    "#fwidth=0.2*freq\n",
    "fwidth=0.7741935483870968\n",
    "\n",
    "# sources = [mp.Source(mp.GaussianSource(fcen, fwidth=fwidth), component = source_cmpt,\n",
    "#                             center=mp.Vector3(0,0,center_source),\n",
    "#                             size=mp.Vector3(cell_x,cell_y,0))]\n",
    "sources = [mp.Source(mp.GaussianSource(fcen, fwidth=fwidth),\n",
    "                            component = source_cmpt,\n",
    "                            center=mp.Vector3(0,0,center_source),\n",
    "                            size=mp.Vector3(cell_x,cell_y,0))]\n",
    "#testing this as the stop_when_fields_decay point\n",
    "fr_center = round(0.5*cell_z - pml_thickness - 0.3*width_PDMS, 3)\n",
    "#def run_sim():\n",
    "#    sim.run(until_after_sources=mp.stop_when_fields_decayed(50, source_cmpt, mp.Vector3(0, 0, cell_z), 1e-2))\n",
    "\n",
    "def run_sim():\n",
    "    sim.run(until_after_sources = mp.stop_when_fields_decayed(50, source_cmpt, mp.Vector3(0, 0, fr_center), 1e-2))"
   ]
  },
  {
   "cell_type": "code",
   "execution_count": 4,
   "id": "b3e57a1e-df07-4d04-95ee-e03f5f3db930",
   "metadata": {},
   "outputs": [
    {
     "name": "stderr",
     "output_type": "stream",
     "text": [
      "Warning: grid volume is not an integer number of pixels; cell size will be rounded to nearest pixel.\n"
     ]
    },
    {
     "name": "stdout",
     "output_type": "stream",
     "text": [
      "-----------\n",
      "Initializing structure...\n",
      "time for choose_chunkdivision = 0.000108004 s\n",
      "Working in 3D dimensions.\n",
      "Computational cell is 2.05 x 2.05 x 4.9 with resolution 20\n",
      "     block, center = (0,0,-1.68)\n",
      "          size (1e+20,1e+20,1.56)\n",
      "          axes (1,0,0), (0,1,0), (0,0,1)\n",
      "          dielectric constant epsilon diagonal = (2.0736,2.0736,2.0736)\n",
      "     block, center = (0,0,0.78)\n",
      "          size (1e+20,1e+20,3.36)\n",
      "          axes (1,0,0), (0,1,0), (0,0,1)\n",
      "          dielectric constant epsilon diagonal = (1.96,1.96,1.96)\n",
      "time for set_epsilon = 0.909291 s\n",
      "-----------\n",
      "on time step 1243 (time=31.075), 0.00321841 s/step\n",
      "field decay(t = 50.025000000000006): 0.11629336650951468 / 0.11629336650951468 = 1.0\n",
      "on time step 2822 (time=70.55), 0.00253391 s/step\n",
      "field decay(t = 100.05000000000001): 7.036744192440498e-07 / 0.11629336650951468 = 6.050856040756872e-06\n",
      "run 0 finished at t = 100.05000000000001 (4002 timesteps)\n"
     ]
    }
   ],
   "source": [
    "cell_size = mp.Vector3(cell_x,cell_y,cell_z)\n",
    "pml_layers = [mp.PML(thickness = pml_thickness, direction = mp.Z)]\n",
    "\n",
    "sim = mp.Simulation(cell_size=cell_size,\n",
    "                    geometry=geometry,\n",
    "                    sources=sources,\n",
    "                    k_point=k_point,\n",
    "                    boundary_layers=pml_layers,\n",
    "                    #symmetries=symmetries,\n",
    "                    resolution=resolution)\n",
    "\n",
    "df=0;nfreq=1\n",
    "fr = mp.FluxRegion(center=mp.Vector3(0,0,fr_center), \n",
    "            size=mp.Vector3(cell_x, cell_y, 0))\n",
    "flux_object = sim.add_flux(freq, df, nfreq, fr)\n",
    "\n",
    "# where=mp.Volume(center=mp.Vector3(0, 0, fr_center), size=mp.Vector3(cell_x, cell_y, 0))\n",
    "# dft_object = sim.add_dft_fields([mp.Ex, mp.Ey, mp.Ez], freq, df, nfreq, where=where)\n",
    "\n",
    "non_pml = 3.36\n",
    "near_vol = mp.Volume(center = mp.Vector3(0,0,0),\n",
    "                                size = mp.Vector3(cell_x, cell_y, non_pml))\n",
    "cs = [mp.Ex, mp.Ey, mp.Ez]\n",
    "freq_list = [0.346926354230067,0.6060606060606061,0.6451612903225806,0.7692307692307692,0.9433962264150942]\n",
    "\n",
    "dft_object = sim.add_dft_fields(cs, freq_list, where=near_vol)\n",
    "\n",
    "run_sim()"
   ]
  },
  {
   "cell_type": "code",
   "execution_count": 5,
   "id": "e1928f78-f36e-46a5-9b2f-81d15f656f61",
   "metadata": {},
   "outputs": [
    {
     "name": "stdout",
     "output_type": "stream",
     "text": [
      "0.29201889494133565\n"
     ]
    },
    {
     "data": {
      "text/plain": [
       "3"
      ]
     },
     "execution_count": 5,
     "metadata": {},
     "output_type": "execute_result"
    }
   ],
   "source": [
    "initial_flux = mp.get_fluxes(flux_object)[0]     # initial flux\n",
    "initial_dft = [sim.get_dft_array(dft_object, mp.Ex, 2),\n",
    "               sim.get_dft_array(dft_object, mp.Ey, 2),\n",
    "               sim.get_dft_array(dft_object, mp.Ez, 2)]\n",
    "sim.reset_meep()\n",
    "print(initial_flux)\n",
    "len(initial_dft)\n",
    "\n",
    "\n",
    "# self.dft_field_ex_1550 = self.sim.get_dft_array(self.near_fields, mp.Ex, 2)\n",
    "#         self.dft_field_ey_1550 = self.sim.get_dft_array(self.near_fields, mp.Ey, 2)\n",
    "#         self.dft_field_ez_1550 = self.sim.get_dft_array(self.near_fields, mp.Ez, 2)"
   ]
  },
  {
   "cell_type": "code",
   "execution_count": null,
   "id": "689820e1-b75c-4b1c-a32f-9fbd26b2768d",
   "metadata": {},
   "outputs": [],
   "source": []
  },
  {
   "cell_type": "code",
   "execution_count": 6,
   "id": "d20711d1-defa-4d62-b849-222c2a562872",
   "metadata": {},
   "outputs": [
    {
     "name": "stdout",
     "output_type": "stream",
     "text": [
      "42\n",
      "42\n",
      "42\n",
      "(42, 42, 70)\n"
     ]
    }
   ],
   "source": [
    "print(len(initial_dft[0]))\n",
    "print(len(initial_dft[1]))\n",
    "print(len(initial_dft[2]))\n",
    "print(initial_dft[0].shape) # gives (42,42,70) need to get (42,42,fr_slice)"
   ]
  },
  {
   "cell_type": "code",
   "execution_count": 7,
   "id": "1451b7e0-fd88-4411-bd8e-1dc01667d522",
   "metadata": {},
   "outputs": [],
   "source": [
    "x_list = [-a, 0, a, -a, 0, a, -a, 0, a]\n",
    "y_list = [a, a, a, 0, 0, 0, -a, -a, -a] \n",
    "radii_list = np.random.uniform(0.075, 0.250, 9)\n",
    "\n",
    "for i, neighbor in enumerate(radii_list):\n",
    "    radius = neighbor\n",
    "    x_dim = x_list[i]\n",
    "    y_dim = y_list[i]\n",
    "    geometry.append(mp.Cylinder(radius=radii_list[i],\n",
    "                                height=height_pillar,\n",
    "                                axis=mp.Vector3(0,0,1),\n",
    "                                center=mp.Vector3(x_list[i], y_list[i], center_pillar),\n",
    "                                material=mp.Medium(index=n_amorphousSi)))\n"
   ]
  },
  {
   "cell_type": "code",
   "execution_count": 21,
   "id": "35292cd3-199c-4330-8285-8017262573ea",
   "metadata": {},
   "outputs": [
    {
     "name": "stdout",
     "output_type": "stream",
     "text": [
      "[0.07712845 0.18148884 0.16429774 0.14465851 0.13001893 0.12072568\n",
      " 0.09872153 0.10021467 0.09904243]\n"
     ]
    }
   ],
   "source": [
    "print(radii_list)"
   ]
  },
  {
   "cell_type": "code",
   "execution_count": 8,
   "id": "6b160360-53ce-4209-aa4d-5f9069ac5dbc",
   "metadata": {
    "scrolled": true
   },
   "outputs": [
    {
     "name": "stderr",
     "output_type": "stream",
     "text": [
      "  0%|                                       | 0/6 [00:00<?, ?it/s]Warning: grid volume is not an integer number of pixels; cell size will be rounded to nearest pixel.\n"
     ]
    },
    {
     "name": "stdout",
     "output_type": "stream",
     "text": [
      "central_index = 6\n",
      "central pillar: 0.075\n",
      "at iteration 0 the central pillar is at Vector3<0.68, 0.0, -0.39> with 0.12072567726209397\n",
      "-----------\n",
      "Initializing structure...\n",
      "time for choose_chunkdivision = 0.000108004 s\n",
      "Working in 3D dimensions.\n",
      "Computational cell is 2.05 x 2.05 x 4.9 with resolution 20\n",
      "     block, center = (0,0,-1.68)\n",
      "          size (1e+20,1e+20,1.56)\n",
      "          axes (1,0,0), (0,1,0), (0,0,1)\n",
      "          dielectric constant epsilon diagonal = (2.0736,2.0736,2.0736)\n",
      "     block, center = (0,0,0.78)\n",
      "          size (1e+20,1e+20,3.36)\n",
      "          axes (1,0,0), (0,1,0), (0,0,1)\n",
      "          dielectric constant epsilon diagonal = (1.96,1.96,1.96)\n",
      "     cylinder, center = (-0.68,0.68,-0.39)\n",
      "          radius 0.0771284, height 1.02, axis (0, 0, 1)\n",
      "          dielectric constant epsilon diagonal = (12.1104,12.1104,12.1104)\n",
      "     cylinder, center = (0,0.68,-0.39)\n",
      "          radius 0.181489, height 1.02, axis (0, 0, 1)\n",
      "          dielectric constant epsilon diagonal = (12.1104,12.1104,12.1104)\n",
      "     cylinder, center = (0.68,0.68,-0.39)\n",
      "          radius 0.164298, height 1.02, axis (0, 0, 1)\n",
      "          dielectric constant epsilon diagonal = (12.1104,12.1104,12.1104)\n",
      "     cylinder, center = (-0.68,0,-0.39)\n",
      "          radius 0.144659, height 1.02, axis (0, 0, 1)\n",
      "          dielectric constant epsilon diagonal = (12.1104,12.1104,12.1104)\n",
      "     cylinder, center = (0.68,0,-0.39)\n",
      "          radius 0.120726, height 1.02, axis (0, 0, 1)\n",
      "          dielectric constant epsilon diagonal = (12.1104,12.1104,12.1104)\n",
      "     cylinder, center = (-0.68,-0.68,-0.39)\n",
      "          radius 0.0987215, height 1.02, axis (0, 0, 1)\n",
      "          dielectric constant epsilon diagonal = (12.1104,12.1104,12.1104)\n",
      "     cylinder, center = (0,-0.68,-0.39)\n",
      "          radius 0.100215, height 1.02, axis (0, 0, 1)\n",
      "          dielectric constant epsilon diagonal = (12.1104,12.1104,12.1104)\n",
      "     cylinder, center = (0.68,-0.68,-0.39)\n",
      "          radius 0.0990424, height 1.02, axis (0, 0, 1)\n",
      "          dielectric constant epsilon diagonal = (12.1104,12.1104,12.1104)\n",
      "     ...(+ 1 objects not shown)...\n",
      "time for set_epsilon = 1.20073 s\n",
      "-----------\n",
      "on time step 1139 (time=28.475), 0.00351559 s/step\n",
      "field decay(t = 50.025000000000006): 0.018055618164685986 / 0.018055618164685986 = 1.0\n",
      "on time step 2567 (time=64.175), 0.0028027 s/step\n",
      "on time step 3997 (time=99.925), 0.00279835 s/step\n"
     ]
    },
    {
     "name": "stderr",
     "output_type": "stream",
     "text": [
      "Warning: grid volume is not an integer number of pixels; cell size will be rounded to nearest pixel.\n"
     ]
    },
    {
     "name": "stdout",
     "output_type": "stream",
     "text": [
      "field decay(t = 100.05000000000001): 7.804385861116159e-05 / 0.018055618164685986 = 0.0043224141039825146\n",
      "run 0 finished at t = 100.05000000000001 (4002 timesteps)\n",
      "MPB solved for frequency_1(0,0,0.903226) = 0.645161 after 17 iters\n",
      "Dominant planewave for band 1: (0.000000,0.000000,0.903226)\n"
     ]
    },
    {
     "name": "stderr",
     "output_type": "stream",
     "text": [
      " 17%|█████▏                         | 1/6 [00:13<01:07, 13.54s/it]Warning: grid volume is not an integer number of pixels; cell size will be rounded to nearest pixel.\n"
     ]
    },
    {
     "name": "stdout",
     "output_type": "stream",
     "text": [
      "central_index = 10\n",
      "central pillar: 0.10999999999999999\n",
      "at iteration 1 the central pillar is at Vector3<0.0, 0.0, -0.39> with 0.10999999999999999\n",
      "-----------\n",
      "Initializing structure...\n",
      "time for choose_chunkdivision = 0.000108957 s\n",
      "Working in 3D dimensions.\n",
      "Computational cell is 2.05 x 2.05 x 4.9 with resolution 20\n",
      "     block, center = (0,0,-1.68)\n",
      "          size (1e+20,1e+20,1.56)\n",
      "          axes (1,0,0), (0,1,0), (0,0,1)\n",
      "          dielectric constant epsilon diagonal = (2.0736,2.0736,2.0736)\n",
      "     block, center = (0,0,0.78)\n",
      "          size (1e+20,1e+20,3.36)\n",
      "          axes (1,0,0), (0,1,0), (0,0,1)\n",
      "          dielectric constant epsilon diagonal = (1.96,1.96,1.96)\n",
      "     cylinder, center = (-0.68,0.68,-0.39)\n",
      "          radius 0.0771284, height 1.02, axis (0, 0, 1)\n",
      "          dielectric constant epsilon diagonal = (12.1104,12.1104,12.1104)\n",
      "     cylinder, center = (0,0.68,-0.39)\n",
      "          radius 0.181489, height 1.02, axis (0, 0, 1)\n",
      "          dielectric constant epsilon diagonal = (12.1104,12.1104,12.1104)\n",
      "     cylinder, center = (0.68,0.68,-0.39)\n",
      "          radius 0.164298, height 1.02, axis (0, 0, 1)\n",
      "          dielectric constant epsilon diagonal = (12.1104,12.1104,12.1104)\n",
      "     cylinder, center = (-0.68,0,-0.39)\n",
      "          radius 0.144659, height 1.02, axis (0, 0, 1)\n",
      "          dielectric constant epsilon diagonal = (12.1104,12.1104,12.1104)\n",
      "     cylinder, center = (0.68,0,-0.39)\n",
      "          radius 0.120726, height 1.02, axis (0, 0, 1)\n",
      "          dielectric constant epsilon diagonal = (12.1104,12.1104,12.1104)\n",
      "     cylinder, center = (-0.68,-0.68,-0.39)\n",
      "          radius 0.0987215, height 1.02, axis (0, 0, 1)\n",
      "          dielectric constant epsilon diagonal = (12.1104,12.1104,12.1104)\n",
      "     cylinder, center = (0,-0.68,-0.39)\n",
      "          radius 0.100215, height 1.02, axis (0, 0, 1)\n",
      "          dielectric constant epsilon diagonal = (12.1104,12.1104,12.1104)\n",
      "     cylinder, center = (0.68,-0.68,-0.39)\n",
      "          radius 0.0990424, height 1.02, axis (0, 0, 1)\n",
      "          dielectric constant epsilon diagonal = (12.1104,12.1104,12.1104)\n",
      "     ...(+ 1 objects not shown)...\n",
      "time for set_epsilon = 1.21961 s\n",
      "-----------\n",
      "on time step 1105 (time=27.625), 0.00362369 s/step\n",
      "field decay(t = 50.025000000000006): 0.038649492258052254 / 0.038649492258052254 = 1.0\n",
      "on time step 2513 (time=62.825), 0.00284119 s/step\n",
      "on time step 3922 (time=98.05), 0.00283976 s/step\n"
     ]
    },
    {
     "name": "stderr",
     "output_type": "stream",
     "text": [
      "Warning: grid volume is not an integer number of pixels; cell size will be rounded to nearest pixel.\n"
     ]
    },
    {
     "name": "stdout",
     "output_type": "stream",
     "text": [
      "field decay(t = 100.05000000000001): 0.00011037627158153824 / 0.038649492258052254 = 0.002855827208403815\n",
      "run 0 finished at t = 100.05000000000001 (4002 timesteps)\n",
      "MPB solved for frequency_1(0,0,0.903226) = 0.645161 after 17 iters\n",
      "Dominant planewave for band 1: (0.000000,0.000000,0.903226)\n"
     ]
    },
    {
     "name": "stderr",
     "output_type": "stream",
     "text": [
      " 33%|██████████▎                    | 2/6 [00:27<00:54, 13.65s/it]Warning: grid volume is not an integer number of pixels; cell size will be rounded to nearest pixel.\n"
     ]
    },
    {
     "name": "stdout",
     "output_type": "stream",
     "text": [
      "central_index = 10\n",
      "central pillar: 0.145\n",
      "at iteration 2 the central pillar is at Vector3<0.0, 0.0, -0.39> with 0.145\n",
      "-----------\n",
      "Initializing structure...\n",
      "time for choose_chunkdivision = 0.000108004 s\n",
      "Working in 3D dimensions.\n",
      "Computational cell is 2.05 x 2.05 x 4.9 with resolution 20\n",
      "     block, center = (0,0,-1.68)\n",
      "          size (1e+20,1e+20,1.56)\n",
      "          axes (1,0,0), (0,1,0), (0,0,1)\n",
      "          dielectric constant epsilon diagonal = (2.0736,2.0736,2.0736)\n",
      "     block, center = (0,0,0.78)\n",
      "          size (1e+20,1e+20,3.36)\n",
      "          axes (1,0,0), (0,1,0), (0,0,1)\n",
      "          dielectric constant epsilon diagonal = (1.96,1.96,1.96)\n",
      "     cylinder, center = (-0.68,0.68,-0.39)\n",
      "          radius 0.0771284, height 1.02, axis (0, 0, 1)\n",
      "          dielectric constant epsilon diagonal = (12.1104,12.1104,12.1104)\n",
      "     cylinder, center = (0,0.68,-0.39)\n",
      "          radius 0.181489, height 1.02, axis (0, 0, 1)\n",
      "          dielectric constant epsilon diagonal = (12.1104,12.1104,12.1104)\n",
      "     cylinder, center = (0.68,0.68,-0.39)\n",
      "          radius 0.164298, height 1.02, axis (0, 0, 1)\n",
      "          dielectric constant epsilon diagonal = (12.1104,12.1104,12.1104)\n",
      "     cylinder, center = (-0.68,0,-0.39)\n",
      "          radius 0.144659, height 1.02, axis (0, 0, 1)\n",
      "          dielectric constant epsilon diagonal = (12.1104,12.1104,12.1104)\n",
      "     cylinder, center = (0.68,0,-0.39)\n",
      "          radius 0.120726, height 1.02, axis (0, 0, 1)\n",
      "          dielectric constant epsilon diagonal = (12.1104,12.1104,12.1104)\n",
      "     cylinder, center = (-0.68,-0.68,-0.39)\n",
      "          radius 0.0987215, height 1.02, axis (0, 0, 1)\n",
      "          dielectric constant epsilon diagonal = (12.1104,12.1104,12.1104)\n",
      "     cylinder, center = (0,-0.68,-0.39)\n",
      "          radius 0.100215, height 1.02, axis (0, 0, 1)\n",
      "          dielectric constant epsilon diagonal = (12.1104,12.1104,12.1104)\n",
      "     cylinder, center = (0.68,-0.68,-0.39)\n",
      "          radius 0.0990424, height 1.02, axis (0, 0, 1)\n",
      "          dielectric constant epsilon diagonal = (12.1104,12.1104,12.1104)\n",
      "     ...(+ 1 objects not shown)...\n",
      "time for set_epsilon = 1.20979 s\n",
      "-----------\n",
      "on time step 1213 (time=30.325), 0.00329844 s/step\n",
      "field decay(t = 50.025000000000006): 0.06698281729514828 / 0.06698281729514828 = 1.0\n",
      "on time step 2421 (time=60.525), 0.00331237 s/step\n",
      "on time step 3827 (time=95.675), 0.0028459 s/step\n"
     ]
    },
    {
     "name": "stderr",
     "output_type": "stream",
     "text": [
      "Warning: grid volume is not an integer number of pixels; cell size will be rounded to nearest pixel.\n"
     ]
    },
    {
     "name": "stdout",
     "output_type": "stream",
     "text": [
      "field decay(t = 100.05000000000001): 0.00011516180426872931 / 0.06698281729514828 = 0.0017192738215427487\n",
      "run 0 finished at t = 100.05000000000001 (4002 timesteps)\n",
      "MPB solved for frequency_1(0,0,0.903226) = 0.645161 after 17 iters\n",
      "Dominant planewave for band 1: (0.000000,0.000000,0.903226)\n"
     ]
    },
    {
     "name": "stderr",
     "output_type": "stream",
     "text": [
      " 50%|███████████████▌               | 3/6 [00:41<00:41, 13.81s/it]Warning: grid volume is not an integer number of pixels; cell size will be rounded to nearest pixel.\n"
     ]
    },
    {
     "name": "stdout",
     "output_type": "stream",
     "text": [
      "central_index = 10\n",
      "central pillar: 0.18\n",
      "at iteration 3 the central pillar is at Vector3<0.0, 0.0, -0.39> with 0.18\n",
      "-----------\n",
      "Initializing structure...\n",
      "time for choose_chunkdivision = 0.000108004 s\n",
      "Working in 3D dimensions.\n",
      "Computational cell is 2.05 x 2.05 x 4.9 with resolution 20\n",
      "     block, center = (0,0,-1.68)\n",
      "          size (1e+20,1e+20,1.56)\n",
      "          axes (1,0,0), (0,1,0), (0,0,1)\n",
      "          dielectric constant epsilon diagonal = (2.0736,2.0736,2.0736)\n",
      "     block, center = (0,0,0.78)\n",
      "          size (1e+20,1e+20,3.36)\n",
      "          axes (1,0,0), (0,1,0), (0,0,1)\n",
      "          dielectric constant epsilon diagonal = (1.96,1.96,1.96)\n",
      "     cylinder, center = (-0.68,0.68,-0.39)\n",
      "          radius 0.0771284, height 1.02, axis (0, 0, 1)\n",
      "          dielectric constant epsilon diagonal = (12.1104,12.1104,12.1104)\n",
      "     cylinder, center = (0,0.68,-0.39)\n",
      "          radius 0.181489, height 1.02, axis (0, 0, 1)\n",
      "          dielectric constant epsilon diagonal = (12.1104,12.1104,12.1104)\n",
      "     cylinder, center = (0.68,0.68,-0.39)\n",
      "          radius 0.164298, height 1.02, axis (0, 0, 1)\n",
      "          dielectric constant epsilon diagonal = (12.1104,12.1104,12.1104)\n",
      "     cylinder, center = (-0.68,0,-0.39)\n",
      "          radius 0.144659, height 1.02, axis (0, 0, 1)\n",
      "          dielectric constant epsilon diagonal = (12.1104,12.1104,12.1104)\n",
      "     cylinder, center = (0.68,0,-0.39)\n",
      "          radius 0.120726, height 1.02, axis (0, 0, 1)\n",
      "          dielectric constant epsilon diagonal = (12.1104,12.1104,12.1104)\n",
      "     cylinder, center = (-0.68,-0.68,-0.39)\n",
      "          radius 0.0987215, height 1.02, axis (0, 0, 1)\n",
      "          dielectric constant epsilon diagonal = (12.1104,12.1104,12.1104)\n",
      "     cylinder, center = (0,-0.68,-0.39)\n",
      "          radius 0.100215, height 1.02, axis (0, 0, 1)\n",
      "          dielectric constant epsilon diagonal = (12.1104,12.1104,12.1104)\n",
      "     cylinder, center = (0.68,-0.68,-0.39)\n",
      "          radius 0.0990424, height 1.02, axis (0, 0, 1)\n",
      "          dielectric constant epsilon diagonal = (12.1104,12.1104,12.1104)\n",
      "     ...(+ 1 objects not shown)...\n",
      "time for set_epsilon = 1.24541 s\n",
      "-----------\n",
      "on time step 1164 (time=29.1), 0.00343703 s/step\n",
      "field decay(t = 50.025000000000006): 0.05950844053667885 / 0.05950844053667885 = 1.0\n",
      "on time step 2380 (time=59.5), 0.0032942 s/step\n",
      "on time step 3780 (time=94.5), 0.00285773 s/step\n"
     ]
    },
    {
     "name": "stderr",
     "output_type": "stream",
     "text": [
      "Warning: grid volume is not an integer number of pixels; cell size will be rounded to nearest pixel.\n"
     ]
    },
    {
     "name": "stdout",
     "output_type": "stream",
     "text": [
      "field decay(t = 100.05000000000001): 0.00019379959526086778 / 0.05950844053667885 = 0.0032566740703180875\n",
      "run 0 finished at t = 100.05000000000001 (4002 timesteps)\n",
      "MPB solved for frequency_1(0,0,0.903226) = 0.645161 after 17 iters\n",
      "Dominant planewave for band 1: (0.000000,0.000000,0.903226)\n"
     ]
    },
    {
     "name": "stderr",
     "output_type": "stream",
     "text": [
      " 67%|████████████████████▋          | 4/6 [00:55<00:27, 13.94s/it]Warning: grid volume is not an integer number of pixels; cell size will be rounded to nearest pixel.\n"
     ]
    },
    {
     "name": "stdout",
     "output_type": "stream",
     "text": [
      "central_index = 10\n",
      "central pillar: 0.21499999999999997\n",
      "at iteration 4 the central pillar is at Vector3<0.0, 0.0, -0.39> with 0.21499999999999997\n",
      "-----------\n",
      "Initializing structure...\n",
      "time for choose_chunkdivision = 3.88622e-05 s\n",
      "Working in 3D dimensions.\n",
      "Computational cell is 2.05 x 2.05 x 4.9 with resolution 20\n",
      "     block, center = (0,0,-1.68)\n",
      "          size (1e+20,1e+20,1.56)\n",
      "          axes (1,0,0), (0,1,0), (0,0,1)\n",
      "          dielectric constant epsilon diagonal = (2.0736,2.0736,2.0736)\n",
      "     block, center = (0,0,0.78)\n",
      "          size (1e+20,1e+20,3.36)\n",
      "          axes (1,0,0), (0,1,0), (0,0,1)\n",
      "          dielectric constant epsilon diagonal = (1.96,1.96,1.96)\n",
      "     cylinder, center = (-0.68,0.68,-0.39)\n",
      "          radius 0.0771284, height 1.02, axis (0, 0, 1)\n",
      "          dielectric constant epsilon diagonal = (12.1104,12.1104,12.1104)\n",
      "     cylinder, center = (0,0.68,-0.39)\n",
      "          radius 0.181489, height 1.02, axis (0, 0, 1)\n",
      "          dielectric constant epsilon diagonal = (12.1104,12.1104,12.1104)\n",
      "     cylinder, center = (0.68,0.68,-0.39)\n",
      "          radius 0.164298, height 1.02, axis (0, 0, 1)\n",
      "          dielectric constant epsilon diagonal = (12.1104,12.1104,12.1104)\n",
      "     cylinder, center = (-0.68,0,-0.39)\n",
      "          radius 0.144659, height 1.02, axis (0, 0, 1)\n",
      "          dielectric constant epsilon diagonal = (12.1104,12.1104,12.1104)\n",
      "     cylinder, center = (0.68,0,-0.39)\n",
      "          radius 0.120726, height 1.02, axis (0, 0, 1)\n",
      "          dielectric constant epsilon diagonal = (12.1104,12.1104,12.1104)\n",
      "     cylinder, center = (-0.68,-0.68,-0.39)\n",
      "          radius 0.0987215, height 1.02, axis (0, 0, 1)\n",
      "          dielectric constant epsilon diagonal = (12.1104,12.1104,12.1104)\n",
      "     cylinder, center = (0,-0.68,-0.39)\n",
      "          radius 0.100215, height 1.02, axis (0, 0, 1)\n",
      "          dielectric constant epsilon diagonal = (12.1104,12.1104,12.1104)\n",
      "     cylinder, center = (0.68,-0.68,-0.39)\n",
      "          radius 0.0990424, height 1.02, axis (0, 0, 1)\n",
      "          dielectric constant epsilon diagonal = (12.1104,12.1104,12.1104)\n",
      "     ...(+ 1 objects not shown)...\n",
      "time for set_epsilon = 0.81927 s\n",
      "-----------\n",
      "on time step 1321 (time=33.025), 0.00302845 s/step\n",
      "field decay(t = 50.025000000000006): 0.028889753257146232 / 0.028889753257146232 = 1.0\n",
      "on time step 2601 (time=65.025), 0.00312685 s/step\n",
      "on time step 3823 (time=95.575), 0.00327517 s/step\n"
     ]
    },
    {
     "name": "stderr",
     "output_type": "stream",
     "text": [
      "Warning: grid volume is not an integer number of pixels; cell size will be rounded to nearest pixel.\n"
     ]
    },
    {
     "name": "stdout",
     "output_type": "stream",
     "text": [
      "field decay(t = 100.05000000000001): 0.00017052190507199088 / 0.028889753257146232 = 0.005902504723878534\n",
      "run 0 finished at t = 100.05000000000001 (4002 timesteps)\n",
      "MPB solved for frequency_1(0,0,0.903226) = 0.645161 after 17 iters\n",
      "Dominant planewave for band 1: (0.000000,0.000000,0.903226)\n"
     ]
    },
    {
     "name": "stderr",
     "output_type": "stream",
     "text": [
      " 83%|█████████████████████████▊     | 5/6 [01:09<00:13, 13.86s/it]Warning: grid volume is not an integer number of pixels; cell size will be rounded to nearest pixel.\n"
     ]
    },
    {
     "name": "stdout",
     "output_type": "stream",
     "text": [
      "central_index = 10\n",
      "central pillar: 0.25\n",
      "at iteration 5 the central pillar is at Vector3<0.0, 0.0, -0.39> with 0.25\n",
      "-----------\n",
      "Initializing structure...\n",
      "time for choose_chunkdivision = 0.000109911 s\n",
      "Working in 3D dimensions.\n",
      "Computational cell is 2.05 x 2.05 x 4.9 with resolution 20\n",
      "     block, center = (0,0,-1.68)\n",
      "          size (1e+20,1e+20,1.56)\n",
      "          axes (1,0,0), (0,1,0), (0,0,1)\n",
      "          dielectric constant epsilon diagonal = (2.0736,2.0736,2.0736)\n",
      "     block, center = (0,0,0.78)\n",
      "          size (1e+20,1e+20,3.36)\n",
      "          axes (1,0,0), (0,1,0), (0,0,1)\n",
      "          dielectric constant epsilon diagonal = (1.96,1.96,1.96)\n",
      "     cylinder, center = (-0.68,0.68,-0.39)\n",
      "          radius 0.0771284, height 1.02, axis (0, 0, 1)\n",
      "          dielectric constant epsilon diagonal = (12.1104,12.1104,12.1104)\n",
      "     cylinder, center = (0,0.68,-0.39)\n",
      "          radius 0.181489, height 1.02, axis (0, 0, 1)\n",
      "          dielectric constant epsilon diagonal = (12.1104,12.1104,12.1104)\n",
      "     cylinder, center = (0.68,0.68,-0.39)\n",
      "          radius 0.164298, height 1.02, axis (0, 0, 1)\n",
      "          dielectric constant epsilon diagonal = (12.1104,12.1104,12.1104)\n",
      "     cylinder, center = (-0.68,0,-0.39)\n",
      "          radius 0.144659, height 1.02, axis (0, 0, 1)\n",
      "          dielectric constant epsilon diagonal = (12.1104,12.1104,12.1104)\n",
      "     cylinder, center = (0.68,0,-0.39)\n",
      "          radius 0.120726, height 1.02, axis (0, 0, 1)\n",
      "          dielectric constant epsilon diagonal = (12.1104,12.1104,12.1104)\n",
      "     cylinder, center = (-0.68,-0.68,-0.39)\n",
      "          radius 0.0987215, height 1.02, axis (0, 0, 1)\n",
      "          dielectric constant epsilon diagonal = (12.1104,12.1104,12.1104)\n",
      "     cylinder, center = (0,-0.68,-0.39)\n",
      "          radius 0.100215, height 1.02, axis (0, 0, 1)\n",
      "          dielectric constant epsilon diagonal = (12.1104,12.1104,12.1104)\n",
      "     cylinder, center = (0.68,-0.68,-0.39)\n",
      "          radius 0.0990424, height 1.02, axis (0, 0, 1)\n",
      "          dielectric constant epsilon diagonal = (12.1104,12.1104,12.1104)\n",
      "     ...(+ 1 objects not shown)...\n",
      "time for set_epsilon = 1.24863 s\n",
      "-----------\n",
      "on time step 1099 (time=27.475), 0.00364137 s/step\n",
      "field decay(t = 50.025000000000006): 0.027122810052241507 / 0.027122810052241507 = 1.0\n",
      "on time step 2556 (time=63.9), 0.00274576 s/step\n",
      "field decay(t = 100.05000000000001): 0.00031893332490471574 / 0.027122810052241507 = 0.011758859951841833\n",
      "on time step 4015 (time=100.375), 0.00274324 s/step\n",
      "on time step 5474 (time=136.85), 0.00274328 s/step\n"
     ]
    },
    {
     "name": "stderr",
     "output_type": "stream",
     "text": [
      "Warning: grid volume is not an integer number of pixels; cell size will be rounded to nearest pixel.\n"
     ]
    },
    {
     "name": "stdout",
     "output_type": "stream",
     "text": [
      "field decay(t = 150.07500000000002): 1.996176859742133e-05 / 0.027122810052241507 = 0.0007359771557214306\n",
      "run 0 finished at t = 150.07500000000002 (6003 timesteps)\n",
      "MPB solved for frequency_1(0,0,0.903226) = 0.645161 after 17 iters\n",
      "Dominant planewave for band 1: (0.000000,0.000000,0.903226)\n"
     ]
    },
    {
     "name": "stderr",
     "output_type": "stream",
     "text": [
      "                                                                  \r"
     ]
    }
   ],
   "source": [
    "pbar = tqdm(total=num,leave=False)\n",
    "central_index = None\n",
    "for i,radius in enumerate(np.linspace(0.075,0.25,num=num)):\n",
    "    for j, pillar in enumerate(geometry):\n",
    "        if pillar.center == mp.Vector3(0,0,center_pillar):\n",
    "            central_index = j\n",
    "            print(f\"central_index = {j}\")\n",
    "    if central_index is not None:\n",
    "        geometry.pop(central_index)\n",
    "    print(f\"central pillar: {radius}\")\n",
    "    geometry.append(mp.Cylinder(radius=radius,\n",
    "                        height=height_pillar,\n",
    "                        axis=mp.Vector3(0,0,1),\n",
    "                        center=mp.Vector3(0,0,center_pillar),\n",
    "                        material=mp.Medium(index=n_amorphousSi)))\n",
    "\n",
    "    print(f\"at iteration {i} the central pillar is at {geometry[central_index].center} with {geometry[central_index].radius}\")\n",
    "    sim = mp.Simulation(cell_size=cell_size,\n",
    "                        geometry=geometry,\n",
    "                        sources=sources,\n",
    "                        k_point=k_point,\n",
    "                        boundary_layers=pml_layers,\n",
    "                        #symmetries=symmetries,\n",
    "                        resolution=resolution)\n",
    "    \n",
    "    flux_object = sim.add_flux(freq, df, nfreq, fr)  \n",
    "    #dft_object = sim.add_dft_fields([mp.Ex, mp.Ey, mp.Ez], freq, df, nfreq, where=where)\n",
    "    dft_object = sim.add_dft_fields(cs, freq_list, where=near_vol)\n",
    "    \n",
    "    run_sim()\n",
    "    \n",
    "    res = sim.get_eigenmode_coefficients(flux_object, [1], eig_parity=mp.ODD_Y)\n",
    "    coeffs = res.alpha\n",
    "\n",
    "    flux = abs(coeffs[0,0,0]**2)\n",
    "    phase = np.angle(coeffs[0,0,0]) \n",
    "    \n",
    "    data[0,i] = radius\n",
    "    data[1,i] = flux\n",
    "    data[2,i] = phase\n",
    "    # if(radius!=0.25):\n",
    "    #     sim.reset_meep()\n",
    "    #     print(f\"i= {i},radius={radius}\")\n",
    "    #     geometry.pop(5)\n",
    "    dfts.append([sim.get_dft_array(dft_object, mp.Ex, 2), sim.get_dft_array(dft_object, mp.Ey, 2), sim.get_dft_array(dft_object, mp.Ez, 2)])\n",
    "\n",
    "    pbar.update(1)\n",
    "pbar.close()"
   ]
  },
  {
   "cell_type": "code",
   "execution_count": 9,
   "id": "f343a6f6-9b5f-47e9-9a6a-327100584ffb",
   "metadata": {},
   "outputs": [
    {
     "name": "stdout",
     "output_type": "stream",
     "text": [
      "(42, 42, 70)\n",
      "(42, 42, 70)\n",
      "(42, 42, 70)\n",
      "3\n"
     ]
    }
   ],
   "source": [
    "print(dfts[0][0].shape) # Ex\n",
    "print(dfts[1][0].shape) # Ey\n",
    "print(dfts[2][0].shape) # Ez\n",
    "\n",
    "print(len(dfts[0]))\n",
    "#self.dft_field_ex_1550 = self.sim.get_dft_array(self.near_fields, mp.Ex, 2)"
   ]
  },
  {
   "cell_type": "code",
   "execution_count": 10,
   "id": "a51b68ba-70f7-4478-a916-61ba477e29f8",
   "metadata": {},
   "outputs": [],
   "source": [
    "eps_data = sim.get_epsilon()\n",
    "def get_fr_slice():\n",
    "\n",
    "    # put value on a (0 to pm.cell_z) scale - meep defines the cell on a (-cell_z/2 to cell_z/2) scale\n",
    "    value = fr_center\n",
    "    value = value + cell_z / 2\n",
    "\n",
    "    # length of the cell in microns\n",
    "    cell_min = 0  # um\n",
    "    cell_max = cell_z  # um\n",
    "\n",
    "    # length of the cell in pixels\n",
    "    pix_min = 0\n",
    "    pix_max = eps_data.squeeze().shape[2]\n",
    "\n",
    "    #pix_max = data['near_fields_1550']['ex'].squeeze().shape[2]\n",
    "    temp = int(((value - cell_min) / (cell_max - cell_min)) * (pix_max - pix_min) + pix_min)\n",
    "\n",
    "    pml_pix = (eps_data.squeeze().shape[2] - dfts[0][0].squeeze().shape[2]) // 2 # did i do this right?????\n",
    "    #pml_pix = (data['eps_data'].squeeze().shape[2] - data['near_fields_1550']['ex'].squeeze().shape[2]) // 2\n",
    "    return temp - pml_pix\n",
    "\n",
    "fr_slice = get_fr_slice()  # for this sim, =59/70. this is reasonable.\n"
   ]
  },
  {
   "cell_type": "code",
   "execution_count": 11,
   "id": "d4156bf2-909f-4f2d-a5bf-c5829e5a4b66",
   "metadata": {},
   "outputs": [
    {
     "name": "stdout",
     "output_type": "stream",
     "text": [
      "42\n",
      "42\n",
      "42\n",
      "(42, 42, 70)\n",
      "59\n"
     ]
    }
   ],
   "source": [
    "print(len(initial_dft[0]))\n",
    "print(len(initial_dft[1]))\n",
    "print(len(initial_dft[2]))\n",
    "print(initial_dft[0].shape) # gives (42,42,70) need to get (42,42,fr_slice)\n",
    "print(fr_slice)"
   ]
  },
  {
   "cell_type": "code",
   "execution_count": 13,
   "id": "18528a5b-ca5f-4e32-883e-60be715698e0",
   "metadata": {},
   "outputs": [
    {
     "data": {
      "text/plain": [
       "(42, 42)"
      ]
     },
     "execution_count": 13,
     "metadata": {},
     "output_type": "execute_result"
    }
   ],
   "source": [
    "initial_x = initial_dft[0]\n",
    "initial_y = initial_dft[1]\n",
    "initial_z = initial_dft[2]\n",
    "\n",
    "initial_x = initial_x[:,:,fr_slice]\n",
    "initial_y = initial_y[:,:,fr_slice]\n",
    "initial_z = initial_z[:,:,fr_slice]\n",
    "initial_x.shape"
   ]
  },
  {
   "cell_type": "code",
   "execution_count": 14,
   "id": "468e790f-e487-4542-bedd-42fc7d37b44e",
   "metadata": {},
   "outputs": [
    {
     "name": "stdout",
     "output_type": "stream",
     "text": [
      "(42, 42)\n",
      "0.02483182772313775\n"
     ]
    }
   ],
   "source": [
    "def get_intensity(Ex, Ey, Ez):\n",
    "    print(Ex.shape)\n",
    "    E_0 = np.sqrt((abs(Ex)**2 + abs(Ey)**2 + abs(Ez)**2))\n",
    "    I = 0.5 * E_0**2\n",
    "    return(np.mean(I))\n",
    "\n",
    "initial_I = get_intensity(initial_x, initial_y, initial_z)\n",
    "print(initial_I)"
   ]
  },
  {
   "cell_type": "code",
   "execution_count": 15,
   "id": "4bc948fd-992c-4fa0-9e89-732e87a89dae",
   "metadata": {},
   "outputs": [],
   "source": [
    "dft_slices = []\n",
    "for result in dfts:\n",
    "    Ex = result[0]\n",
    "    Ey = result[1]\n",
    "    Ez = result[2]\n",
    "\n",
    "    Ex = Ex[:,:,fr_slice]\n",
    "    Ey = Ey[:,:,fr_slice]\n",
    "    Ez = Ez[:,:,fr_slice]\n",
    "\n",
    "    slice = [Ex, Ey, Ez]\n",
    "    dft_slices.append(slice)\n"
   ]
  },
  {
   "cell_type": "code",
   "execution_count": 16,
   "id": "bf58ec08-302e-489e-895f-fca1e0d605bd",
   "metadata": {},
   "outputs": [
    {
     "data": {
      "text/plain": [
       "3"
      ]
     },
     "execution_count": 16,
     "metadata": {},
     "output_type": "execute_result"
    }
   ],
   "source": [
    "len(dft_slices[0])"
   ]
  },
  {
   "cell_type": "code",
   "execution_count": null,
   "id": "97f5f1ce-3f3f-4286-af4e-e851ee43affa",
   "metadata": {},
   "outputs": [],
   "source": []
  },
  {
   "cell_type": "code",
   "execution_count": 17,
   "id": "fe3651f1-9542-4046-bd66-87f18848c2c1",
   "metadata": {},
   "outputs": [
    {
     "name": "stdout",
     "output_type": "stream",
     "text": [
      "(42, 42) (42, 42) (42, 42)\n",
      "(42, 42)\n",
      "0.025 0.987\n",
      "(42, 42) (42, 42) (42, 42)\n",
      "(42, 42)\n",
      "0.024 0.977\n",
      "(42, 42) (42, 42) (42, 42)\n",
      "(42, 42)\n",
      "0.023 0.926\n",
      "(42, 42) (42, 42) (42, 42)\n",
      "(42, 42)\n",
      "0.023 0.907\n",
      "(42, 42) (42, 42) (42, 42)\n",
      "(42, 42)\n",
      "0.022 0.887\n",
      "(42, 42) (42, 42) (42, 42)\n",
      "(42, 42)\n",
      "0.023 0.919\n"
     ]
    }
   ],
   "source": [
    "I_list = []\n",
    "for slice in dft_slices:\n",
    "    print(slice[0].shape, slice[1].shape, slice[2].shape)\n",
    "    I = get_intensity(slice[0], slice[1], slice[2])\n",
    "    print(round(I, 3), round((I/initial_I),3))\n",
    "    I_list.append(I / initial_I)"
   ]
  },
  {
   "cell_type": "code",
   "execution_count": 19,
   "id": "a7d27040-c638-4d3b-8454-382a82ddf48a",
   "metadata": {},
   "outputs": [
    {
     "data": {
      "image/png": "[encoded data removed]",
      "text/plain": [
       "<Figure size 800x500 with 1 Axes>"
      ]
     },
     "metadata": {},
     "output_type": "display_data"
    }
   ],
   "source": [
    "radii = data[0,:]\n",
    "flux_list = data[1,0:] / initial_flux\n",
    "phase_list = data[2,0:]\n",
    "\n",
    "#plt.style.use('seaborn')\n",
    "\n",
    "results = {\"radii\": radii, \"flux\": flux_list, \"phase\": phase_list}\n",
    "# this section plots radius vs. phase and transmission\n",
    "plt.style.use('seaborn-v0_8')\n",
    "\n",
    "tickfontsize=14\n",
    "labelfontsize=16\n",
    "titlefontsize=22\n",
    "padding = 0.02\n",
    "plt.close(\"all\")\n",
    "fig,ax = plt.subplots(figsize=(8,5)) # may want to change. Also see DPI keyword\n",
    "\n",
    "fig.suptitle(\"Meta-atom transmission\",fontsize=titlefontsize)\n",
    "\n",
    "ax.set_xlabel(\"Central pillar radius (nm)\",fontsize=labelfontsize)\n",
    "ax.set_xticks([0.075,0.100,0.125,0.150,0.175,0.200,0.225,0.250])\n",
    "ax.set_xticklabels([75,100,125,150,175,200,225,250],fontsize=tickfontsize)\n",
    "ax.set_ylim([0,1+padding])\n",
    "ax.set_ylabel(r'Percent transmitted ($\\%$)',fontsize=labelfontsize, color = 'blue')\n",
    "ax.plot(radii,flux_list,'b',label='Flux object')\n",
    "ax.plot(radii,I_list,'green',label='Dft object')\n",
    "ax.tick_params(axis='y', labelcolor = 'blue')\n",
    "\n",
    "ax.set_yticks([0,0.2,0.4,0.6,0.8,1])\n",
    "ax.set_yticklabels([0, 20,40,60,80,100],fontsize=tickfontsize)\n",
    "\n",
    "ax.legend(frameon=True, edgecolor='dimgrey')\n",
    "# twin1 = ax.twinx()\n",
    "\n",
    "# twin1.set_ylim([-np.pi,np.pi])\n",
    "# twin1.set_ylabel(r'Phase Delay (rad)',fontsize=labelfontsize, color = 'red')\n",
    "# twin1.set_yticks([-np.pi, -(0.5*np.pi),0, np.pi / 2, np.pi])\n",
    "# twin1.set_yticklabels([r'-$\\pi$',r'-$\\frac{\\pi}{2}$',r'0',r'$\\frac{\\pi}{2}$',r'$\\pi$'],fontsize=tickfontsize+4)\n",
    "# twin1.plot(radii,phase_list,'r',label='Phase')\n",
    "# twin1.tick_params(axis='y', labelcolor = 'red')\n",
    "\n",
    "plt.grid(False)\n",
    "plt.tight_layout()"
   ]
  },
  {
   "cell_type": "code",
   "execution_count": null,
   "id": "3ac05b62-00da-4abb-8977-83a3584f4040",
   "metadata": {},
   "outputs": [],
   "source": [
    "plt.close(\"all\")\n",
    "plt.figure(figsize=(8,8))\n",
    "plot_plane = mp.Volume(center=mp.Vector3(0,0,fr_center),\n",
    "                            size=mp.Vector3(cell_x,cell_y,0))\n",
    "sim.plot2D(output_plane=plot_plane,\n",
    "           #fields=mp.Ey\n",
    "           )\n",
    "plt.grid(False)"
   ]
  },
  {
   "cell_type": "code",
   "execution_count": null,
   "id": "9deb9b4f-a44f-4e3b-b13d-661642007439",
   "metadata": {},
   "outputs": [],
   "source": [
    "sim.reset_meep()"
   ]
  },
  {
   "cell_type": "markdown",
   "id": "97a15fff-3215-49a7-87e4-bb46b0b5f0d6",
   "metadata": {},
   "source": [
    "## it would be interesting to see these characteristics for different random neighbors, as well as uniform neighbors"
   ]
  },
  {
   "cell_type": "code",
   "execution_count": 20,
   "id": "a1ea0acc-4dd8-4107-8409-bd577c228e1f",
   "metadata": {},
   "outputs": [
    {
     "name": "stdout",
     "output_type": "stream",
     "text": [
      "[0.9870149083724464, 0.9773055062295207, 0.9262736908693775, 0.9068684624858437, 0.8868362231726779, 0.9188190344826134]\n"
     ]
    }
   ],
   "source": [
    "print(I_list)"
   ]
  },
  {
   "cell_type": "code",
   "execution_count": 14,
   "id": "3b9e053e-7869-47ab-88bc-1e1ff42e9799",
   "metadata": {},
   "outputs": [
    {
     "data": {
      "text/plain": [
       "dict_keys(['radii', 'trans', 'initial_I', 'eps_data', 'dft_slices'])"
      ]
     },
     "execution_count": 14,
     "metadata": {},
     "output_type": "execute_result"
    }
   ],
   "source": [
    "# I repeated this with high resolution using confirm_transmission.py. we see much more reasonable results with the high \n",
    "# resolution. also, using same resolution as our dataset.\n",
    "import pickle\n",
    "results = pickle.load(open(\"more_results.pkl\",\"rb\"))\n",
    "results.keys()"
   ]
  },
  {
   "cell_type": "code",
   "execution_count": 15,
   "id": "25d8a459-3ebd-4a92-b7b8-f0bf03938595",
   "metadata": {},
   "outputs": [],
   "source": [
    "radii = results['radii']\n",
    "I_list = results['trans']"
   ]
  },
  {
   "cell_type": "code",
   "execution_count": 16,
   "id": "7357bfa2-edad-4292-af24-a24ba6100092",
   "metadata": {},
   "outputs": [
    {
     "data": {
      "image/png": "[encoded data removed]",
      "text/plain": [
       "<Figure size 800x500 with 1 Axes>"
      ]
     },
     "metadata": {},
     "output_type": "display_data"
    }
   ],
   "source": [
    "import matplotlib.pyplot as plt\n",
    "plt.style.use('seaborn-v0_8')\n",
    "\n",
    "tickfontsize=14\n",
    "labelfontsize=16\n",
    "titlefontsize=22\n",
    "padding = 0.0\n",
    "plt.close(\"all\")\n",
    "fig,ax = plt.subplots(figsize=(8,5)) # may want to change. Also see DPI keyword\n",
    "\n",
    "fig.suptitle(\"Meta-atom transmission\",fontsize=titlefontsize)\n",
    "\n",
    "ax.set_xlabel(\"Central pillar radius (nm)\",fontsize=labelfontsize)\n",
    "ax.set_xticks([0.075,0.100,0.125,0.150,0.175,0.200,0.225,0.250])\n",
    "ax.set_xticklabels([75,100,125,150,175,200,225,250],fontsize=tickfontsize)\n",
    "ax.set_ylim([0,1+padding])\n",
    "ax.set_ylabel(r'Percent transmitted ($\\%$)',fontsize=labelfontsize, color = 'blue')\n",
    "#ax.plot(radii,flux_list,'b',label='Flux object')\n",
    "ax.plot(radii,I_list,'green',label='Dft object')\n",
    "ax.tick_params(axis='y', labelcolor = 'blue')\n",
    "\n",
    "ax.set_yticks([0,0.2,0.4,0.6,0.8,1])\n",
    "ax.set_yticklabels([0, 20,40,60,80,100],fontsize=tickfontsize)\n",
    "\n",
    "ax.legend(frameon=True, edgecolor='dimgrey')\n",
    "# twin1 = ax.twinx()\n",
    "\n",
    "# twin1.set_ylim([-np.pi,np.pi])\n",
    "# twin1.set_ylabel(r'Phase Delay (rad)',fontsize=labelfontsize, color = 'red')\n",
    "# twin1.set_yticks([-np.pi, -(0.5*np.pi),0, np.pi / 2, np.pi])\n",
    "# twin1.set_yticklabels([r'-$\\pi$',r'-$\\frac{\\pi}{2}$',r'0',r'$\\frac{\\pi}{2}$',r'$\\pi$'],fontsize=tickfontsize+4)\n",
    "# twin1.plot(radii,phase_list,'r',label='Phase')\n",
    "# twin1.tick_params(axis='y', labelcolor = 'red')\n",
    "\n",
    "plt.grid(False)\n",
    "plt.tight_layout()"
   ]
  },
  {
   "cell_type": "code",
   "execution_count": 17,
   "id": "dc26fa6b-15cd-480a-8971-bc60895113b9",
   "metadata": {},
   "outputs": [
    {
     "data": {
      "text/plain": [
       "0.9392883712152892"
      ]
     },
     "execution_count": 17,
     "metadata": {},
     "output_type": "execute_result"
    }
   ],
   "source": [
    "max(I_list)"
   ]
  },
  {
   "cell_type": "code",
   "execution_count": 19,
   "id": "b177b503-b9ca-4dc3-aa51-6bb3482177a0",
   "metadata": {},
   "outputs": [
    {
     "data": {
      "text/plain": [
       "0.8058692654084691"
      ]
     },
     "execution_count": 19,
     "metadata": {},
     "output_type": "execute_result"
    }
   ],
   "source": [
    "min(I_list)"
   ]
  },
  {
   "cell_type": "code",
   "execution_count": 20,
   "id": "26dc74df-f69f-4ffd-a717-2ab469484728",
   "metadata": {},
   "outputs": [
    {
     "data": {
      "text/plain": [
       "0.02584613893357307"
      ]
     },
     "execution_count": 20,
     "metadata": {},
     "output_type": "execute_result"
    }
   ],
   "source": [
    "results['initial_I']"
   ]
  },
  {
   "cell_type": "code",
   "execution_count": null,
   "id": "295418c4-812b-48c7-aa2d-e1c5e51728a8",
   "metadata": {},
   "outputs": [],
   "source": []
  }
 ],
 "metadata": {
  "kernelspec": {
   "display_name": "Python 3 (ipykernel)",
   "language": "python",
   "name": "python3"
  },
  "language_info": {
   "codemirror_mode": {
    "name": "ipython",
    "version": 3
   },
   "file_extension": ".py",
   "mimetype": "text/x-python",
   "name": "python",
   "nbconvert_exporter": "python",
   "pygments_lexer": "ipython3",
   "version": "3.10.12"
  }
 },
 "nbformat": 4,
 "nbformat_minor": 5
}
