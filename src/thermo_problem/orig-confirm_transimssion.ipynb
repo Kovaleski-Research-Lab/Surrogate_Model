{
 "cells": [
  {
   "cell_type": "code",
   "execution_count": 1,
   "id": "7a4cd8a0-23fb-4f74-84bb-caa0cb5c3009",
   "metadata": {},
   "outputs": [
    {
     "name": "stdout",
     "output_type": "stream",
     "text": [
      "Using MPI version 4.0, 1 processes\n"
     ]
    }
   ],
   "source": [
    "import os\n",
    "import pickle\n",
    "import shutil \n",
    "\n",
    "import meep as mp\n",
    "import numpy as np\n",
    "import matplotlib.pyplot as plt\n",
    "from tqdm import tqdm\n",
    "import math\n",
    "from IPython import embed\n",
    "import random"
   ]
  },
  {
   "cell_type": "code",
   "execution_count": 2,
   "id": "0d881819-bf29-4005-b28d-ff5240302ac9",
   "metadata": {},
   "outputs": [],
   "source": [
    "mp.Verbosity(2)\n",
    "\n",
    "resolution = 20\n",
    "\n",
    "n_fusedSilica = 1.44\n",
    "n_PDMS = 1.4\n",
    "n_amorphousSi = 3.48\n",
    "\n",
    "a = 0.680   # lattice period \n",
    "\n",
    "pml_thickness = 0.780\n",
    "height_pillar = 1.020\n",
    "width_PDMS = 1.560\n",
    "width_fusedSilica = 0.780\n",
    "\n",
    "cell_x = a * 3\n",
    "cell_y = a * 3\n",
    "cell_z = round(2*pml_thickness + width_PDMS + height_pillar +  width_fusedSilica, 3)\n",
    "\n",
    "center_PDMS = round(0.5*(height_pillar + width_PDMS + pml_thickness) \n",
    "                    + (pml_thickness + width_fusedSilica) - 0.5*cell_z, 3)\n",
    "center_fusedSilica = round(0.5*(pml_thickness + width_fusedSilica) - 0.5*cell_z, 3)\n",
    "center_pillar = round(pml_thickness + width_fusedSilica + 0.5*height_pillar\n",
    "                    - 0.5*cell_z, 3) \n",
    "\n",
    "z_fusedSilica = pml_thickness + width_fusedSilica\n",
    "z_PDMS = height_pillar + width_PDMS + pml_thickness"
   ]
  },
  {
   "cell_type": "code",
   "execution_count": 3,
   "id": "5aad1b72-db27-4c03-b7b7-1a05ba53a339",
   "metadata": {},
   "outputs": [],
   "source": [
    "geometry = [mp.Block(size=mp.Vector3(mp.inf,mp.inf,z_fusedSilica), \n",
    "                    center=mp.Vector3(0,0,center_fusedSilica),\n",
    "                    material=mp.Medium(index=n_fusedSilica)),\n",
    "            mp.Block(size=mp.Vector3(mp.inf,mp.inf,z_PDMS),\n",
    "                    center=mp.Vector3(0,0,center_PDMS),\n",
    "                    material=mp.Medium(index=n_PDMS))]\n",
    "\n",
    "k_point = mp.Vector3(0,0,0)\n",
    "#k_point = mp.Vector3(np.radians(35), 0, 0)  # k vector defines normal to the plane of propagation\n",
    "\n",
    "wavelength = 1.55\n",
    "freq = 1 / wavelength\n",
    "\n",
    "## initialize matrix for data collection ##\n",
    "##########################################\n",
    "\n",
    "num = 6 # this is the number of pillars we will build\n",
    "data = np.zeros((3,num))\n",
    "dfts = []\n",
    "\n",
    "## set up and build source ##\n",
    "############################\n",
    "\n",
    "center_source = round(pml_thickness + width_fusedSilica*0.2 - 0.5*cell_z, 3) \n",
    "source_cmpt = mp.Ey\n",
    "\n",
    "fcen = freq\n",
    "fwidth=0.2*freq\n",
    "\n",
    "sources = [mp.Source(mp.GaussianSource(fcen, fwidth=fwidth), component = source_cmpt,\n",
    "                            center=mp.Vector3(0,0,center_source),\n",
    "                            size=mp.Vector3(cell_x,cell_y,0))]\n",
    "\n",
    "def run_sim():\n",
    "    sim.run(until_after_sources=mp.stop_when_fields_decayed(50, source_cmpt, mp.Vector3(0, 0, cell_z), 1e-2))"
   ]
  },
  {
   "cell_type": "code",
   "execution_count": 4,
   "id": "4db6796a-f5f5-4c04-8e31-4536e0d5faaa",
   "metadata": {},
   "outputs": [
    {
     "name": "stderr",
     "output_type": "stream",
     "text": [
      "Warning: grid volume is not an integer number of pixels; cell size will be rounded to nearest pixel.\n"
     ]
    },
    {
     "name": "stdout",
     "output_type": "stream",
     "text": [
      "-----------\n",
      "Initializing structure...\n",
      "time for choose_chunkdivision = 0.000104189 s\n",
      "Working in 3D dimensions.\n",
      "Computational cell is 2.05 x 2.05 x 4.9 with resolution 20\n",
      "     block, center = (0,0,-1.68)\n",
      "          size (1e+20,1e+20,1.56)\n",
      "          axes (1,0,0), (0,1,0), (0,0,1)\n",
      "          dielectric constant epsilon diagonal = (2.0736,2.0736,2.0736)\n",
      "     block, center = (0,0,0.78)\n",
      "          size (1e+20,1e+20,3.36)\n",
      "          axes (1,0,0), (0,1,0), (0,0,1)\n",
      "          dielectric constant epsilon diagonal = (1.96,1.96,1.96)\n",
      "time for set_epsilon = 0.941013 s\n",
      "-----------\n",
      "on time step 1388 (time=34.7), 0.00288331 s/step\n",
      "field decay(t = 50.025000000000006): 0.12053885221037682 / 0.12053885221037682 = 1.0\n",
      "on time step 3061 (time=76.525), 0.00239202 s/step\n",
      "field decay(t = 100.05000000000001): 0.028505959764893892 / 0.12053885221037682 = 0.23648773189861105\n",
      "on time step 4704 (time=117.6), 0.00243518 s/step\n",
      "field decay(t = 150.07500000000002): 6.901501745057479e-09 / 0.12053885221037682 = 5.7255412827494555e-08\n",
      "run 0 finished at t = 150.07500000000002 (6003 timesteps)\n"
     ]
    }
   ],
   "source": [
    "cell_size = mp.Vector3(cell_x,cell_y,cell_z)\n",
    "pml_layers = [mp.PML(thickness = pml_thickness, direction = mp.Z)]\n",
    "\n",
    "sim = mp.Simulation(cell_size=cell_size,\n",
    "                    geometry=geometry,\n",
    "                    sources=sources,\n",
    "                    k_point=k_point,\n",
    "                    boundary_layers=pml_layers,\n",
    "                    #symmetries=symmetries,\n",
    "                    resolution=resolution)\n",
    "nfreq = 1\n",
    "df = 0\n",
    "fr_center = round(0.5*cell_z - pml_thickness - 0.3*width_PDMS, 3)\n",
    "fr = mp.FluxRegion(center=mp.Vector3(0,0,fr_center), \n",
    "            size=mp.Vector3(cell_x, cell_y, 0))\n",
    "\n",
    "# fr = mp.FluxRegion(center=mp.Vector3(0,0,fr_center), \n",
    "#             size=mp.Vector3(a, a, 0))\n",
    "\n",
    "flux_object = sim.add_flux(freq, df, nfreq, fr)\n",
    "where=mp.Volume(center=mp.Vector3(0, 0, fr_center), size=mp.Vector3(cell_x, cell_y, 0))\n",
    "dft_object = sim.add_dft_fields([mp.Ex, mp.Ey, mp.Ez], freq, df, nfreq, where=where)\n",
    "run_sim()"
   ]
  },
  {
   "cell_type": "code",
   "execution_count": 5,
   "id": "a6e24f7c-c4ef-4862-8d83-f7f3048cc874",
   "metadata": {},
   "outputs": [
    {
     "name": "stdout",
     "output_type": "stream",
     "text": [
      "10.5126710512241\n"
     ]
    },
    {
     "data": {
      "text/plain": [
       "3"
      ]
     },
     "execution_count": 5,
     "metadata": {},
     "output_type": "execute_result"
    }
   ],
   "source": [
    "initial_flux = mp.get_fluxes(flux_object)[0]     # initial flux\n",
    "initial_dft = [sim.get_dft_array(dft_object, mp.Ex, 0),\n",
    "               sim.get_dft_array(dft_object, mp.Ey, 0),\n",
    "               sim.get_dft_array(dft_object, mp.Ez, 0)]\n",
    "sim.reset_meep()\n",
    "print(initial_flux)\n",
    "len(initial_dft)"
   ]
  },
  {
   "cell_type": "code",
   "execution_count": 6,
   "id": "d067657c-d23e-456f-8cc1-31cdcc119fa9",
   "metadata": {},
   "outputs": [
    {
     "name": "stdout",
     "output_type": "stream",
     "text": [
      "42\n",
      "42\n",
      "42\n",
      "(42, 42)\n"
     ]
    }
   ],
   "source": [
    "print(len(initial_dft[0]))\n",
    "print(len(initial_dft[1]))\n",
    "print(len(initial_dft[2]))\n",
    "print(initial_dft[0].shape)"
   ]
  },
  {
   "cell_type": "code",
   "execution_count": 7,
   "id": "7844a88e-f16a-4bb6-8341-5120c741a415",
   "metadata": {},
   "outputs": [],
   "source": [
    "x_list = [-a, 0, a, -a, 0, a, -a, 0, a]\n",
    "y_list = [a, a, a, 0, 0, 0, -a, -a, -a] \n",
    "radii_list = np.random.uniform(0.075, 0.250, 9)\n",
    "\n",
    "for i, neighbor in enumerate(radii_list):\n",
    "    radius = neighbor\n",
    "    x_dim = x_list[i]\n",
    "    y_dim = y_list[i]\n",
    "    geometry.append(mp.Cylinder(radius=radii_list[i],\n",
    "                                height=height_pillar,\n",
    "                                axis=mp.Vector3(0,0,1),\n",
    "                                center=mp.Vector3(x_list[i], y_list[i], center_pillar),\n",
    "                                material=mp.Medium(index=n_amorphousSi)))"
   ]
  },
  {
   "cell_type": "code",
   "execution_count": 8,
   "id": "5cd476cc-5ce9-43a3-9420-d8fd1fd6a001",
   "metadata": {
    "scrolled": true
   },
   "outputs": [
    {
     "name": "stderr",
     "output_type": "stream",
     "text": [
      "  0%|                                       | 0/6 [00:00<?, ?it/s]Warning: grid volume is not an integer number of pixels; cell size will be rounded to nearest pixel.\n"
     ]
    },
    {
     "name": "stdout",
     "output_type": "stream",
     "text": [
      "central_index = 6\n",
      "central pillar: 0.075\n",
      "at iteration 0 the central pillar is at Vector3<0.68, 0.0, -0.39> with 0.13487928659755596\n",
      "-----------\n",
      "Initializing structure...\n",
      "time for choose_chunkdivision = 9.48906e-05 s\n",
      "Working in 3D dimensions.\n",
      "Computational cell is 2.05 x 2.05 x 4.9 with resolution 20\n",
      "     block, center = (0,0,-1.68)\n",
      "          size (1e+20,1e+20,1.56)\n",
      "          axes (1,0,0), (0,1,0), (0,0,1)\n",
      "          dielectric constant epsilon diagonal = (2.0736,2.0736,2.0736)\n",
      "     block, center = (0,0,0.78)\n",
      "          size (1e+20,1e+20,3.36)\n",
      "          axes (1,0,0), (0,1,0), (0,0,1)\n",
      "          dielectric constant epsilon diagonal = (1.96,1.96,1.96)\n",
      "     cylinder, center = (-0.68,0.68,-0.39)\n",
      "          radius 0.227475, height 1.02, axis (0, 0, 1)\n",
      "          dielectric constant epsilon diagonal = (12.1104,12.1104,12.1104)\n",
      "     cylinder, center = (0,0.68,-0.39)\n",
      "          radius 0.159218, height 1.02, axis (0, 0, 1)\n",
      "          dielectric constant epsilon diagonal = (12.1104,12.1104,12.1104)\n",
      "     cylinder, center = (0.68,0.68,-0.39)\n",
      "          radius 0.179459, height 1.02, axis (0, 0, 1)\n",
      "          dielectric constant epsilon diagonal = (12.1104,12.1104,12.1104)\n",
      "     cylinder, center = (-0.68,0,-0.39)\n",
      "          radius 0.164735, height 1.02, axis (0, 0, 1)\n",
      "          dielectric constant epsilon diagonal = (12.1104,12.1104,12.1104)\n",
      "     cylinder, center = (0.68,0,-0.39)\n",
      "          radius 0.134879, height 1.02, axis (0, 0, 1)\n",
      "          dielectric constant epsilon diagonal = (12.1104,12.1104,12.1104)\n",
      "     cylinder, center = (-0.68,-0.68,-0.39)\n",
      "          radius 0.160112, height 1.02, axis (0, 0, 1)\n",
      "          dielectric constant epsilon diagonal = (12.1104,12.1104,12.1104)\n",
      "     cylinder, center = (0,-0.68,-0.39)\n",
      "          radius 0.116443, height 1.02, axis (0, 0, 1)\n",
      "          dielectric constant epsilon diagonal = (12.1104,12.1104,12.1104)\n",
      "     cylinder, center = (0.68,-0.68,-0.39)\n",
      "          radius 0.192082, height 1.02, axis (0, 0, 1)\n",
      "          dielectric constant epsilon diagonal = (12.1104,12.1104,12.1104)\n",
      "     ...(+ 1 objects not shown)...\n",
      "time for set_epsilon = 1.30252 s\n",
      "-----------\n",
      "on time step 1272 (time=31.8), 0.0031461 s/step\n",
      "field decay(t = 50.025000000000006): 0.003602116662046023 / 0.003602116662046023 = 1.0\n",
      "on time step 2804 (time=70.1), 0.00261113 s/step\n",
      "field decay(t = 100.05000000000001): 0.002138086799220282 / 0.003602116662046023 = 0.5935640068930572\n",
      "on time step 4333 (time=108.325), 0.00261712 s/step\n",
      "on time step 5861 (time=146.525), 0.00261789 s/step\n",
      "field decay(t = 150.07500000000002): 0.00026288598328857017 / 0.003602116662046023 = 0.07298097423064843\n",
      "on time step 7388 (time=184.7), 0.0026208 s/step\n",
      "field decay(t = 200.10000000000002): 5.8091598295074836e-05 / 0.003602116662046023 = 0.016127072981050667\n",
      "on time step 8915 (time=222.875), 0.00261975 s/step\n"
     ]
    },
    {
     "name": "stderr",
     "output_type": "stream",
     "text": [
      "Warning: grid volume is not an integer number of pixels; cell size will be rounded to nearest pixel.\n"
     ]
    },
    {
     "name": "stdout",
     "output_type": "stream",
     "text": [
      "field decay(t = 250.125): 1.9708694899569095e-05 / 0.003602116662046023 = 0.005471420486524288\n",
      "run 0 finished at t = 250.125 (10005 timesteps)\n",
      "MPB solved for frequency_1(0,0,0.903226) = 0.645161 after 17 iters\n",
      "Dominant planewave for band 1: (0.000000,0.000000,0.903226)\n"
     ]
    },
    {
     "name": "stderr",
     "output_type": "stream",
     "text": [
      " 17%|█████▏                         | 1/6 [00:28<02:21, 28.38s/it]Warning: grid volume is not an integer number of pixels; cell size will be rounded to nearest pixel.\n"
     ]
    },
    {
     "name": "stdout",
     "output_type": "stream",
     "text": [
      "central_index = 10\n",
      "central pillar: 0.10999999999999999\n",
      "at iteration 1 the central pillar is at Vector3<0.0, 0.0, -0.39> with 0.10999999999999999\n",
      "-----------\n",
      "Initializing structure...\n",
      "time for choose_chunkdivision = 3.71933e-05 s\n",
      "Working in 3D dimensions.\n",
      "Computational cell is 2.05 x 2.05 x 4.9 with resolution 20\n",
      "     block, center = (0,0,-1.68)\n",
      "          size (1e+20,1e+20,1.56)\n",
      "          axes (1,0,0), (0,1,0), (0,0,1)\n",
      "          dielectric constant epsilon diagonal = (2.0736,2.0736,2.0736)\n",
      "     block, center = (0,0,0.78)\n",
      "          size (1e+20,1e+20,3.36)\n",
      "          axes (1,0,0), (0,1,0), (0,0,1)\n",
      "          dielectric constant epsilon diagonal = (1.96,1.96,1.96)\n",
      "     cylinder, center = (-0.68,0.68,-0.39)\n",
      "          radius 0.227475, height 1.02, axis (0, 0, 1)\n",
      "          dielectric constant epsilon diagonal = (12.1104,12.1104,12.1104)\n",
      "     cylinder, center = (0,0.68,-0.39)\n",
      "          radius 0.159218, height 1.02, axis (0, 0, 1)\n",
      "          dielectric constant epsilon diagonal = (12.1104,12.1104,12.1104)\n",
      "     cylinder, center = (0.68,0.68,-0.39)\n",
      "          radius 0.179459, height 1.02, axis (0, 0, 1)\n",
      "          dielectric constant epsilon diagonal = (12.1104,12.1104,12.1104)\n",
      "     cylinder, center = (-0.68,0,-0.39)\n",
      "          radius 0.164735, height 1.02, axis (0, 0, 1)\n",
      "          dielectric constant epsilon diagonal = (12.1104,12.1104,12.1104)\n",
      "     cylinder, center = (0.68,0,-0.39)\n",
      "          radius 0.134879, height 1.02, axis (0, 0, 1)\n",
      "          dielectric constant epsilon diagonal = (12.1104,12.1104,12.1104)\n",
      "     cylinder, center = (-0.68,-0.68,-0.39)\n",
      "          radius 0.160112, height 1.02, axis (0, 0, 1)\n",
      "          dielectric constant epsilon diagonal = (12.1104,12.1104,12.1104)\n",
      "     cylinder, center = (0,-0.68,-0.39)\n",
      "          radius 0.116443, height 1.02, axis (0, 0, 1)\n",
      "          dielectric constant epsilon diagonal = (12.1104,12.1104,12.1104)\n",
      "     cylinder, center = (0.68,-0.68,-0.39)\n",
      "          radius 0.192082, height 1.02, axis (0, 0, 1)\n",
      "          dielectric constant epsilon diagonal = (12.1104,12.1104,12.1104)\n",
      "     ...(+ 1 objects not shown)...\n",
      "time for set_epsilon = 0.878866 s\n",
      "-----------\n",
      "on time step 1407 (time=35.175), 0.00284346 s/step\n",
      "field decay(t = 50.025000000000006): 0.022732877948790767 / 0.022732877948790767 = 1.0\n",
      "on time step 2949 (time=73.725), 0.00259566 s/step\n",
      "field decay(t = 100.05000000000001): 0.007855936506730582 / 0.022732877948790767 = 0.3455759769804449\n",
      "on time step 4474 (time=111.85), 0.00262436 s/step\n",
      "field decay(t = 150.07500000000002): 0.0013485264800167731 / 0.022732877948790767 = 0.05932053491223294\n",
      "on time step 6020 (time=150.5), 0.00258817 s/step\n",
      "on time step 7571 (time=189.275), 0.00258022 s/step\n"
     ]
    },
    {
     "name": "stderr",
     "output_type": "stream",
     "text": [
      "Warning: grid volume is not an integer number of pixels; cell size will be rounded to nearest pixel.\n"
     ]
    },
    {
     "name": "stdout",
     "output_type": "stream",
     "text": [
      "field decay(t = 200.10000000000002): 8.534781411261003e-05 / 0.022732877948790767 = 0.003754377879689006\n",
      "run 0 finished at t = 200.10000000000002 (8004 timesteps)\n",
      "MPB solved for frequency_1(0,0,0.903226) = 0.645161 after 17 iters\n",
      "Dominant planewave for band 1: (0.000000,0.000000,0.903226)\n"
     ]
    },
    {
     "name": "stderr",
     "output_type": "stream",
     "text": [
      " 33%|██████████▎                    | 2/6 [00:50<01:38, 24.75s/it]Warning: grid volume is not an integer number of pixels; cell size will be rounded to nearest pixel.\n"
     ]
    },
    {
     "name": "stdout",
     "output_type": "stream",
     "text": [
      "central_index = 10\n",
      "central pillar: 0.145\n",
      "at iteration 2 the central pillar is at Vector3<0.0, 0.0, -0.39> with 0.145\n",
      "-----------\n",
      "Initializing structure...\n",
      "time for choose_chunkdivision = 4.1008e-05 s\n",
      "Working in 3D dimensions.\n",
      "Computational cell is 2.05 x 2.05 x 4.9 with resolution 20\n",
      "     block, center = (0,0,-1.68)\n",
      "          size (1e+20,1e+20,1.56)\n",
      "          axes (1,0,0), (0,1,0), (0,0,1)\n",
      "          dielectric constant epsilon diagonal = (2.0736,2.0736,2.0736)\n",
      "     block, center = (0,0,0.78)\n",
      "          size (1e+20,1e+20,3.36)\n",
      "          axes (1,0,0), (0,1,0), (0,0,1)\n",
      "          dielectric constant epsilon diagonal = (1.96,1.96,1.96)\n",
      "     cylinder, center = (-0.68,0.68,-0.39)\n",
      "          radius 0.227475, height 1.02, axis (0, 0, 1)\n",
      "          dielectric constant epsilon diagonal = (12.1104,12.1104,12.1104)\n",
      "     cylinder, center = (0,0.68,-0.39)\n",
      "          radius 0.159218, height 1.02, axis (0, 0, 1)\n",
      "          dielectric constant epsilon diagonal = (12.1104,12.1104,12.1104)\n",
      "     cylinder, center = (0.68,0.68,-0.39)\n",
      "          radius 0.179459, height 1.02, axis (0, 0, 1)\n",
      "          dielectric constant epsilon diagonal = (12.1104,12.1104,12.1104)\n",
      "     cylinder, center = (-0.68,0,-0.39)\n",
      "          radius 0.164735, height 1.02, axis (0, 0, 1)\n",
      "          dielectric constant epsilon diagonal = (12.1104,12.1104,12.1104)\n",
      "     cylinder, center = (0.68,0,-0.39)\n",
      "          radius 0.134879, height 1.02, axis (0, 0, 1)\n",
      "          dielectric constant epsilon diagonal = (12.1104,12.1104,12.1104)\n",
      "     cylinder, center = (-0.68,-0.68,-0.39)\n",
      "          radius 0.160112, height 1.02, axis (0, 0, 1)\n",
      "          dielectric constant epsilon diagonal = (12.1104,12.1104,12.1104)\n",
      "     cylinder, center = (0,-0.68,-0.39)\n",
      "          radius 0.116443, height 1.02, axis (0, 0, 1)\n",
      "          dielectric constant epsilon diagonal = (12.1104,12.1104,12.1104)\n",
      "     cylinder, center = (0.68,-0.68,-0.39)\n",
      "          radius 0.192082, height 1.02, axis (0, 0, 1)\n",
      "          dielectric constant epsilon diagonal = (12.1104,12.1104,12.1104)\n",
      "     ...(+ 1 objects not shown)...\n",
      "time for set_epsilon = 0.865096 s\n",
      "-----------\n",
      "on time step 1462 (time=36.55), 0.0027372 s/step\n",
      "field decay(t = 50.025000000000006): 0.261472876455736 / 0.261472876455736 = 1.0\n",
      "on time step 3011 (time=75.275), 0.00258233 s/step\n",
      "field decay(t = 100.05000000000001): 0.10628290398960089 / 0.261472876455736 = 0.40647774036934653\n",
      "on time step 4561 (time=114.025), 0.0025808 s/step\n"
     ]
    },
    {
     "name": "stderr",
     "output_type": "stream",
     "text": [
      "Warning: grid volume is not an integer number of pixels; cell size will be rounded to nearest pixel.\n"
     ]
    },
    {
     "name": "stdout",
     "output_type": "stream",
     "text": [
      "field decay(t = 150.07500000000002): 0.0011926424110886066 / 0.261472876455736 = 0.004561247144464353\n",
      "run 0 finished at t = 150.07500000000002 (6003 timesteps)\n",
      "MPB solved for frequency_1(0,0,0.903226) = 0.645161 after 17 iters\n",
      "Dominant planewave for band 1: (0.000000,0.000000,0.903226)\n"
     ]
    },
    {
     "name": "stderr",
     "output_type": "stream",
     "text": [
      " 50%|███████████████▌               | 3/6 [01:07<01:03, 21.11s/it]Warning: grid volume is not an integer number of pixels; cell size will be rounded to nearest pixel.\n"
     ]
    },
    {
     "name": "stdout",
     "output_type": "stream",
     "text": [
      "central_index = 10\n",
      "central pillar: 0.18\n",
      "at iteration 3 the central pillar is at Vector3<0.0, 0.0, -0.39> with 0.18\n",
      "-----------\n",
      "Initializing structure...\n",
      "time for choose_chunkdivision = 0.000108004 s\n",
      "Working in 3D dimensions.\n",
      "Computational cell is 2.05 x 2.05 x 4.9 with resolution 20\n",
      "     block, center = (0,0,-1.68)\n",
      "          size (1e+20,1e+20,1.56)\n",
      "          axes (1,0,0), (0,1,0), (0,0,1)\n",
      "          dielectric constant epsilon diagonal = (2.0736,2.0736,2.0736)\n",
      "     block, center = (0,0,0.78)\n",
      "          size (1e+20,1e+20,3.36)\n",
      "          axes (1,0,0), (0,1,0), (0,0,1)\n",
      "          dielectric constant epsilon diagonal = (1.96,1.96,1.96)\n",
      "     cylinder, center = (-0.68,0.68,-0.39)\n",
      "          radius 0.227475, height 1.02, axis (0, 0, 1)\n",
      "          dielectric constant epsilon diagonal = (12.1104,12.1104,12.1104)\n",
      "     cylinder, center = (0,0.68,-0.39)\n",
      "          radius 0.159218, height 1.02, axis (0, 0, 1)\n",
      "          dielectric constant epsilon diagonal = (12.1104,12.1104,12.1104)\n",
      "     cylinder, center = (0.68,0.68,-0.39)\n",
      "          radius 0.179459, height 1.02, axis (0, 0, 1)\n",
      "          dielectric constant epsilon diagonal = (12.1104,12.1104,12.1104)\n",
      "     cylinder, center = (-0.68,0,-0.39)\n",
      "          radius 0.164735, height 1.02, axis (0, 0, 1)\n",
      "          dielectric constant epsilon diagonal = (12.1104,12.1104,12.1104)\n",
      "     cylinder, center = (0.68,0,-0.39)\n",
      "          radius 0.134879, height 1.02, axis (0, 0, 1)\n",
      "          dielectric constant epsilon diagonal = (12.1104,12.1104,12.1104)\n",
      "     cylinder, center = (-0.68,-0.68,-0.39)\n",
      "          radius 0.160112, height 1.02, axis (0, 0, 1)\n",
      "          dielectric constant epsilon diagonal = (12.1104,12.1104,12.1104)\n",
      "     cylinder, center = (0,-0.68,-0.39)\n",
      "          radius 0.116443, height 1.02, axis (0, 0, 1)\n",
      "          dielectric constant epsilon diagonal = (12.1104,12.1104,12.1104)\n",
      "     cylinder, center = (0.68,-0.68,-0.39)\n",
      "          radius 0.192082, height 1.02, axis (0, 0, 1)\n",
      "          dielectric constant epsilon diagonal = (12.1104,12.1104,12.1104)\n",
      "     ...(+ 1 objects not shown)...\n",
      "time for set_epsilon = 0.88351 s\n",
      "-----------\n",
      "on time step 1429 (time=35.725), 0.00279947 s/step\n",
      "field decay(t = 50.025000000000006): 0.5312160245478269 / 0.5312160245478269 = 1.0\n",
      "on time step 2929 (time=73.225), 0.00266763 s/step\n",
      "field decay(t = 100.05000000000001): 0.2961057165341077 / 0.5312160245478269 = 0.5574111149718309\n",
      "on time step 4466 (time=111.65), 0.00260267 s/step\n"
     ]
    },
    {
     "name": "stderr",
     "output_type": "stream",
     "text": [
      "Warning: grid volume is not an integer number of pixels; cell size will be rounded to nearest pixel.\n"
     ]
    },
    {
     "name": "stdout",
     "output_type": "stream",
     "text": [
      "field decay(t = 150.07500000000002): 0.004236739923446539 / 0.5312160245478269 = 0.007975549922562799\n",
      "run 0 finished at t = 150.07500000000002 (6003 timesteps)\n",
      "MPB solved for frequency_1(0,0,0.903226) = 0.645161 after 17 iters\n",
      "Dominant planewave for band 1: (0.000000,0.000000,0.903226)\n"
     ]
    },
    {
     "name": "stderr",
     "output_type": "stream",
     "text": [
      " 67%|████████████████████▋          | 4/6 [01:24<00:39, 19.51s/it]Warning: grid volume is not an integer number of pixels; cell size will be rounded to nearest pixel.\n"
     ]
    },
    {
     "name": "stdout",
     "output_type": "stream",
     "text": [
      "central_index = 10\n",
      "central pillar: 0.21499999999999997\n",
      "at iteration 4 the central pillar is at Vector3<0.0, 0.0, -0.39> with 0.21499999999999997\n",
      "-----------\n",
      "Initializing structure...\n",
      "time for choose_chunkdivision = 0.000105143 s\n",
      "Working in 3D dimensions.\n",
      "Computational cell is 2.05 x 2.05 x 4.9 with resolution 20\n",
      "     block, center = (0,0,-1.68)\n",
      "          size (1e+20,1e+20,1.56)\n",
      "          axes (1,0,0), (0,1,0), (0,0,1)\n",
      "          dielectric constant epsilon diagonal = (2.0736,2.0736,2.0736)\n",
      "     block, center = (0,0,0.78)\n",
      "          size (1e+20,1e+20,3.36)\n",
      "          axes (1,0,0), (0,1,0), (0,0,1)\n",
      "          dielectric constant epsilon diagonal = (1.96,1.96,1.96)\n",
      "     cylinder, center = (-0.68,0.68,-0.39)\n",
      "          radius 0.227475, height 1.02, axis (0, 0, 1)\n",
      "          dielectric constant epsilon diagonal = (12.1104,12.1104,12.1104)\n",
      "     cylinder, center = (0,0.68,-0.39)\n",
      "          radius 0.159218, height 1.02, axis (0, 0, 1)\n",
      "          dielectric constant epsilon diagonal = (12.1104,12.1104,12.1104)\n",
      "     cylinder, center = (0.68,0.68,-0.39)\n",
      "          radius 0.179459, height 1.02, axis (0, 0, 1)\n",
      "          dielectric constant epsilon diagonal = (12.1104,12.1104,12.1104)\n",
      "     cylinder, center = (-0.68,0,-0.39)\n",
      "          radius 0.164735, height 1.02, axis (0, 0, 1)\n",
      "          dielectric constant epsilon diagonal = (12.1104,12.1104,12.1104)\n",
      "     cylinder, center = (0.68,0,-0.39)\n",
      "          radius 0.134879, height 1.02, axis (0, 0, 1)\n",
      "          dielectric constant epsilon diagonal = (12.1104,12.1104,12.1104)\n",
      "     cylinder, center = (-0.68,-0.68,-0.39)\n",
      "          radius 0.160112, height 1.02, axis (0, 0, 1)\n",
      "          dielectric constant epsilon diagonal = (12.1104,12.1104,12.1104)\n",
      "     cylinder, center = (0,-0.68,-0.39)\n",
      "          radius 0.116443, height 1.02, axis (0, 0, 1)\n",
      "          dielectric constant epsilon diagonal = (12.1104,12.1104,12.1104)\n",
      "     cylinder, center = (0.68,-0.68,-0.39)\n",
      "          radius 0.192082, height 1.02, axis (0, 0, 1)\n",
      "          dielectric constant epsilon diagonal = (12.1104,12.1104,12.1104)\n",
      "     ...(+ 1 objects not shown)...\n",
      "time for set_epsilon = 0.964617 s\n",
      "-----------\n",
      "on time step 1234 (time=30.85), 0.00324209 s/step\n",
      "field decay(t = 50.025000000000006): 0.34245952992442025 / 0.34245952992442025 = 1.0\n",
      "on time step 2678 (time=66.95), 0.00277089 s/step\n",
      "field decay(t = 100.05000000000001): 0.1188465237528571 / 0.34245952992442025 = 0.3470381559511168\n",
      "on time step 4040 (time=101), 0.00293812 s/step\n",
      "on time step 5653 (time=141.325), 0.00248083 s/step\n",
      "field decay(t = 150.07500000000002): 0.005365394961966611 / 0.34245952992442025 = 0.015667238003716052\n",
      "on time step 6997 (time=174.925), 0.00297805 s/step\n"
     ]
    },
    {
     "name": "stderr",
     "output_type": "stream",
     "text": [
      "Warning: grid volume is not an integer number of pixels; cell size will be rounded to nearest pixel.\n"
     ]
    },
    {
     "name": "stdout",
     "output_type": "stream",
     "text": [
      "field decay(t = 200.10000000000002): 0.001202662989057398 / 0.34245952992442025 = 0.0035118397473792654\n",
      "run 0 finished at t = 200.10000000000002 (8004 timesteps)\n",
      "MPB solved for frequency_1(0,0,0.903226) = 0.645161 after 17 iters\n",
      "Dominant planewave for band 1: (0.000000,0.000000,0.903226)\n"
     ]
    },
    {
     "name": "stderr",
     "output_type": "stream",
     "text": [
      " 83%|█████████████████████████▊     | 5/6 [01:48<00:21, 21.04s/it]Warning: grid volume is not an integer number of pixels; cell size will be rounded to nearest pixel.\n"
     ]
    },
    {
     "name": "stdout",
     "output_type": "stream",
     "text": [
      "central_index = 10\n",
      "central pillar: 0.25\n",
      "at iteration 5 the central pillar is at Vector3<0.0, 0.0, -0.39> with 0.25\n",
      "-----------\n",
      "Initializing structure...\n",
      "time for choose_chunkdivision = 4.19617e-05 s\n",
      "Working in 3D dimensions.\n",
      "Computational cell is 2.05 x 2.05 x 4.9 with resolution 20\n",
      "     block, center = (0,0,-1.68)\n",
      "          size (1e+20,1e+20,1.56)\n",
      "          axes (1,0,0), (0,1,0), (0,0,1)\n",
      "          dielectric constant epsilon diagonal = (2.0736,2.0736,2.0736)\n",
      "     block, center = (0,0,0.78)\n",
      "          size (1e+20,1e+20,3.36)\n",
      "          axes (1,0,0), (0,1,0), (0,0,1)\n",
      "          dielectric constant epsilon diagonal = (1.96,1.96,1.96)\n",
      "     cylinder, center = (-0.68,0.68,-0.39)\n",
      "          radius 0.227475, height 1.02, axis (0, 0, 1)\n",
      "          dielectric constant epsilon diagonal = (12.1104,12.1104,12.1104)\n",
      "     cylinder, center = (0,0.68,-0.39)\n",
      "          radius 0.159218, height 1.02, axis (0, 0, 1)\n",
      "          dielectric constant epsilon diagonal = (12.1104,12.1104,12.1104)\n",
      "     cylinder, center = (0.68,0.68,-0.39)\n",
      "          radius 0.179459, height 1.02, axis (0, 0, 1)\n",
      "          dielectric constant epsilon diagonal = (12.1104,12.1104,12.1104)\n",
      "     cylinder, center = (-0.68,0,-0.39)\n",
      "          radius 0.164735, height 1.02, axis (0, 0, 1)\n",
      "          dielectric constant epsilon diagonal = (12.1104,12.1104,12.1104)\n",
      "     cylinder, center = (0.68,0,-0.39)\n",
      "          radius 0.134879, height 1.02, axis (0, 0, 1)\n",
      "          dielectric constant epsilon diagonal = (12.1104,12.1104,12.1104)\n",
      "     cylinder, center = (-0.68,-0.68,-0.39)\n",
      "          radius 0.160112, height 1.02, axis (0, 0, 1)\n",
      "          dielectric constant epsilon diagonal = (12.1104,12.1104,12.1104)\n",
      "     cylinder, center = (0,-0.68,-0.39)\n",
      "          radius 0.116443, height 1.02, axis (0, 0, 1)\n",
      "          dielectric constant epsilon diagonal = (12.1104,12.1104,12.1104)\n",
      "     cylinder, center = (0.68,-0.68,-0.39)\n",
      "          radius 0.192082, height 1.02, axis (0, 0, 1)\n",
      "          dielectric constant epsilon diagonal = (12.1104,12.1104,12.1104)\n",
      "     ...(+ 1 objects not shown)...\n",
      "time for set_epsilon = 0.891203 s\n",
      "-----------\n",
      "on time step 1236 (time=30.9), 0.00323731 s/step\n",
      "field decay(t = 50.025000000000006): 0.3868568936166678 / 0.3868568936166678 = 1.0\n",
      "on time step 2850 (time=71.25), 0.00247871 s/step\n",
      "field decay(t = 100.05000000000001): 0.16293817632137825 / 0.3868568936166678 = 0.4211846266925564\n",
      "on time step 4466 (time=111.65), 0.00247664 s/step\n",
      "field decay(t = 150.07500000000002): 0.009527250353643248 / 0.3868568936166678 = 0.024627324757158637\n",
      "on time step 6083 (time=152.075), 0.00247494 s/step\n",
      "on time step 7701 (time=192.525), 0.00247364 s/step\n"
     ]
    },
    {
     "name": "stderr",
     "output_type": "stream",
     "text": [
      "Warning: grid volume is not an integer number of pixels; cell size will be rounded to nearest pixel.\n"
     ]
    },
    {
     "name": "stdout",
     "output_type": "stream",
     "text": [
      "field decay(t = 200.10000000000002): 0.0014382700502670559 / 0.3868568936166678 = 0.00371783487382345\n",
      "run 0 finished at t = 200.10000000000002 (8004 timesteps)\n",
      "MPB solved for frequency_1(0,0,0.903226) = 0.645161 after 17 iters\n",
      "Dominant planewave for band 1: (0.000000,0.000000,0.903226)\n"
     ]
    },
    {
     "name": "stderr",
     "output_type": "stream",
     "text": [
      "                                                                  \r"
     ]
    }
   ],
   "source": [
    "pbar = tqdm(total=num,leave=False)\n",
    "central_index = None\n",
    "for i,radius in enumerate(np.linspace(0.075,0.25,num=num)):\n",
    "    for j, pillar in enumerate(geometry):\n",
    "        if pillar.center == mp.Vector3(0,0,center_pillar):\n",
    "            central_index = j\n",
    "            print(f\"central_index = {j}\")\n",
    "    if central_index is not None:\n",
    "        geometry.pop(central_index)\n",
    "    print(f\"central pillar: {radius}\")\n",
    "    geometry.append(mp.Cylinder(radius=radius,\n",
    "                        height=height_pillar,\n",
    "                        axis=mp.Vector3(0,0,1),\n",
    "                        center=mp.Vector3(0,0,center_pillar),\n",
    "                        material=mp.Medium(index=n_amorphousSi)))\n",
    "\n",
    "    print(f\"at iteration {i} the central pillar is at {geometry[central_index].center} with {geometry[central_index].radius}\")\n",
    "    sim = mp.Simulation(cell_size=cell_size,\n",
    "                        geometry=geometry,\n",
    "                        sources=sources,\n",
    "                        k_point=k_point,\n",
    "                        boundary_layers=pml_layers,\n",
    "                        #symmetries=symmetries,\n",
    "                        resolution=resolution)\n",
    "    \n",
    "    flux_object = sim.add_flux(freq, df, nfreq, fr)  \n",
    "    dft_object = sim.add_dft_fields([mp.Ex, mp.Ey, mp.Ez], freq, df, nfreq, where=where)\n",
    "    \n",
    "    run_sim()\n",
    "    \n",
    "    res = sim.get_eigenmode_coefficients(flux_object, [1], eig_parity=mp.ODD_Y)\n",
    "    coeffs = res.alpha\n",
    "\n",
    "    flux = abs(coeffs[0,0,0]**2)\n",
    "    phase = np.angle(coeffs[0,0,0]) \n",
    "    \n",
    "    data[0,i] = radius\n",
    "    data[1,i] = flux\n",
    "    data[2,i] = phase\n",
    "    # if(radius!=0.25):\n",
    "    #     sim.reset_meep()\n",
    "    #     print(f\"i= {i},radius={radius}\")\n",
    "    #     geometry.pop(5)\n",
    "    dfts.append([sim.get_dft_array(dft_object, mp.Ex, 0), sim.get_dft_array(dft_object, mp.Ey, 0), sim.get_dft_array(dft_object, mp.Ez, 0)])\n",
    "\n",
    "    pbar.update(1)\n",
    "pbar.close()"
   ]
  },
  {
   "cell_type": "code",
   "execution_count": 9,
   "id": "aaacb1f5-3d1b-4d91-af3d-a27dfb288e8a",
   "metadata": {},
   "outputs": [
    {
     "name": "stdout",
     "output_type": "stream",
     "text": [
      "(42, 42)\n",
      "0.8800985069702292\n"
     ]
    }
   ],
   "source": [
    "def get_intensity(Ex, Ey, Ez):\n",
    "    print(Ex.shape)\n",
    "    E_0 = np.sqrt((abs(Ex)**2 + abs(Ey)**2 + abs(Ez)**2))\n",
    "    I = 0.5 * E_0**2\n",
    "    return(np.mean(I))\n",
    "\n",
    "initial_I = get_intensity(initial_dft[0], initial_dft[1], initial_dft[2])\n",
    "print(initial_I)"
   ]
  },
  {
   "cell_type": "code",
   "execution_count": 10,
   "id": "ed0c62f9-9a7c-42ee-827f-4ea29c963eda",
   "metadata": {},
   "outputs": [
    {
     "name": "stdout",
     "output_type": "stream",
     "text": [
      "(42, 42)\n"
     ]
    }
   ],
   "source": [
    "print(initial_dft[0].shape)"
   ]
  },
  {
   "cell_type": "code",
   "execution_count": 11,
   "id": "76d553b6-042b-4851-a1db-a7d90ced5253",
   "metadata": {},
   "outputs": [
    {
     "name": "stdout",
     "output_type": "stream",
     "text": [
      "(42, 42) (42, 42) (42, 42)\n",
      "(42, 42)\n",
      "(42, 42) (42, 42) (42, 42)\n",
      "(42, 42)\n",
      "(42, 42) (42, 42) (42, 42)\n",
      "(42, 42)\n",
      "(42, 42) (42, 42) (42, 42)\n",
      "(42, 42)\n",
      "(42, 42) (42, 42) (42, 42)\n",
      "(42, 42)\n",
      "(42, 42) (42, 42) (42, 42)\n",
      "(42, 42)\n"
     ]
    }
   ],
   "source": [
    "I_list = []\n",
    "for dft in dfts:\n",
    "    print(dft[0].shape, dft[1].shape, dft[2].shape)\n",
    "    I = get_intensity(dft[0], dft[1], dft[2])\n",
    "    I_list.append(I / initial_I)"
   ]
  },
  {
   "cell_type": "code",
   "execution_count": null,
   "id": "aa16a4c4-1218-409c-adc9-d970664f2b22",
   "metadata": {},
   "outputs": [],
   "source": []
  },
  {
   "cell_type": "code",
   "execution_count": 12,
   "id": "8928ea53-1917-49a4-8244-40a9c151ba9e",
   "metadata": {},
   "outputs": [
    {
     "data": {
      "image/png": "[encoded data removed]",
      "text/plain": [
       "<Figure size 800x500 with 1 Axes>"
      ]
     },
     "metadata": {},
     "output_type": "display_data"
    }
   ],
   "source": [
    "radii = data[0,:]\n",
    "flux_list = data[1,0:] / initial_flux\n",
    "phase_list = data[2,0:]\n",
    "\n",
    "#plt.style.use('seaborn')\n",
    "\n",
    "results = {\"radii\": radii, \"flux\": flux_list, \"phase\": phase_list}\n",
    "# this section plots radius vs. phase and transmission\n",
    "plt.style.use('seaborn-v0_8')\n",
    "\n",
    "tickfontsize=14\n",
    "labelfontsize=16\n",
    "titlefontsize=22\n",
    "padding = 0.08\n",
    "plt.close(\"all\")\n",
    "fig,ax = plt.subplots(figsize=(8,5)) # may want to change. Also see DPI keyword\n",
    "\n",
    "fig.suptitle(\"Meta-atom transmission\",fontsize=titlefontsize)\n",
    "\n",
    "ax.set_xlabel(\"Central pillar radius (nm)\",fontsize=labelfontsize)\n",
    "ax.set_xticks([0.075,0.100,0.125,0.150,0.175,0.200,0.225,0.250])\n",
    "ax.set_xticklabels([75,100,125,150,175,200,225,250],fontsize=tickfontsize)\n",
    "ax.set_ylim([0,1+padding])\n",
    "ax.set_ylabel(r'Percent transmitted ($\\%$)',fontsize=labelfontsize, color = 'blue')\n",
    "ax.plot(radii,flux_list,'b',label='Flux object')\n",
    "ax.plot(radii,I_list,'green',label='Dft object')\n",
    "ax.tick_params(axis='y', labelcolor = 'blue')\n",
    "\n",
    "ax.set_yticks([0,0.2,0.4,0.6,0.8,1])\n",
    "ax.set_yticklabels([0, 20,40,60,80,100],fontsize=tickfontsize)\n",
    "\n",
    "ax.legend(frameon=True, edgecolor='dimgrey')\n",
    "# twin1 = ax.twinx()\n",
    "\n",
    "# twin1.set_ylim([-np.pi,np.pi])\n",
    "# twin1.set_ylabel(r'Phase Delay (rad)',fontsize=labelfontsize, color = 'red')\n",
    "# twin1.set_yticks([-np.pi, -(0.5*np.pi),0, np.pi / 2, np.pi])\n",
    "# twin1.set_yticklabels([r'-$\\pi$',r'-$\\frac{\\pi}{2}$',r'0',r'$\\frac{\\pi}{2}$',r'$\\pi$'],fontsize=tickfontsize+4)\n",
    "# twin1.plot(radii,phase_list,'r',label='Phase')\n",
    "# twin1.tick_params(axis='y', labelcolor = 'red')\n",
    "\n",
    "plt.grid(False)\n",
    "plt.tight_layout()"
   ]
  },
  {
   "cell_type": "code",
   "execution_count": null,
   "id": "86bbbadb-c10d-4d20-9d4b-fc62929bfa67",
   "metadata": {},
   "outputs": [],
   "source": []
  }
 ],
 "metadata": {
  "kernelspec": {
   "display_name": "Python 3 (ipykernel)",
   "language": "python",
   "name": "python3"
  },
  "language_info": {
   "codemirror_mode": {
    "name": "ipython",
    "version": 3
   },
   "file_extension": ".py",
   "mimetype": "text/x-python",
   "name": "python",
   "nbconvert_exporter": "python",
   "pygments_lexer": "ipython3",
   "version": "3.10.12"
  }
 },
 "nbformat": 4,
 "nbformat_minor": 5
}
