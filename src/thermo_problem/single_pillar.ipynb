{
 "cells": [
  {
   "cell_type": "code",
   "execution_count": 1,
   "id": "372e5257-fcd9-422d-990c-3bc54a9154d2",
   "metadata": {},
   "outputs": [
    {
     "name": "stdout",
     "output_type": "stream",
     "text": [
      "Using MPI version 4.0, 1 processes\n"
     ]
    },
    {
     "name": "stderr",
     "output_type": "stream",
     "text": [
      "hwloc/linux: Ignoring PCI device with non-16bit domain.\n",
      "Pass --enable-32bits-pci-domain to configure to support such devices\n",
      "(warning: it would break the library ABI, don't enable unless really needed).\n"
     ]
    }
   ],
   "source": [
    "import os\n",
    "import pickle\n",
    "import shutil \n",
    "\n",
    "import meep as mp\n",
    "import numpy as np\n",
    "import matplotlib.pyplot as plt\n",
    "from tqdm import tqdm\n",
    "import math\n",
    "from IPython import embed"
   ]
  },
  {
   "cell_type": "code",
   "execution_count": 2,
   "id": "639ec6a4-d3fe-4bfb-ab12-0c622beb5bb6",
   "metadata": {},
   "outputs": [],
   "source": [
    "resolution = 15\n",
    "\n",
    "n_fusedSilica = 1.44\n",
    "n_PDMS = 1.4\n",
    "n_amorphousSi = 3.48\n",
    "\n",
    "a = 0.680   # lattice period \n",
    "\n",
    "pml_thickness = 0.780\n",
    "height_pillar = 1.020\n",
    "width_PDMS = 1.560\n",
    "width_fusedSilica = 0.780\n",
    "\n",
    "cell_x = a\n",
    "cell_y = a\n",
    "cell_z = round(2*pml_thickness + width_PDMS + height_pillar +  width_fusedSilica, 3)\n",
    "\n",
    "center_PDMS = round(0.5*(height_pillar + width_PDMS + pml_thickness) \n",
    "                    + (pml_thickness + width_fusedSilica) - 0.5*cell_z, 3)\n",
    "center_fusedSilica = round(0.5*(pml_thickness + width_fusedSilica) - 0.5*cell_z, 3)\n",
    "center_pillar = round(pml_thickness + width_fusedSilica + 0.5*height_pillar\n",
    "                    - 0.5*cell_z, 3) \n",
    "\n",
    "z_fusedSilica = pml_thickness + width_fusedSilica\n",
    "z_PDMS = height_pillar + width_PDMS + pml_thickness"
   ]
  },
  {
   "cell_type": "code",
   "execution_count": 3,
   "id": "3a8c0046-df09-4245-a949-3bb3d90df6e1",
   "metadata": {},
   "outputs": [],
   "source": [
    "geometry = [mp.Block(size=mp.Vector3(mp.inf,mp.inf,z_fusedSilica), \n",
    "                    center=mp.Vector3(0,0,center_fusedSilica),\n",
    "                    material=mp.Medium(index=n_fusedSilica)),\n",
    "            mp.Block(size=mp.Vector3(mp.inf,mp.inf,z_PDMS),\n",
    "                    center=mp.Vector3(0,0,center_PDMS),\n",
    "                    material=mp.Medium(index=n_PDMS))]\n",
    "k_point = mp.Vector3(0,0,0)\n",
    "#k_point = mp.Vector3(np.radians(35), 0, 0)  # k vector defines normal to the plane of propagation\n",
    "\n",
    "wavelength = 1.55\n",
    "freq = 1 / wavelength\n",
    "\n",
    "## initialize matrix for data collection ##\n",
    "##########################################\n",
    "\n",
    "num = 6 # this is the number of pillars we will build\n",
    "data = np.zeros((3,num))\n",
    "dfts = []\n",
    "\n",
    "## set up and build source ##\n",
    "############################\n",
    "\n",
    "center_source = round(pml_thickness + width_fusedSilica*0.2 - 0.5*cell_z, 3) \n",
    "source_cmpt = mp.Ey\n",
    "\n",
    "fcen = freq\n",
    "fwidth=0.2*freq\n",
    "\n",
    "sources = [mp.Source(mp.GaussianSource(fcen, fwidth=fwidth), component = source_cmpt,\n",
    "                            center=mp.Vector3(0,0,center_source),\n",
    "                            size=mp.Vector3(cell_x,cell_y,0))]\n",
    "\n",
    "def run_sim():\n",
    "    sim.run(until_after_sources=mp.stop_when_fields_decayed(50, source_cmpt, mp.Vector3(0, 0, cell_z), 1e-2))"
   ]
  },
  {
   "cell_type": "code",
   "execution_count": 4,
   "id": "6494fd23-481c-4250-932b-98b3071b4f9c",
   "metadata": {},
   "outputs": [
    {
     "name": "stderr",
     "output_type": "stream",
     "text": [
      "Warning: grid volume is not an integer number of pixels; cell size will be rounded to nearest pixel.\n"
     ]
    },
    {
     "name": "stdout",
     "output_type": "stream",
     "text": [
      "-----------\n",
      "Initializing structure...\n",
      "Halving computational cell along direction x\n",
      "Halving computational cell along direction y\n",
      "time for choose_chunkdivision = 0.00227308 s\n",
      "Working in 3D dimensions.\n",
      "Computational cell is 0.666667 x 0.666667 x 4.93333 with resolution 15\n",
      "     block, center = (0,0,-1.68)\n",
      "          size (1e+20,1e+20,1.56)\n",
      "          axes (1,0,0), (0,1,0), (0,0,1)\n",
      "          dielectric constant epsilon diagonal = (2.0736,2.0736,2.0736)\n",
      "     block, center = (0,0,0.78)\n",
      "          size (1e+20,1e+20,3.36)\n",
      "          axes (1,0,0), (0,1,0), (0,0,1)\n",
      "          dielectric constant epsilon diagonal = (1.96,1.96,1.96)\n",
      "time for set_epsilon = 0.033905 s\n",
      "-----------\n",
      "field decay(t = 50.03333333333333): 0.12280372618768592 / 0.12280372618768592 = 1.0\n",
      "field decay(t = 100.06666666666666): 0.02958648037023179 / 0.12280372618768592 = 0.2409249400544538\n",
      "field decay(t = 150.1): 3.231363431383704e-16 / 0.12280372618768592 = 2.631323602058361e-15\n",
      "run 0 finished at t = 150.1 (4503 timesteps)\n"
     ]
    }
   ],
   "source": [
    "cell_size = mp.Vector3(cell_x,cell_y,cell_z)\n",
    "pml_layers = [mp.PML(thickness = pml_thickness, direction = mp.Z)]\n",
    "\n",
    "if source_cmpt == mp.Ey:\n",
    "    symmetries = [mp.Mirror(mp.X, phase=+1), #epsilon has mirror symmetry in x and y, phase doesn't matter\n",
    "                  mp.Mirror(mp.Y, phase=-1)] #but sources have -1 phase when reflected normal to their direction\n",
    "elif src_cmpt == mp.Ex:                      #use of symmetries important here, significantly speeds up sim\n",
    "    symmetries = [mp.Mirror(mp.X, phase=-1),\n",
    "                  mp.Mirror(mp.Y, phase=+1)]\n",
    "elif src_cmpt == mp.Ez:\n",
    "    symmetries = [mp.Mirror(mp.X, phase=+1),\n",
    "                  mp.Mirror(mp.Y, phase=+1)]\n",
    "\n",
    "\n",
    "\n",
    "sim = mp.Simulation(cell_size=cell_size,\n",
    "                    geometry=geometry,\n",
    "                    sources=sources,\n",
    "                    k_point=k_point,\n",
    "                    boundary_layers=pml_layers,\n",
    "                    symmetries=symmetries,\n",
    "                    resolution=resolution)\n",
    "\n",
    "nfreq = 1\n",
    "df = 0\n",
    "fr_center = round(0.5*cell_z - pml_thickness - 0.3*width_PDMS, 3)\n",
    "fr = mp.FluxRegion(center=mp.Vector3(0,0,fr_center), \n",
    "            size=mp.Vector3(cell_x, cell_y, 0))\n",
    "\n",
    "flux_object = sim.add_flux(freq, df, nfreq, fr)\n",
    "where=mp.Volume(center=mp.Vector3(0, 0, fr_center), size=mp.Vector3(cell_x, cell_y, 0))\n",
    "dft_object = sim.add_dft_fields([mp.Ex, mp.Ey, mp.Ez], freq, df, nfreq, where=where)\n",
    "run_sim()"
   ]
  },
  {
   "cell_type": "code",
   "execution_count": 5,
   "id": "84350187-caba-4e03-9ae3-1f00e4a0fe9f",
   "metadata": {},
   "outputs": [
    {
     "name": "stdout",
     "output_type": "stream",
     "text": [
      "1.204076272043475\n"
     ]
    }
   ],
   "source": [
    "initial_flux = mp.get_fluxes(flux_object)[0]     # initial flux\n",
    "initial_dft = [sim.get_dft_array(dft_object, mp.Ex, 0),\n",
    "               sim.get_dft_array(dft_object, mp.Ey, 0),\n",
    "               sim.get_dft_array(dft_object, mp.Ez, 0)]\n",
    "\n",
    "sim.reset_meep()\n",
    "print(initial_flux)"
   ]
  },
  {
   "cell_type": "code",
   "execution_count": 6,
   "id": "6b4b10f2-ed61-42ad-a622-17e1a886e527",
   "metadata": {},
   "outputs": [
    {
     "name": "stderr",
     "output_type": "stream",
     "text": [
      "  0%|                                                                              | 0/6 [00:00<?, ?it/s]Warning: grid volume is not an integer number of pixels; cell size will be rounded to nearest pixel.\n"
     ]
    },
    {
     "name": "stdout",
     "output_type": "stream",
     "text": [
      "-----------\n",
      "Initializing structure...\n",
      "Halving computational cell along direction x\n",
      "Halving computational cell along direction y\n",
      "time for choose_chunkdivision = 0.00190592 s\n",
      "Working in 3D dimensions.\n",
      "Computational cell is 0.666667 x 0.666667 x 4.93333 with resolution 15\n",
      "     block, center = (0,0,-1.68)\n",
      "          size (1e+20,1e+20,1.56)\n",
      "          axes (1,0,0), (0,1,0), (0,0,1)\n",
      "          dielectric constant epsilon diagonal = (2.0736,2.0736,2.0736)\n",
      "     block, center = (0,0,0.78)\n",
      "          size (1e+20,1e+20,3.36)\n",
      "          axes (1,0,0), (0,1,0), (0,0,1)\n",
      "          dielectric constant epsilon diagonal = (1.96,1.96,1.96)\n",
      "     cylinder, center = (0,0,-0.39)\n",
      "          radius 0.075, height 1.02, axis (0, 0, 1)\n",
      "          dielectric constant epsilon diagonal = (12.1104,12.1104,12.1104)\n",
      "time for set_epsilon = 0.0410459 s\n",
      "-----------\n",
      "field decay(t = 50.03333333333333): 0.023123318922198707 / 0.023123318922198707 = 1.0\n",
      "field decay(t = 100.06666666666666): 0.005589807114636813 / 0.023123318922198707 = 0.24173896201684614\n"
     ]
    },
    {
     "name": "stderr",
     "output_type": "stream",
     "text": [
      "Warning: grid volume is not an integer number of pixels; cell size will be rounded to nearest pixel.\n"
     ]
    },
    {
     "name": "stdout",
     "output_type": "stream",
     "text": [
      "field decay(t = 150.1): 1.623687614252031e-15 / 0.023123318922198707 = 7.021862301493703e-14\n",
      "run 0 finished at t = 150.1 (4503 timesteps)\n",
      "MPB solved for frequency_1(0,0,0.903226) = 0.645161 after 8 iters\n",
      "Dominant planewave for band 1: (0.000000,0.000000,0.903226)\n"
     ]
    },
    {
     "name": "stderr",
     "output_type": "stream",
     "text": [
      " 17%|███████████▋                                                          | 1/6 [00:00<00:02,  1.77it/s]Warning: grid volume is not an integer number of pixels; cell size will be rounded to nearest pixel.\n"
     ]
    },
    {
     "name": "stdout",
     "output_type": "stream",
     "text": [
      "i= 0,radius=0.075\n",
      "-----------\n",
      "Initializing structure...\n",
      "Halving computational cell along direction x\n",
      "Halving computational cell along direction y\n",
      "time for choose_chunkdivision = 0.00171304 s\n",
      "Working in 3D dimensions.\n",
      "Computational cell is 0.666667 x 0.666667 x 4.93333 with resolution 15\n",
      "     block, center = (0,0,-1.68)\n",
      "          size (1e+20,1e+20,1.56)\n",
      "          axes (1,0,0), (0,1,0), (0,0,1)\n",
      "          dielectric constant epsilon diagonal = (2.0736,2.0736,2.0736)\n",
      "     block, center = (0,0,0.78)\n",
      "          size (1e+20,1e+20,3.36)\n",
      "          axes (1,0,0), (0,1,0), (0,0,1)\n",
      "          dielectric constant epsilon diagonal = (1.96,1.96,1.96)\n",
      "     cylinder, center = (0,0,-0.39)\n",
      "          radius 0.11, height 1.02, axis (0, 0, 1)\n",
      "          dielectric constant epsilon diagonal = (12.1104,12.1104,12.1104)\n",
      "time for set_epsilon = 0.0316579 s\n",
      "-----------\n",
      "field decay(t = 50.03333333333333): 0.03469271856662571 / 0.03469271856662571 = 1.0\n",
      "field decay(t = 100.06666666666666): 0.008729849600046113 / 0.03469271856662571 = 0.2516334827805683\n"
     ]
    },
    {
     "name": "stderr",
     "output_type": "stream",
     "text": [
      "Warning: grid volume is not an integer number of pixels; cell size will be rounded to nearest pixel.\n"
     ]
    },
    {
     "name": "stdout",
     "output_type": "stream",
     "text": [
      "field decay(t = 150.1): 9.777870060094282e-15 / 0.03469271856662571 = 2.8184214048594517e-13\n",
      "run 0 finished at t = 150.1 (4503 timesteps)\n",
      "MPB solved for frequency_1(0,0,0.903226) = 0.645161 after 8 iters\n",
      "Dominant planewave for band 1: (0.000000,0.000000,0.903226)\n"
     ]
    },
    {
     "name": "stderr",
     "output_type": "stream",
     "text": [
      " 33%|███████████████████████▎                                              | 2/6 [00:01<00:02,  1.82it/s]Warning: grid volume is not an integer number of pixels; cell size will be rounded to nearest pixel.\n"
     ]
    },
    {
     "name": "stdout",
     "output_type": "stream",
     "text": [
      "i= 1,radius=0.10999999999999999\n",
      "-----------\n",
      "Initializing structure...\n",
      "Halving computational cell along direction x\n",
      "Halving computational cell along direction y\n",
      "time for choose_chunkdivision = 0.00170398 s\n",
      "Working in 3D dimensions.\n",
      "Computational cell is 0.666667 x 0.666667 x 4.93333 with resolution 15\n",
      "     block, center = (0,0,-1.68)\n",
      "          size (1e+20,1e+20,1.56)\n",
      "          axes (1,0,0), (0,1,0), (0,0,1)\n",
      "          dielectric constant epsilon diagonal = (2.0736,2.0736,2.0736)\n",
      "     block, center = (0,0,0.78)\n",
      "          size (1e+20,1e+20,3.36)\n",
      "          axes (1,0,0), (0,1,0), (0,0,1)\n",
      "          dielectric constant epsilon diagonal = (1.96,1.96,1.96)\n",
      "     cylinder, center = (0,0,-0.39)\n",
      "          radius 0.145, height 1.02, axis (0, 0, 1)\n",
      "          dielectric constant epsilon diagonal = (12.1104,12.1104,12.1104)\n",
      "time for set_epsilon = 0.03019 s\n",
      "-----------\n",
      "field decay(t = 50.03333333333333): 0.10795651246296238 / 0.10795651246296238 = 1.0\n",
      "field decay(t = 100.06666666666666): 0.031723121283933446 / 0.10795651246296238 = 0.2938509271945681\n"
     ]
    },
    {
     "name": "stderr",
     "output_type": "stream",
     "text": [
      "Warning: grid volume is not an integer number of pixels; cell size will be rounded to nearest pixel.\n"
     ]
    },
    {
     "name": "stdout",
     "output_type": "stream",
     "text": [
      "field decay(t = 150.1): 7.999889356426389e-13 / 0.10795651246296238 = 7.410288804180279e-12\n",
      "run 0 finished at t = 150.1 (4503 timesteps)\n",
      "MPB solved for frequency_1(0,0,0.903226) = 0.645161 after 8 iters\n",
      "Dominant planewave for band 1: (0.000000,0.000000,0.903226)\n"
     ]
    },
    {
     "name": "stderr",
     "output_type": "stream",
     "text": [
      " 50%|███████████████████████████████████                                   | 3/6 [00:01<00:01,  1.82it/s]Warning: grid volume is not an integer number of pixels; cell size will be rounded to nearest pixel.\n"
     ]
    },
    {
     "name": "stdout",
     "output_type": "stream",
     "text": [
      "i= 2,radius=0.145\n",
      "-----------\n",
      "Initializing structure...\n",
      "Halving computational cell along direction x\n",
      "Halving computational cell along direction y\n",
      "time for choose_chunkdivision = 0.00166702 s\n",
      "Working in 3D dimensions.\n",
      "Computational cell is 0.666667 x 0.666667 x 4.93333 with resolution 15\n",
      "     block, center = (0,0,-1.68)\n",
      "          size (1e+20,1e+20,1.56)\n",
      "          axes (1,0,0), (0,1,0), (0,0,1)\n",
      "          dielectric constant epsilon diagonal = (2.0736,2.0736,2.0736)\n",
      "     block, center = (0,0,0.78)\n",
      "          size (1e+20,1e+20,3.36)\n",
      "          axes (1,0,0), (0,1,0), (0,0,1)\n",
      "          dielectric constant epsilon diagonal = (1.96,1.96,1.96)\n",
      "     cylinder, center = (0,0,-0.39)\n",
      "          radius 0.18, height 1.02, axis (0, 0, 1)\n",
      "          dielectric constant epsilon diagonal = (12.1104,12.1104,12.1104)\n",
      "time for set_epsilon = 0.031173 s\n",
      "-----------\n",
      "field decay(t = 50.03333333333333): 0.15749753918792253 / 0.15749753918792253 = 1.0\n",
      "field decay(t = 100.06666666666666): 0.0755221343218776 / 0.15749753918792253 = 0.4795131067525206\n"
     ]
    },
    {
     "name": "stderr",
     "output_type": "stream",
     "text": [
      "Warning: grid volume is not an integer number of pixels; cell size will be rounded to nearest pixel.\n"
     ]
    },
    {
     "name": "stdout",
     "output_type": "stream",
     "text": [
      "field decay(t = 150.1): 0.0008210500868987142 / 0.15749753918792253 = 0.005213097875256677\n",
      "run 0 finished at t = 150.1 (4503 timesteps)\n",
      "MPB solved for frequency_1(0,0,0.903226) = 0.645161 after 8 iters\n",
      "Dominant planewave for band 1: (0.000000,0.000000,0.903226)\n"
     ]
    },
    {
     "name": "stderr",
     "output_type": "stream",
     "text": [
      " 67%|██████████████████████████████████████████████▋                       | 4/6 [00:02<00:01,  1.80it/s]Warning: grid volume is not an integer number of pixels; cell size will be rounded to nearest pixel.\n"
     ]
    },
    {
     "name": "stdout",
     "output_type": "stream",
     "text": [
      "i= 3,radius=0.18\n",
      "-----------\n",
      "Initializing structure...\n",
      "Halving computational cell along direction x\n",
      "Halving computational cell along direction y\n",
      "time for choose_chunkdivision = 0.00171494 s\n",
      "Working in 3D dimensions.\n",
      "Computational cell is 0.666667 x 0.666667 x 4.93333 with resolution 15\n",
      "     block, center = (0,0,-1.68)\n",
      "          size (1e+20,1e+20,1.56)\n",
      "          axes (1,0,0), (0,1,0), (0,0,1)\n",
      "          dielectric constant epsilon diagonal = (2.0736,2.0736,2.0736)\n",
      "     block, center = (0,0,0.78)\n",
      "          size (1e+20,1e+20,3.36)\n",
      "          axes (1,0,0), (0,1,0), (0,0,1)\n",
      "          dielectric constant epsilon diagonal = (1.96,1.96,1.96)\n",
      "     cylinder, center = (0,0,-0.39)\n",
      "          radius 0.215, height 1.02, axis (0, 0, 1)\n",
      "          dielectric constant epsilon diagonal = (12.1104,12.1104,12.1104)\n",
      "time for set_epsilon = 0.03512 s\n",
      "-----------\n",
      "field decay(t = 50.03333333333333): 0.11549536651998578 / 0.11549536651998578 = 1.0\n",
      "field decay(t = 100.06666666666666): 0.04019080196248548 / 0.11549536651998578 = 0.34798627142787325\n"
     ]
    },
    {
     "name": "stderr",
     "output_type": "stream",
     "text": [
      "Warning: grid volume is not an integer number of pixels; cell size will be rounded to nearest pixel.\n"
     ]
    },
    {
     "name": "stdout",
     "output_type": "stream",
     "text": [
      "field decay(t = 150.1): 7.62478911000304e-06 / 0.11549536651998578 = 6.601813856042109e-05\n",
      "run 0 finished at t = 150.1 (4503 timesteps)\n",
      "MPB solved for frequency_1(0,0,0.903226) = 0.645161 after 8 iters\n",
      "Dominant planewave for band 1: (0.000000,0.000000,0.903226)\n"
     ]
    },
    {
     "name": "stderr",
     "output_type": "stream",
     "text": [
      " 83%|██████████████████████████████████████████████████████████▎           | 5/6 [00:02<00:00,  1.80it/s]Warning: grid volume is not an integer number of pixels; cell size will be rounded to nearest pixel.\n"
     ]
    },
    {
     "name": "stdout",
     "output_type": "stream",
     "text": [
      "i= 4,radius=0.21499999999999997\n",
      "-----------\n",
      "Initializing structure...\n",
      "Halving computational cell along direction x\n",
      "Halving computational cell along direction y\n",
      "time for choose_chunkdivision = 0.001652 s\n",
      "Working in 3D dimensions.\n",
      "Computational cell is 0.666667 x 0.666667 x 4.93333 with resolution 15\n",
      "     block, center = (0,0,-1.68)\n",
      "          size (1e+20,1e+20,1.56)\n",
      "          axes (1,0,0), (0,1,0), (0,0,1)\n",
      "          dielectric constant epsilon diagonal = (2.0736,2.0736,2.0736)\n",
      "     block, center = (0,0,0.78)\n",
      "          size (1e+20,1e+20,3.36)\n",
      "          axes (1,0,0), (0,1,0), (0,0,1)\n",
      "          dielectric constant epsilon diagonal = (1.96,1.96,1.96)\n",
      "     cylinder, center = (0,0,-0.39)\n",
      "          radius 0.25, height 1.02, axis (0, 0, 1)\n",
      "          dielectric constant epsilon diagonal = (12.1104,12.1104,12.1104)\n",
      "time for set_epsilon = 0.0354111 s\n",
      "-----------\n",
      "field decay(t = 50.03333333333333): 0.21578131616824756 / 0.21578131616824756 = 1.0\n",
      "field decay(t = 100.06666666666666): 0.1340238866759527 / 0.21578131616824756 = 0.6211097839974824\n",
      "field decay(t = 150.1): 0.041042221139031436 / 0.21578131616824756 = 0.1902028491986316\n",
      "field decay(t = 200.13333333333333): 0.03389960709759167 / 0.21578131616824756 = 0.1571016791424133\n",
      "field decay(t = 250.16666666666666): 0.022437492757298352 / 0.21578131616824756 = 0.10398255583816877\n",
      "field decay(t = 300.2): 0.018862212392123042 / 0.21578131616824756 = 0.08741355705429067\n",
      "field decay(t = 350.23333333333335): 0.013794936907684964 / 0.21578131616824756 = 0.0639301731616507\n",
      "field decay(t = 400.26666666666665): 0.010974291238343056 / 0.21578131616824756 = 0.050858394198440494\n",
      "field decay(t = 450.3): 0.008320615642584335 / 0.21578131616824756 = 0.03856040824265174\n",
      "field decay(t = 500.3333333333333): 0.006510255547939011 / 0.21578131616824756 = 0.0301706174730294\n",
      "field decay(t = 550.3666666666667): 0.005051705877205461 / 0.21578131616824756 = 0.023411229326577\n",
      "field decay(t = 600.4): 0.003928056457112777 / 0.21578131616824756 = 0.018203876623173527\n",
      "field decay(t = 650.4333333333333): 0.0030681643455092015 / 0.21578131616824756 = 0.014218860094063533\n",
      "field decay(t = 700.4666666666667): 0.0024047538485877594 / 0.21578131616824756 = 0.011144402542770389\n"
     ]
    },
    {
     "name": "stderr",
     "output_type": "stream",
     "text": [
      "Warning: grid volume is not an integer number of pixels; cell size will be rounded to nearest pixel.\n"
     ]
    },
    {
     "name": "stdout",
     "output_type": "stream",
     "text": [
      "field decay(t = 750.5): 0.0018854260566181164 / 0.21578131616824756 = 0.008737670573609926\n",
      "run 0 finished at t = 750.5 (22515 timesteps)\n",
      "MPB solved for frequency_1(0,0,0.903226) = 0.645161 after 8 iters\n",
      "Dominant planewave for band 1: (0.000000,0.000000,0.903226)\n"
     ]
    },
    {
     "name": "stderr",
     "output_type": "stream",
     "text": [
      "                                                                                                         \r"
     ]
    }
   ],
   "source": [
    "pbar = tqdm(total=num,leave=False)\n",
    "for i,radius in enumerate(np.linspace(0.075,0.25,num=num)):\n",
    "    geometry.append(mp.Cylinder(radius=radius,\n",
    "                        height=height_pillar,\n",
    "                        axis=mp.Vector3(0,0,1),\n",
    "                        center=mp.Vector3(0,0,center_pillar),\n",
    "                        material=mp.Medium(index=n_amorphousSi)))\n",
    "\n",
    "    sim = mp.Simulation(cell_size=cell_size,\n",
    "                        geometry=geometry,\n",
    "                        sources=sources,\n",
    "                        k_point=k_point,\n",
    "                        boundary_layers=pml_layers,\n",
    "                        symmetries=symmetries,\n",
    "                        resolution=resolution)\n",
    "    \n",
    "    flux_object = sim.add_flux(freq, df, nfreq, fr)\n",
    "    dft_object = sim.add_dft_fields([mp.Ex, mp.Ey, mp.Ez], freq, df, nfreq, where=where)\n",
    "\n",
    "    run_sim()\n",
    "    \n",
    "    res = sim.get_eigenmode_coefficients(flux_object, [1], eig_parity=mp.ODD_Y)\n",
    "    coeffs = res.alpha\n",
    "\n",
    "    flux = abs(coeffs[0,0,0]**2)\n",
    "    phase = np.angle(coeffs[0,0,0]) \n",
    "    \n",
    "    data[0,i] = radius\n",
    "    data[1,i] = flux\n",
    "    data[2,i] = phase\n",
    "    # dft_arrays = {}\n",
    "    # dft_arrays['ex'] = sim.get_dft_array(dft_object, mp.Ex, 0)\n",
    "    # dft_arrays['ey'] = sim.get_dft_array(dft_object, mp.Ey, 0)\n",
    "    # dft_arrays['ez'] = sim.get_dft_array(dft_object, mp.Ez, 0)\n",
    "    dfts.append([sim.get_dft_array(dft_object, mp.Ex, 0), sim.get_dft_array(dft_object, mp.Ey, 0), sim.get_dft_array(dft_object, mp.Ez, 0)])\n",
    "\n",
    "    \n",
    "    if(radius!=0.25):\n",
    "        sim.reset_meep()\n",
    "        print(f\"i= {i},radius={radius}\")\n",
    "        geometry.pop(-1)\n",
    "    pbar.update(1)\n",
    "pbar.close()"
   ]
  },
  {
   "cell_type": "code",
   "execution_count": 7,
   "id": "8bb6e79a-bee0-406f-a0b5-ef6f2ed65d3b",
   "metadata": {},
   "outputs": [],
   "source": [
    "def get_intensity(Ex, Ey, Ez):\n",
    "    E_0 = np.sqrt((abs(Ex)**2 + abs(Ey)**2 + abs(Ez)**2))\n",
    "    I = 0.5 * E_0**2\n",
    "    return(np.mean(I))\n",
    "\n",
    "initial_I = get_intensity(initial_dft[0], initial_dft[1], initial_dft[2])\n",
    "I_list = []\n",
    "for dft in dfts:\n",
    "    I = get_intensity(dft[0], dft[1], dft[2])\n",
    "    I_list.append(I / initial_I)"
   ]
  },
  {
   "cell_type": "code",
   "execution_count": 8,
   "id": "69d85088-a381-47b1-8be5-35f5637ecbd0",
   "metadata": {},
   "outputs": [
    {
     "data": {
      "image/png": "[encoded data removed]",
      "text/plain": [
       "<Figure size 800x500 with 2 Axes>"
      ]
     },
     "metadata": {},
     "output_type": "display_data"
    }
   ],
   "source": [
    "radii = data[0,:]\n",
    "flux_list = data[1,0:] / initial_flux\n",
    "phase_list = data[2,0:]\n",
    "\n",
    "#plt.style.use('seaborn')\n",
    "\n",
    "results = {\"radii\": radii, \"flux\": flux_list, \"phase\": phase_list}\n",
    "# this section plots radius vs. phas and transmission\n",
    "plt.style.use('seaborn-v0_8')\n",
    "\n",
    "tickfontsize=14\n",
    "labelfontsize=16\n",
    "titlefontsize=22\n",
    "plt.close(\"all\")\n",
    "fig,ax = plt.subplots(figsize=(8,5)) # may want to change. Also see DPI keyword\n",
    "\n",
    "fig.suptitle(\"Meta-atom Transmission\",fontsize=titlefontsize)\n",
    "\n",
    "#ax.set_title(\"Transmission Magnitude\",fontsize=titlefontsize)\n",
    "\n",
    "ax.set_xlabel(\"Radius (nm)\",fontsize=labelfontsize)\n",
    "ax.set_xticks([0.075,0.100,0.125,0.150,0.175,0.200,0.225,0.250])\n",
    "ax.set_xticklabels([75,100,125,150,175,200,225,250],fontsize=tickfontsize)\n",
    "ax.set_ylim([0,1])\n",
    "ax.set_ylabel(r'Percent Transmitted ($\\%$)',fontsize=labelfontsize, color = 'blue')\n",
    "ax.plot(radii,flux_list,'b',label='Transmission')\n",
    "ax.plot(radii,I_list,'green',label='DFT Transmission')\n",
    "ax.tick_params(axis='y', labelcolor = 'blue')\n",
    "\n",
    "ax.set_yticks([0,0.2,0.4,0.6,0.8,1])\n",
    "ax.set_yticklabels([0, 20,40,60,80,100],fontsize=tickfontsize)\n",
    "\n",
    "twin1 = ax.twinx()\n",
    "\n",
    "twin1.set_ylim([-np.pi,np.pi])\n",
    "twin1.set_ylabel(r'Phase Delay (rad)',fontsize=labelfontsize, color = 'red')\n",
    "twin1.set_yticks([-np.pi, -(0.5*np.pi),0, np.pi / 2, np.pi])\n",
    "twin1.set_yticklabels([r'-$\\pi$',r'-$\\frac{\\pi}{2}$',r'0',r'$\\frac{\\pi}{2}$',r'$\\pi$'],fontsize=tickfontsize+4)\n",
    "twin1.plot(radii,phase_list,'r',label='Phase')\n",
    "twin1.tick_params(axis='y', labelcolor = 'red')\n",
    "#ax[1].legend(loc=\"upper right\")\n",
    "#plt.legend(loc=\"upper right\")\n",
    "plt.grid(False)\n",
    "plt.tight_layout()"
   ]
  },
  {
   "cell_type": "code",
   "execution_count": null,
   "id": "43276c65-8394-47b6-8fae-7f4f32b71380",
   "metadata": {},
   "outputs": [],
   "source": [
    "type(initial_dft[0])"
   ]
  },
  {
   "cell_type": "code",
   "execution_count": null,
   "id": "4e74d653-3627-4094-b784-dd6059f0e695",
   "metadata": {},
   "outputs": [],
   "source": [
    "len(dfts)"
   ]
  },
  {
   "cell_type": "code",
   "execution_count": null,
   "id": "7dc88c62-4ef8-4017-82eb-f14813b8b8f6",
   "metadata": {},
   "outputs": [],
   "source": []
  },
  {
   "cell_type": "code",
   "execution_count": null,
   "id": "3573e4a2-354b-4cb8-b7b2-b43ac1393a78",
   "metadata": {},
   "outputs": [],
   "source": [
    "initial_I"
   ]
  },
  {
   "cell_type": "code",
   "execution_count": null,
   "id": "6f9bebe6-41b8-4fe4-be79-c698c47fb2f7",
   "metadata": {},
   "outputs": [],
   "source": []
  },
  {
   "cell_type": "code",
   "execution_count": null,
   "id": "5c090f6a-ee08-4cbd-9b9b-7621064141db",
   "metadata": {},
   "outputs": [],
   "source": []
  },
  {
   "cell_type": "code",
   "execution_count": null,
   "id": "b9125c29-c65a-449c-b93a-1a5f59d0188f",
   "metadata": {},
   "outputs": [],
   "source": []
  }
 ],
 "metadata": {
  "kernelspec": {
   "display_name": "Python 3 (ipykernel)",
   "language": "python",
   "name": "python3"
  },
  "language_info": {
   "codemirror_mode": {
    "name": "ipython",
    "version": 3
   },
   "file_extension": ".py",
   "mimetype": "text/x-python",
   "name": "python",
   "nbconvert_exporter": "python",
   "pygments_lexer": "ipython3",
   "version": "3.10.12"
  }
 },
 "nbformat": 4,
 "nbformat_minor": 5
}
