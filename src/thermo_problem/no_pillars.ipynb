{
 "cells": [
  {
   "cell_type": "code",
   "execution_count": 1,
   "id": "02596449-1cf1-422d-931c-6f36da45d45d",
   "metadata": {},
   "outputs": [
    {
     "name": "stdout",
     "output_type": "stream",
     "text": [
      "Using MPI version 4.0, 1 processes\n"
     ]
    }
   ],
   "source": [
    "import os\n",
    "import sys\n",
    "import pickle\n",
    "import torch\n",
    "import yaml\n",
    "import numpy as np\n",
    "import matplotlib.pyplot as plt\n",
    "\n",
    "sys.path.append('../')\n",
    "from utils import parameter_manager\n",
    "\n",
    "params = yaml.load(open('../config.yaml', 'r'), Loader = yaml.FullLoader)\n",
    "pm = parameter_manager.ParameterManager(params=params)"
   ]
  },
  {
   "cell_type": "code",
   "execution_count": 2,
   "id": "cb563a55-0414-46f2-b613-f3660e5f1ca9",
   "metadata": {},
   "outputs": [
    {
     "name": "stdout",
     "output_type": "stream",
     "text": [
      "dict_keys(['flux', 'near_fields_1550', 'near_fields_1060', 'near_fields_1300', 'near_fields_1650', 'near_fields_2881', 'eps_data', 'sim_time', 'radii'])\n"
     ]
    }
   ],
   "source": [
    "no_pillars = pickle.load(open(\"no_pillars.pkl\",\"rb\"))\n",
    "print(no_pillars.keys())\n",
    "for key, value in no_pillars.items():\n",
    "    if key == 'radii':\n",
    "        #rad = [0 for rad in key]\n",
    "        no_pillars[key] = [0 for _ in value]"
   ]
  },
  {
   "cell_type": "code",
   "execution_count": 3,
   "id": "e37c30b4-16eb-456c-ae30-043303037c36",
   "metadata": {},
   "outputs": [
    {
     "data": {
      "text/plain": [
       "{'source_flux': 0.3014212577274805, 'downstream_flux': 0.3014220864099054}"
      ]
     },
     "execution_count": 3,
     "metadata": {},
     "output_type": "execute_result"
    }
   ],
   "source": [
    "no_pillars['flux']   # i can't use this flux information because i didn't obtain it correctly. i used mp.get_fluxes. should have used \n",
    "                     #    res = sim.get_eigenmode_coefficients(flux_object, [1], eig_parity=mp.ODD_Y)\n",
    "                     #    coeffs = res.alpha\n",
    "                     #    flux = abs(coeffs[0,0,0]**2)"
   ]
  },
  {
   "cell_type": "code",
   "execution_count": 4,
   "id": "35d8085b-a6a2-4e2c-a80d-9f732ee46ec6",
   "metadata": {},
   "outputs": [],
   "source": [
    "# so let's get the dft slice just downstream of the source:\n",
    "def get_slice(data, pm, value):\n",
    "\n",
    "    # put value on a (0 to pm.cell_z) scale - meep defines the cell on a (-cell_z/2 to cell_z/2) scale\n",
    "    #value = pm.fr_center\n",
    "    value = value + pm.cell_z / 2 \n",
    "\n",
    "    # length of the cell in microns \n",
    "    cell_min = 0  # um\n",
    "    cell_max = pm.cell_z  # um\n",
    "\n",
    "    # length of the cell in pixels\n",
    "    pix_min = 0   \n",
    "    #pix_max = data['eps_data'].squeeze().shape[2]\n",
    "    pix_max = 395\n",
    "\n",
    "    #pix_max = data['near_fields_1550']['ex'].squeeze().shape[2]\n",
    "    temp = int(((value - cell_min) / (cell_max - cell_min)) * (pix_max - pix_min) + pix_min)\n",
    "\n",
    "    #pml_pix = (data['eps_data'].squeeze().shape[2] - data['near_fields_1550']['ex'].squeeze().shape[2]) // 2\n",
    "    pml_pix = (395 - 270) // 2\n",
    "\n",
    "    return temp - pml_pix"
   ]
  },
  {
   "cell_type": "code",
   "execution_count": 5,
   "id": "d5fefbf4-8525-4dd5-b3cf-949a5aefa5fe",
   "metadata": {},
   "outputs": [
    {
     "data": {
      "text/plain": [
       "dict_keys(['all_near_fields', 'radii', 'phases', 'derivatives', 'sim_times', 'flux_info'])"
      ]
     },
     "execution_count": 5,
     "metadata": {},
     "output_type": "execute_result"
    }
   ],
   "source": [
    "dataset = torch.load(\"/develop/data/spie_journal_2023/kube_dataset/pp_dataset.pt\")\n",
    "dataset.keys()"
   ]
  },
  {
   "cell_type": "markdown",
   "id": "6dc2b227-f0d8-41b5-88f1-6b4cb3c57e28",
   "metadata": {},
   "source": [
    "## Let's get S0_source and S0_downstream:"
   ]
  },
  {
   "cell_type": "code",
   "execution_count": 6,
   "id": "331bbfe3-63da-4e81-8ad4-6803cc7d144d",
   "metadata": {},
   "outputs": [],
   "source": [
    "# first we need to get our respective z slices of the fields\n",
    "\n",
    "source_z = get_slice(dataset, pm, pm.src_fr_center)\n",
    "downstream_z = get_slice(dataset, pm, pm.fr_center)\n",
    "\n",
    "source_plane_x = no_pillars['near_fields_1550']['ex'][:,:,source_z]\n",
    "source_plane_y = no_pillars['near_fields_1550']['ey'][:,:,source_z]\n",
    "source_plane_z = no_pillars['near_fields_1550']['ez'][:,:,source_z]\n",
    "\n",
    "ds_plane_x = no_pillars['near_fields_1550']['ex'][:,:,downstream_z]\n",
    "ds_plane_y = no_pillars['near_fields_1550']['ey'][:,:,downstream_z]\n",
    "ds_plane_z = no_pillars['near_fields_1550']['ez'][:,:,downstream_z]"
   ]
  },
  {
   "cell_type": "code",
   "execution_count": 7,
   "id": "8f342c83-7ba9-4fb2-af22-0a6f9f36a833",
   "metadata": {},
   "outputs": [],
   "source": [
    "# now let's get E_0\n",
    "\n",
    "# E_0_src = np.sqrt(np.abs(source_plane_x)**2 + np.abs(source_plane_y)**2 + np.abs(source_plane_z)**2)\n",
    "# I_src = 0.5 * np.average(E_0_src) **2"
   ]
  },
  {
   "cell_type": "code",
   "execution_count": 9,
   "id": "eb88a42e-8457-4ca6-a3e0-9ce769a559b6",
   "metadata": {},
   "outputs": [],
   "source": [
    "#I_src"
   ]
  },
  {
   "cell_type": "code",
   "execution_count": 38,
   "id": "f376b847-35d6-4aa5-b0fa-8baadd6d766c",
   "metadata": {},
   "outputs": [],
   "source": [
    "E_0_ds = np.sqrt(np.abs(ds_plane_x)**2 + np.abs(ds_plane_y)**2 + np.abs(ds_plane_z)**2)\n",
    "I_ds = 0.5 * E_0_ds **2\n",
    "avg_I_no_pillar = np.average(I_ds)"
   ]
  },
  {
   "cell_type": "code",
   "execution_count": 39,
   "id": "2aeca420-8912-4b8c-bec7-fb13f42cc98a",
   "metadata": {},
   "outputs": [
    {
     "data": {
      "text/plain": [
       "0.02513237255237675"
      ]
     },
     "execution_count": 39,
     "metadata": {},
     "output_type": "execute_result"
    }
   ],
   "source": [
    "avg_I_no_pillar"
   ]
  },
  {
   "cell_type": "markdown",
   "id": "26287759-e990-4691-a20b-46b68f26ddd1",
   "metadata": {},
   "source": [
    "## Now let's get the intensity from one of the samples with pillars:"
   ]
  },
  {
   "cell_type": "code",
   "execution_count": 32,
   "id": "efa013b0-9594-42e8-975c-cac786473cbd",
   "metadata": {},
   "outputs": [
    {
     "data": {
      "text/plain": [
       "torch.Size([1, 3, 2, 166, 166])"
      ]
     },
     "execution_count": 32,
     "metadata": {},
     "output_type": "execute_result"
    }
   ],
   "source": [
    "dataset['all_near_fields']['near_fields_1550'][1].shape # this is the downstream slice, we don't have the source slice with this pp dataset.\n",
    "                        # sample, (x, y, z), (amp, phase), (shape) "
   ]
  },
  {
   "cell_type": "code",
   "execution_count": 33,
   "id": "d308e1dc-0ff5-48b6-9921-519e3a265ec1",
   "metadata": {},
   "outputs": [
    {
     "data": {
      "text/plain": [
       "torch.Size([3, 2, 166, 166])"
      ]
     },
     "execution_count": 33,
     "metadata": {},
     "output_type": "execute_result"
    }
   ],
   "source": [
    "sample = dataset['all_near_fields']['near_fields_1550'][1].squeeze()\n",
    "sample.shape"
   ]
  },
  {
   "cell_type": "code",
   "execution_count": 34,
   "id": "842b83da-6a6e-4e61-a055-02d772fcf604",
   "metadata": {},
   "outputs": [
    {
     "data": {
      "text/plain": [
       "torch.Size([3, 166, 166])"
      ]
     },
     "execution_count": 34,
     "metadata": {},
     "output_type": "execute_result"
    }
   ],
   "source": [
    "amp = sample[:,0,:,:] # 3 components\n",
    "phase = sample[:,1,:,:]\n",
    "\n",
    "complex_field = amp * torch.exp(1j * phase)\n",
    "complex_field.shape"
   ]
  },
  {
   "cell_type": "code",
   "execution_count": 35,
   "id": "de92b7e0-a478-4258-a810-a4cbe2032d3d",
   "metadata": {},
   "outputs": [],
   "source": [
    "E_0_sample = np.sqrt(np.abs(complex_field[0])**2 + np.abs(complex_field[1])**2 + np.abs(complex_field[2])**2)\n",
    "I_sample = 0.5 * E_0_sample **2\n",
    "avg_I_sample = np.average(I_sample)"
   ]
  },
  {
   "cell_type": "code",
   "execution_count": 36,
   "id": "72b3b8fe-0b90-46e9-bf40-ec81ac155d33",
   "metadata": {},
   "outputs": [
    {
     "data": {
      "text/plain": [
       "0.028457316950934543"
      ]
     },
     "execution_count": 36,
     "metadata": {},
     "output_type": "execute_result"
    }
   ],
   "source": [
    "avg_I_sample"
   ]
  },
  {
   "cell_type": "code",
   "execution_count": 44,
   "id": "d405ee48-dcdc-4955-8904-47c2be60339e",
   "metadata": {},
   "outputs": [
    {
     "name": "stdout",
     "output_type": "stream",
     "text": [
      "25.766037013569154\n",
      "28.457316950934544\n",
      "25.492425333991108\n",
      "18.673535301035347\n",
      "26.340154754787093\n"
     ]
    }
   ],
   "source": [
    "for i in range(5):\n",
    "    sample = dataset['all_near_fields']['near_fields_1550'][i].squeeze()\n",
    "    amp = sample[:,0,:,:] # 3 components\n",
    "    phase = sample[:,1,:,:]\n",
    "\n",
    "    complex_field = amp * torch.exp(1j * phase)\n",
    "    E_0_sample = np.sqrt(np.abs(complex_field[0])**2 + np.abs(complex_field[1])**2 + np.abs(complex_field[2])**2)\n",
    "    I_sample = 0.5 * E_0_sample **2\n",
    "    avg_I_sample = np.average(I_sample)\n",
    "    print(avg_I_sample *1000)"
   ]
  },
  {
   "cell_type": "code",
   "execution_count": 45,
   "id": "1dd48aa5-878c-44cf-b124-4a13896b70c9",
   "metadata": {},
   "outputs": [
    {
     "data": {
      "text/plain": [
       "25.132372552376747"
      ]
     },
     "execution_count": 45,
     "metadata": {},
     "output_type": "execute_result"
    }
   ],
   "source": [
    "avg_I_no_pillar * 1000"
   ]
  },
  {
   "cell_type": "code",
   "execution_count": null,
   "id": "9e031f1e-a98d-4894-8852-19342e46a75f",
   "metadata": {},
   "outputs": [],
   "source": []
  }
 ],
 "metadata": {
  "kernelspec": {
   "display_name": "Python 3 (ipykernel)",
   "language": "python",
   "name": "python3"
  },
  "language_info": {
   "codemirror_mode": {
    "name": "ipython",
    "version": 3
   },
   "file_extension": ".py",
   "mimetype": "text/x-python",
   "name": "python",
   "nbconvert_exporter": "python",
   "pygments_lexer": "ipython3",
   "version": "3.10.12"
  }
 },
 "nbformat": 4,
 "nbformat_minor": 5
}
