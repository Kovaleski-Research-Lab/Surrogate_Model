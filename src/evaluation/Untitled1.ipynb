{
 "cells": [
  {
   "cell_type": "code",
   "execution_count": 1,
   "id": "0b0ccfa9-2ba8-4ecd-81aa-d41830e5aeba",
   "metadata": {},
   "outputs": [],
   "source": [
    "import torch\n",
    "import pickle\n",
    "import numpy as np\n",
    "import os\n",
    "from IPython import embed"
   ]
  },
  {
   "cell_type": "code",
   "execution_count": 2,
   "id": "1417d817-2379-4af9-9692-efe0fc0d03ac",
   "metadata": {},
   "outputs": [
    {
     "data": {
      "text/plain": [
       "dict_keys(['all_near_fields', 'radii', 'phases', 'derivatives', 'sim_times'])"
      ]
     },
     "execution_count": 2,
     "metadata": {},
     "output_type": "execute_result"
    }
   ],
   "source": [
    "old_pt = torch.load('/develop/data/spie_journal_2023/kube_dataset/dev.pt')\n",
    "old_pt.keys()"
   ]
  },
  {
   "cell_type": "code",
   "execution_count": 3,
   "id": "ad79ada9-74ba-4ce1-a32b-bce5e28f7884",
   "metadata": {},
   "outputs": [
    {
     "name": "stdout",
     "output_type": "stream",
     "text": [
      "dict_keys(['near_fields_1550', 'near_fields_1060', 'near_fields_1300', 'near_fields_1650', 'near_fields_2881'])\n",
      "torch.Size([1, 3, 2, 166, 166])\n"
     ]
    }
   ],
   "source": [
    "print(old_pt['all_near_fields'].keys())\n",
    "print(old_pt['all_near_fields']['near_fields_1550'][0].shape)"
   ]
  },
  {
   "cell_type": "code",
   "execution_count": 9,
   "id": "5e44cc1c-3d03-4e9c-8b36-dbeeae2a1e29",
   "metadata": {},
   "outputs": [
    {
     "name": "stdout",
     "output_type": "stream",
     "text": [
      "near_fields_1550\n"
     ]
    },
    {
     "ename": "AttributeError",
     "evalue": "'list' object has no attribute 'shape'",
     "output_type": "error",
     "traceback": [
      "\u001b[0;31m---------------------------------------------------------------------------\u001b[0m",
      "\u001b[0;31mAttributeError\u001b[0m                            Traceback (most recent call last)",
      "Cell \u001b[0;32mIn[9], line 3\u001b[0m\n\u001b[1;32m      1\u001b[0m \u001b[38;5;28;01mfor\u001b[39;00m key, nf \u001b[38;5;129;01min\u001b[39;00m old_pt[\u001b[38;5;124m'\u001b[39m\u001b[38;5;124mall_near_fields\u001b[39m\u001b[38;5;124m'\u001b[39m]\u001b[38;5;241m.\u001b[39mitems():\n\u001b[1;32m      2\u001b[0m     \u001b[38;5;28mprint\u001b[39m(key)\n\u001b[0;32m----> 3\u001b[0m     \u001b[38;5;28mprint\u001b[39m(\u001b[43mnf\u001b[49m\u001b[38;5;241;43m.\u001b[39;49m\u001b[43mshape\u001b[49m)\n",
      "\u001b[0;31mAttributeError\u001b[0m: 'list' object has no attribute 'shape'"
     ]
    }
   ],
   "source": [
    "for key, nf in old_pt['all_near_fields'].items():\n",
    "    print(key)\n",
    "    print(nf.shape)"
   ]
  },
  {
   "cell_type": "code",
   "execution_count": 4,
   "id": "e2b67c74-339a-4f61-a767-51c5e448831a",
   "metadata": {},
   "outputs": [],
   "source": [
    "pkl_directory = '/develop/data/spie_journal_2023/kube_dataset/preprocessed'\n",
    "all_data = {}\n",
    "all_data['all_near_fields'] = {}\n",
    "\n",
    "for pkl_file in os.listdir(pkl_directory):\n",
    "    if pkl_file.endswith('.pkl'):\n",
    "        # Load the data from the .pkl file\n",
    "        with open(os.path.join(pkl_directory, pkl_file), 'rb') as f:\n",
    "            data = pickle.load(f)\n",
    "            for key, nf in data['all_near_fields'].items():\n",
    "                all_data['all_near_fields'][key] = nf"
   ]
  },
  {
   "cell_type": "code",
   "execution_count": 8,
   "id": "2029ef3e-527c-47c4-bbfd-a4c7717f179c",
   "metadata": {},
   "outputs": [
    {
     "name": "stdout",
     "output_type": "stream",
     "text": [
      "near_fields_1550\n",
      "torch.Size([1, 3, 2, 166, 166])\n",
      "near_fields_1060\n",
      "torch.Size([1, 3, 2, 166, 166])\n",
      "near_fields_1300\n",
      "torch.Size([1, 3, 2, 166, 166])\n",
      "near_fields_1650\n",
      "torch.Size([1, 3, 2, 166, 166])\n",
      "near_fields_2881\n",
      "torch.Size([1, 3, 2, 166, 166])\n"
     ]
    }
   ],
   "source": [
    "for key, nf in all_data['all_near_fields'].items():\n",
    "    print(key)\n",
    "    print(nf.shape)\n",
    "    #nf = torch.cat(nf, dim=0).float()"
   ]
  },
  {
   "cell_type": "code",
   "execution_count": 6,
   "id": "841def9f-3d14-4f9b-842f-ea0e27c62559",
   "metadata": {},
   "outputs": [
    {
     "data": {
      "text/plain": [
       "torch.Size([3, 2, 166, 166])"
      ]
     },
     "execution_count": 6,
     "metadata": {},
     "output_type": "execute_result"
    }
   ],
   "source": [
    "all_data['all_near_fields']['near_fields_1550'][0].shape"
   ]
  },
  {
   "cell_type": "code",
   "execution_count": null,
   "id": "658fe979-f94b-4947-b5cf-61e6634686ef",
   "metadata": {},
   "outputs": [],
   "source": [
    "type(new_data)"
   ]
  },
  {
   "cell_type": "code",
   "execution_count": null,
   "id": "0f7d6521-0558-4ff6-8b0b-b6224f62085f",
   "metadata": {},
   "outputs": [],
   "source": [
    "pkl_directory = '/develop/data/spie_journal_2023/kube_dataset/preprocessed'\n",
    "# Initialize an empty list to store the data from each .pkl file\n",
    "all_data = {}\n",
    "\n",
    "# Iterate over each .pkl file in the directory\n",
    "for pkl_file in os.listdir(pkl_directory):\n",
    "    if pkl_file.endswith('.pkl'):\n",
    "        # Load the data from the .pkl file\n",
    "        with open(os.path.join(pkl_directory, pkl_file), 'rb') as f:\n",
    "            data = pickle.load(f)\n",
    "            all_data['all_near_fields']\n",
    "            embed()"
   ]
  },
  {
   "cell_type": "code",
   "execution_count": null,
   "id": "01a50c0e-d9d8-4cf8-a3bc-5ecd74d3b78f",
   "metadata": {},
   "outputs": [],
   "source": []
  }
 ],
 "metadata": {
  "kernelspec": {
   "display_name": "Python 3 (ipykernel)",
   "language": "python",
   "name": "python3"
  },
  "language_info": {
   "codemirror_mode": {
    "name": "ipython",
    "version": 3
   },
   "file_extension": ".py",
   "mimetype": "text/x-python",
   "name": "python",
   "nbconvert_exporter": "python",
   "pygments_lexer": "ipython3",
   "version": "3.10.12"
  }
 },
 "nbformat": 4,
 "nbformat_minor": 5
}
