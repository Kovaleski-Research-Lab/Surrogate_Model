{
 "cells": [
  {
   "cell_type": "code",
   "execution_count": null,
   "id": "9079dff9-e62e-450d-aba3-1340a9777846",
   "metadata": {},
   "outputs": [],
   "source": [
    "pkl_directory = '/develop/data/spie_journal_2023/kube_dataset/preprocessed'\n",
    "# Initialize an empty list to store the data from each .pkl file\n",
    "\n",
    "\n",
    "# Iterate over each .pkl file in the directory\n",
    "def get_data(pkl_directory):\n",
    "    nf = []\n",
    "    radii = []\n",
    "    phases = []\n",
    "    derivatives = []\n",
    "    sim_times = []\n",
    "    for pkl_file in os.listdir(pkl_directory):\n",
    "        if pkl_file.endswith('.pkl'):\n",
    "            # Load the data from the .pkl file\n",
    "            with open(os.path.join(pkl_directory, pkl_file), 'rb') as f:\n",
    "                data = pickle.load(f)\n",
    "                nf.append(data['all_near_fields'])\n",
    "                radii.append(data['radii'])\n",
    "                phases.append(data['phases'])\n",
    "                derivatives.append(data['derivatives'])\n",
    "                sim_times.append(data['sim_times'])\n",
    "\n",
    "#    all_near_fields = {}\n",
    "    \n",
    "    data = {'all_near_fields' : nf,    \n",
    "            'radii' : radii, \n",
    "            'phases' : phases,\n",
    "            'derivatives' : derivatives,\n",
    "            'sim_times' : sim_times,\n",
    "            }\n",
    "\n",
    " #   for key, nf in all_near_fields.items():\n",
    " #       nf = torch.cat(nf, dim=0).float()\n",
    " #   eps_data = torch.cat(eps_data, dim=0).float()\n",
    "    radii = torch.cat(radii, dim=0).float()\n",
    "    phases = torch.cat(phases, dim=0).float()\n",
    "    der = torch.stack(derivatives).float()\n",
    "    return data"
   ]
  }
 ],
 "metadata": {
  "kernelspec": {
   "display_name": "Python 3 (ipykernel)",
   "language": "python",
   "name": "python3"
  },
  "language_info": {
   "codemirror_mode": {
    "name": "ipython",
    "version": 3
   },
   "file_extension": ".py",
   "mimetype": "text/x-python",
   "name": "python",
   "nbconvert_exporter": "python",
   "pygments_lexer": "ipython3",
   "version": "3.10.12"
  }
 },
 "nbformat": 4,
 "nbformat_minor": 5
}
