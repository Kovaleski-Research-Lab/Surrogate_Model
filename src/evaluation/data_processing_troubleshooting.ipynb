{
 "cells": [
  {
   "cell_type": "markdown",
   "id": "030073fa-35d5-40a4-8b7d-ea671d4409b8",
   "metadata": {},
   "source": [
    "### trying to get preprocessed data pickle files to look like the .pt file we were generating before switching to one sample at a time (this was to overcome kubernetes issues. I ended up using this code in datamodule.py"
   ]
  },
  {
   "cell_type": "code",
   "execution_count": 27,
   "id": "0b0ccfa9-2ba8-4ecd-81aa-d41830e5aeba",
   "metadata": {},
   "outputs": [],
   "source": [
    "import torch\n",
    "import pickle\n",
    "import numpy as np\n",
    "import os\n",
    "from IPython import embed"
   ]
  },
  {
   "cell_type": "code",
   "execution_count": 28,
   "id": "1417d817-2379-4af9-9692-efe0fc0d03ac",
   "metadata": {},
   "outputs": [
    {
     "data": {
      "text/plain": [
       "dict_keys(['all_near_fields', 'radii', 'phases', 'derivatives', 'sim_times'])"
      ]
     },
     "execution_count": 28,
     "metadata": {},
     "output_type": "execute_result"
    }
   ],
   "source": [
    "old_pt = torch.load('/develop/data/spie_journal_2023/kube_dataset/dev.pt')\n",
    "old_pt.keys()"
   ]
  },
  {
   "cell_type": "code",
   "execution_count": 29,
   "id": "ad79ada9-74ba-4ce1-a32b-bce5e28f7884",
   "metadata": {},
   "outputs": [
    {
     "name": "stdout",
     "output_type": "stream",
     "text": [
      "dict_keys(['near_fields_1550', 'near_fields_1060', 'near_fields_1300', 'near_fields_1650', 'near_fields_2881'])\n"
     ]
    }
   ],
   "source": [
    "print(old_pt['all_near_fields'].keys())"
   ]
  },
  {
   "cell_type": "code",
   "execution_count": 30,
   "id": "5e44cc1c-3d03-4e9c-8b36-dbeeae2a1e29",
   "metadata": {},
   "outputs": [
    {
     "name": "stdout",
     "output_type": "stream",
     "text": [
      "near_fields_1550\n",
      "42\n",
      "<class 'list'>\n",
      "torch.Size([1, 3, 2, 166, 166])\n"
     ]
    }
   ],
   "source": [
    "for key, nf in old_pt['all_near_fields'].items():\n",
    "    print(key)\n",
    "    print(len(old_pt['all_near_fields'][key]))\n",
    "    break\n",
    "\n",
    "print(type(old_pt['all_near_fields']['near_fields_1550']))\n",
    "print(old_pt['all_near_fields']['near_fields_1550'][0].shape)"
   ]
  },
  {
   "cell_type": "code",
   "execution_count": 31,
   "id": "0eced520-5af3-4b2b-af5a-6c376af7b2aa",
   "metadata": {},
   "outputs": [
    {
     "name": "stdout",
     "output_type": "stream",
     "text": [
      "42\n",
      "torch.Size([9])\n",
      "torch.Size([9])\n",
      "torch.Size([1, 6])\n"
     ]
    }
   ],
   "source": [
    "print(len(old_pt['radii']))\n",
    "print(old_pt['radii'][0].shape)\n",
    "print(old_pt['phases'][0].shape)\n",
    "print(old_pt['derivatives'][0].shape)"
   ]
  },
  {
   "cell_type": "code",
   "execution_count": 32,
   "id": "f7a17995-459a-4548-b368-7c446fcd4a39",
   "metadata": {},
   "outputs": [],
   "source": [
    "new_data = {\n",
    "    'all_near_fields': {\n",
    "                        'near_fields_1550': None,  # should contain a list of torch tensors\n",
    "                        'near_fields_1060': None,\n",
    "                        'near_fields_1300': None,\n",
    "                        'near_fields_1650': None,\n",
    "                        'near_fields_2881': None,\n",
    "                        },\n",
    "    'radii': [],\n",
    "    'phases': [],\n",
    "    'derivatives': [],\n",
    "    'sim_times': [],\n",
    "}"
   ]
  },
  {
   "cell_type": "code",
   "execution_count": 33,
   "id": "96b88f4d-f11a-4987-a099-4b95f3911b21",
   "metadata": {},
   "outputs": [
    {
     "name": "stdout",
     "output_type": "stream",
     "text": [
      "dict_keys(['all_near_fields', 'radii', 'phases', 'derivatives', 'sim_times'])\n",
      "dict_keys(['near_fields_1550', 'near_fields_1060', 'near_fields_1300', 'near_fields_1650', 'near_fields_2881'])\n"
     ]
    }
   ],
   "source": [
    "print(new_data.keys())\n",
    "print(new_data['all_near_fields'].keys())"
   ]
  },
  {
   "cell_type": "code",
   "execution_count": 37,
   "id": "b97d40f3-bb95-4815-98a0-3031a30bb843",
   "metadata": {},
   "outputs": [],
   "source": [
    "pkl_directory = '/develop/data/spie_journal_2023/kube_dataset/preprocessed'\n",
    "\n",
    "# Iterate over each .pkl file in the directory\n",
    "def get_data(pkl_directory):\n",
    "    nf = []\n",
    "    radii = []\n",
    "    phases = []\n",
    "    derivatives = []\n",
    "    sim_times = []\n",
    "    for pkl_file in os.listdir(pkl_directory):\n",
    "        if pkl_file.endswith('.pkl'):\n",
    "            # Load the data from the .pkl file\n",
    "            with open(os.path.join(pkl_directory, pkl_file), 'rb') as f:\n",
    "                data = pickle.load(f)\n",
    "                nf.append(data['all_near_fields'])\n",
    "                radii.append(data['radii'])\n",
    "                phases.append(data['phases'])\n",
    "                derivatives.append(data['derivatives'])\n",
    "                #sim_times.append(data['sim_times'])\n",
    "    \n",
    "    data = {'all_near_fields' : nf,    \n",
    "            'radii' : radii, \n",
    "            'phases' : phases,\n",
    "            'derivatives' : derivatives,\n",
    "            #'sim_times' : sim_times,\n",
    "            }\n",
    "    \n",
    "    return data"
   ]
  },
  {
   "cell_type": "code",
   "execution_count": 38,
   "id": "9386ff17-83c0-4024-ae15-240d727f58f2",
   "metadata": {},
   "outputs": [],
   "source": [
    "data = get_data(pkl_directory)"
   ]
  },
  {
   "cell_type": "code",
   "execution_count": 39,
   "id": "684cef54-7d59-469d-8e29-2af9317f1374",
   "metadata": {},
   "outputs": [
    {
     "data": {
      "text/plain": [
       "dict_keys(['all_near_fields', 'radii', 'phases', 'derivatives'])"
      ]
     },
     "execution_count": 39,
     "metadata": {},
     "output_type": "execute_result"
    }
   ],
   "source": [
    "data.keys()"
   ]
  },
  {
   "cell_type": "code",
   "execution_count": 40,
   "id": "911bad10-1771-41bb-a406-ea0ab4fffd9d",
   "metadata": {},
   "outputs": [
    {
     "data": {
      "text/plain": [
       "list"
      ]
     },
     "execution_count": 40,
     "metadata": {},
     "output_type": "execute_result"
    }
   ],
   "source": [
    "type(data['all_near_fields'])"
   ]
  },
  {
   "cell_type": "code",
   "execution_count": 41,
   "id": "f8b9e452-f339-44eb-8921-50f53a670adc",
   "metadata": {},
   "outputs": [],
   "source": [
    "temp_1550, temp_1060, temp_1300, temp_1650, temp_2881 = [], [], [], [], []\n",
    "for element in data['all_near_fields']:  # looping through a list\n",
    "    \n",
    "    # each element is a dictionary\n",
    "    for key, value in element.items():\n",
    "        if key == 'near_fields_1550':\n",
    "            temp_1550.append(value)\n",
    "        if key == 'near_fields_1650':\n",
    "            temp_1650.append(value)\n",
    "        if key == 'near_fields_1300':\n",
    "            temp_1300.append(value)\n",
    "        if key == 'near_fields_2881':\n",
    "            temp_2881.append(value)\n",
    "        if key == 'near_fields_1060':\n",
    "            temp_1060.append(value)"
   ]
  },
  {
   "cell_type": "code",
   "execution_count": 42,
   "id": "5fcfc28d-4fa0-4dff-94fe-c25be489ea91",
   "metadata": {},
   "outputs": [],
   "source": [
    "new_data['all_near_fields']['near_fields_1550'] = temp_1550\n",
    "new_data['all_near_fields']['near_fields_1650'] = temp_1650\n",
    "new_data['all_near_fields']['near_fields_1300'] = temp_1300\n",
    "new_data['all_near_fields']['near_fields_1060'] = temp_1060\n",
    "new_data['all_near_fields']['near_fields_2881'] = temp_2881"
   ]
  },
  {
   "cell_type": "code",
   "execution_count": 43,
   "id": "97e80d5a-bd2a-4fb3-82b7-233094e396db",
   "metadata": {},
   "outputs": [
    {
     "data": {
      "text/plain": [
       "torch.Size([1, 3, 2, 166, 166])"
      ]
     },
     "execution_count": 43,
     "metadata": {},
     "output_type": "execute_result"
    }
   ],
   "source": [
    "new_data['all_near_fields']['near_fields_1550'][0].shape"
   ]
  },
  {
   "cell_type": "code",
   "execution_count": 44,
   "id": "d5d16d81-2e30-4516-b07f-ba96420a8e2a",
   "metadata": {
    "scrolled": true
   },
   "outputs": [],
   "source": [
    "for radius in data['radii']:\n",
    "    new_data['radii'].append(radius.squeeze())\n",
    "    #radius = radius.squeeze()"
   ]
  },
  {
   "cell_type": "code",
   "execution_count": 45,
   "id": "4707bea9-172e-4b06-9755-f995f5c88b51",
   "metadata": {},
   "outputs": [
    {
     "data": {
      "text/plain": [
       "torch.Size([9])"
      ]
     },
     "execution_count": 45,
     "metadata": {},
     "output_type": "execute_result"
    }
   ],
   "source": [
    "new_data['radii'][0].shape"
   ]
  },
  {
   "cell_type": "code",
   "execution_count": 46,
   "id": "7c1036ff-42b6-4ef4-bf86-eeb4a4f9e9b6",
   "metadata": {},
   "outputs": [
    {
     "data": {
      "text/plain": [
       "torch.Size([9])"
      ]
     },
     "execution_count": 46,
     "metadata": {},
     "output_type": "execute_result"
    }
   ],
   "source": [
    "for phase in data['phases']:\n",
    "    new_data['phases'].append(phase.squeeze())\n",
    "new_data['phases'][0].shape"
   ]
  },
  {
   "cell_type": "code",
   "execution_count": 47,
   "id": "ba0c5e5c-940d-40fb-b9e1-8a07a2b8b7a3",
   "metadata": {},
   "outputs": [
    {
     "data": {
      "text/plain": [
       "torch.Size([1, 6])"
      ]
     },
     "execution_count": 47,
     "metadata": {},
     "output_type": "execute_result"
    }
   ],
   "source": [
    "for der in data['derivatives']:\n",
    "    new_data['derivatives'].append(der)\n",
    "new_data['derivatives'][0].shape"
   ]
  },
  {
   "cell_type": "code",
   "execution_count": null,
   "id": "63b82b45-ee50-4a55-8927-31b549788c69",
   "metadata": {},
   "outputs": [],
   "source": [
    "print(old_pt.keys())\n",
    "print(old_pt['all_near_fields'].keys())\n",
    "print(type(old_pt['all_near_fields']['near_fields_1550']))\n",
    "print(old_pt['all_near_fields']['near_fields_1550'][0].shape)\n",
    "print(len(old_pt['radii']))\n",
    "print(old_pt['radii'][0].shape)\n",
    "print(old_pt['phases'][0].shape)\n",
    "print(old_pt['derivatives'][0].shape)\n",
    "print(len(old_pt['all_near_fields']['near_fields_1550']))"
   ]
  },
  {
   "cell_type": "code",
   "execution_count": 49,
   "id": "317cf3eb-a05a-4bce-98b6-d5828716f93a",
   "metadata": {},
   "outputs": [
    {
     "name": "stdout",
     "output_type": "stream",
     "text": [
      "dict_keys(['all_near_fields', 'radii', 'phases', 'derivatives', 'sim_times'])\n",
      "dict_keys(['near_fields_1550', 'near_fields_1060', 'near_fields_1300', 'near_fields_1650', 'near_fields_2881'])\n",
      "<class 'list'>\n",
      "torch.Size([1, 3, 2, 166, 166])\n",
      "1446\n",
      "torch.Size([9])\n",
      "torch.Size([9])\n",
      "torch.Size([1, 6])\n",
      "42\n"
     ]
    }
   ],
   "source": [
    "print(new_data.keys())\n",
    "print(new_data['all_near_fields'].keys())\n",
    "print(type(new_data['all_near_fields']['near_fields_1550']))\n",
    "print(new_data['all_near_fields']['near_fields_1550'][0].shape)\n",
    "print(len(new_data['radii']))\n",
    "print(new_data['radii'][0].shape)\n",
    "print(new_data['phases'][0].shape)\n",
    "print(new_data['derivatives'][0].shape)\n",
    "print(len(old_pt['all_near_fields']['near_fields_1550']))"
   ]
  },
  {
   "cell_type": "code",
   "execution_count": null,
   "id": "88cb2333-123e-4730-ba62-5c29f7398dc7",
   "metadata": {},
   "outputs": [],
   "source": []
  }
 ],
 "metadata": {
  "kernelspec": {
   "display_name": "Python 3 (ipykernel)",
   "language": "python",
   "name": "python3"
  },
  "language_info": {
   "codemirror_mode": {
    "name": "ipython",
    "version": 3
   },
   "file_extension": ".py",
   "mimetype": "text/x-python",
   "name": "python",
   "nbconvert_exporter": "python",
   "pygments_lexer": "ipython3",
   "version": "3.10.12"
  }
 },
 "nbformat": 4,
 "nbformat_minor": 5
}
