{
 "cells": [
  {
   "cell_type": "code",
   "execution_count": 1,
   "id": "d2d04d9f",
   "metadata": {},
   "outputs": [],
   "source": [
    "import matplotlib.pyplot as plt\n",
    "import pickle\n",
    "import numpy as np\n",
    "import os"
   ]
  },
  {
   "cell_type": "code",
   "execution_count": 2,
   "id": "015d936b",
   "metadata": {},
   "outputs": [],
   "source": [
    "path = \"/develop/results/meta_atom_data\"\n",
    "\n",
    "ada = os.path.join(path,\"000614_ada.pkl\")\n",
    "marge = os.path.join(path, \"000614.pkl\")"
   ]
  },
  {
   "cell_type": "code",
   "execution_count": 3,
   "id": "403b283f",
   "metadata": {},
   "outputs": [],
   "source": [
    "ada_file = pickle.load(open(ada,\"rb\"))\n",
    "marge_file = pickle.load(open(marge,\"rb\"))"
   ]
  },
  {
   "cell_type": "code",
   "execution_count": 4,
   "id": "28124bf9",
   "metadata": {},
   "outputs": [
    {
     "data": {
      "text/plain": [
       "dict_keys(['volume', 'near_fields', 'E_slice', 'location', 'radii'])"
      ]
     },
     "execution_count": 4,
     "metadata": {},
     "output_type": "execute_result"
    }
   ],
   "source": [
    "ada_file.keys()"
   ]
  },
  {
   "cell_type": "code",
   "execution_count": 5,
   "id": "b820e58e",
   "metadata": {},
   "outputs": [],
   "source": [
    "ada_nf = ada_file['near_fields']\n",
    "marge_nf = marge_file['near_fields']\n",
    "\n",
    "ada_ey = ada_file['E_slice']['ey_slice']\n",
    "marge_ey = marge_file[\"E_slice\"][\"ey_slice\"]"
   ]
  },
  {
   "cell_type": "code",
   "execution_count": 6,
   "id": "7fc84585",
   "metadata": {},
   "outputs": [
    {
     "name": "stdout",
     "output_type": "stream",
     "text": [
      "False\n"
     ]
    }
   ],
   "source": [
    "print(np.array_equal(ada_nf, marge_nf))"
   ]
  },
  {
   "cell_type": "code",
   "execution_count": null,
   "id": "0949ad03",
   "metadata": {},
   "outputs": [],
   "source": [
    "print(np.array_equal(ada_ey, marge_ey))"
   ]
  },
  {
   "cell_type": "code",
   "execution_count": null,
   "id": "61806767",
   "metadata": {},
   "outputs": [],
   "source": [
    "ada_"
   ]
  },
  {
   "cell_type": "code",
   "execution_count": null,
   "id": "afc02aaa",
   "metadata": {},
   "outputs": [],
   "source": [
    "print(np.array_equal(ada_nf['grating_ez'],marge_nf['grating_ez']))"
   ]
  },
  {
   "cell_type": "code",
   "execution_count": null,
   "id": "04ae8808",
   "metadata": {},
   "outputs": [],
   "source": []
  }
 ],
 "metadata": {
  "kernelspec": {
   "display_name": "Python 3 (ipykernel)",
   "language": "python",
   "name": "python3"
  },
  "language_info": {
   "codemirror_mode": {
    "name": "ipython",
    "version": 3
   },
   "file_extension": ".py",
   "mimetype": "text/x-python",
   "name": "python",
   "nbconvert_exporter": "python",
   "pygments_lexer": "ipython3",
   "version": "3.10.12"
  }
 },
 "nbformat": 4,
 "nbformat_minor": 5
}
