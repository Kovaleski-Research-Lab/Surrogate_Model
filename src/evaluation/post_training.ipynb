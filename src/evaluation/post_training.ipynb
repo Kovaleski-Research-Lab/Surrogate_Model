{
 "cells": [
  {
   "cell_type": "code",
   "execution_count": null,
   "id": "c4e6fe89-9122-433e-b2cf-03e5f7bfa330",
   "metadata": {},
   "outputs": [],
   "source": [
    "%matplotlib widget\n",
    "\n",
    "import os\n",
    "import sys\n",
    "import matplotlib.pyplot as plt\n",
    "\n",
    "sys.path.append(os.path.abspath(\"/develop/code/evaluation\"))\n",
    "import eval_methods as em"
   ]
  },
  {
   "cell_type": "markdown",
   "id": "8f33ec56-b3d7-4e3b-a86d-6e442a13d54c",
   "metadata": {},
   "source": [
    "## Begin post-training processes. First, choose a folder:"
   ]
  },
  {
   "cell_type": "code",
   "execution_count": null,
   "id": "01ea1765-60c9-45a3-bbdd-bab26e909773",
   "metadata": {},
   "outputs": [],
   "source": [
    "path_results = \"/develop/results\"\n",
    "folder_name = \"model_baseline\""
   ]
  },
  {
   "cell_type": "markdown",
   "id": "9773fdc1-5724-4c5b-a2a8-9b15aef20e5e",
   "metadata": {},
   "source": [
    "## 1. Evaluate loss."
   ]
  },
  {
   "cell_type": "code",
   "execution_count": null,
   "id": "4c034609-9117-4dcc-99d7-c308886c98a1",
   "metadata": {},
   "outputs": [],
   "source": [
    "min_list = [None, None, None, None, None]\n",
    "max_list = [None, None, None, None, None]\n",
    "\n",
    "folder_path = os.path.join(path_results, folder_name)\n",
    "single_loss = em.gather_loss(folder_path)\n",
    "#all_loss = em.gather_all_loss(path_results, backbone=\"resnet18\")\n",
    "\n",
    "l_string = r'($\\alpha$' + \" \" + r'$\\beta$' + \" \" + r'$\\gamma$' + \" \" + r'$\\delta$)'\n",
    "title = l_string + f\": ({single_loss['alpha']} {single_loss['beta']} {single_loss['delta']} {single_loss['gamma']}) \" + \"\\n\" + single_loss['title'].replace(path_results,\"\").replace(\"/\",\"\") + \" lr=\" + str(single_loss['lr'])\n",
    "\n",
    "plt.close(\"all\")\n",
    "\n",
    "em.plot_loss(single_loss['loss'], title, min_list, max_list, save_fig=True)"
   ]
  },
  {
   "cell_type": "markdown",
   "id": "e5ae01f4-587c-4639-977c-8eb1b82720d1",
   "metadata": {},
   "source": [
    "## 2. Evaluate other metrics"
   ]
  },
  {
   "cell_type": "code",
   "execution_count": null,
   "id": "23ab9148-c950-4dcf-b86e-17eafbb17839",
   "metadata": {},
   "outputs": [],
   "source": [
    "encoder_train_results, encoder_valid_results = em.get_results(folder_name, \"encoder.pkl\")\n",
    "resim_train_results, resim_valid_results = em.get_results(folder_name, \"resim.pkl\")\n",
    "recon_train_results, recon_valid_results = em.get_results(folder_name, \"recon.pkl\")"
   ]
  },
  {
   "cell_type": "code",
   "execution_count": null,
   "id": "4b37a466-b629-4a8e-8485-051fcef6d994",
   "metadata": {},
   "outputs": [],
   "source": [
    "plt.close(\"all\")\n",
    "\n",
    "em.get_regression_plots(encoder_train_results, encoder_valid_results, title = \"Encoder\", save_fig=True)"
   ]
  },
  {
   "cell_type": "code",
   "execution_count": null,
   "id": "e6b9da87-df3a-4633-8064-46607376feab",
   "metadata": {},
   "outputs": [],
   "source": [
    "plt.close(\"all\")\n",
    "\n",
    "em.box_plots(recon_train_results['nf_amp_diff'], recon_train_results['nf_angle_diff'], \n",
    "             recon_train_results['ff_amp_diff'], recon_train_results['ff_angle_diff'], \n",
    "             'Train Dataset', savefig=True)\n",
    "em.box_plots(recon_valid_results['nf_amp_diff'], recon_valid_results['nf_angle_diff'], \n",
    "             recon_valid_results['ff_amp_diff'], recon_valid_results['ff_angle_diff'], \n",
    "             'Valid Dataset', savefig=True)"
   ]
  },
  {
   "cell_type": "code",
   "execution_count": null,
   "id": "b1020641-dcdd-4813-bfb6-6f91e96289c2",
   "metadata": {},
   "outputs": [],
   "source": [
    "##### get near field truth, recon, and resim values ####\n",
    "\n",
    "nf_truth_train = resim_train_results['nf_truth']\n",
    "nf_truth_valid = resim_valid_results['nf_truth']\n",
    "\n",
    "nf_recon_train = resim_train_results['nf_pred']\n",
    "nf_recon_valid = resim_valid_results['nf_pred']\n",
    "\n",
    "nf_resim_train = em.get_nf_resim(folder_name, target = 'train')\n",
    "nf_resim_valid = em.get_nf_resim(folder_name, target = 'valid')\n",
    "\n",
    "###### get far field truth, recon, and resim values ####\n",
    "\n",
    "ff_truth_train = resim_train_results['ff_truth']\n",
    "ff_truth_valid = resim_valid_results['ff_truth']\n",
    "\n",
    "ff_recon_train = resim_train_results['ff_pred']\n",
    "ff_recon_valid = resim_valid_results['ff_pred']\n",
    "\n",
    "ff_resim_train = em.get_ff_resim(nf_resim_train)\n",
    "ff_resim_valid = em.get_ff_resim(nf_resim_valid)"
   ]
  },
  {
   "cell_type": "code",
   "execution_count": null,
   "id": "43114521-f2f4-41c6-a2c4-5ce4bd04091a",
   "metadata": {},
   "outputs": [],
   "source": [
    "plt.close(\"all\")\n",
    "\n",
    "similarity = True\n",
    "amplitude_matrix, phase_matrix = em.build_custom_conf_matrices(nf_truth_train, nf_recon_train, \n",
    "                                                             nf_resim_train, similarity = similarity, savefig=True)\n",
    "em.plot_custom_confusion_matrix(amplitude_matrix, phase_matrix, similarity=similarity, savefig=True)"
   ]
  },
  {
   "cell_type": "code",
   "execution_count": null,
   "id": "599574ad-72be-4e79-ae93-68682ca544bb",
   "metadata": {},
   "outputs": [],
   "source": [
    "plt.close(\"all\")\n",
    "\n",
    "similarity = False\n",
    "amplitude_matrix, phase_matrix = em.build_custom_conf_matrices(nf_truth_train, nf_recon_train, \n",
    "                                                             nf_resim_train, similarity = similarity)\n",
    "em.plot_custom_confusion_matrix(amplitude_matrix, phase_matrix, similarity=similarity, savefig=True)"
   ]
  },
  {
   "cell_type": "code",
   "execution_count": null,
   "id": "87bbbab5-e103-4b90-b46d-fbfc5a847df6",
   "metadata": {},
   "outputs": [],
   "source": [
    "plt.close(\"all\")       \n",
    "em.plot_dft_fields(nf_truth_train, nf_recon_train, nf_resim_train, \n",
    "           target = \"Near Field, Train Dataset\", batch=True, savefig = True)"
   ]
  },
  {
   "cell_type": "code",
   "execution_count": null,
   "id": "d0fc9747-52a6-439b-ab80-2103872bc506",
   "metadata": {},
   "outputs": [],
   "source": [
    "plt.close(\"all\")\n",
    "em.plot_dft_fields(nf_truth_valid, nf_recon_valid, nf_resim_valid, \"Near Field, Valid Dataset\", batch=True, savefig=True)"
   ]
  },
  {
   "cell_type": "code",
   "execution_count": null,
   "id": "8d3d21ae-5b56-4236-8a74-a7e1bdc713a9",
   "metadata": {},
   "outputs": [],
   "source": [
    "plt.close(\"all\")\n",
    "em.plot_dft_fields(ff_truth_train, ff_recon_train, ff_resim_train, \"Far Field, Train Dataset\", batch=True, savefig=True)"
   ]
  },
  {
   "cell_type": "code",
   "execution_count": null,
   "id": "6e1ba9c9-7eb2-4846-a191-a9009d464adb",
   "metadata": {},
   "outputs": [],
   "source": [
    "plt.close(\"all\")\n",
    "em.plot_dft_fields(ff_truth_valid, ff_recon_valid, ff_resim_valid, \"Far Field, Valid Dataset\", batch=True, savefig=True)"
   ]
  },
  {
   "cell_type": "code",
   "execution_count": null,
   "id": "66213bcb-1f03-4f3c-b43a-cb6f683909f8",
   "metadata": {},
   "outputs": [],
   "source": [
    "plt.close(\"all\")\n",
    "em.plot_dft_fields(nf_truth_train, nf_recon_train, nf_resim_train, \"Near Field, Train Dataset\", batch=False, idx=0, savefig=True)"
   ]
  },
  {
   "cell_type": "code",
   "execution_count": null,
   "id": "13f19e81-314c-44fb-bb05-3005f7573f0a",
   "metadata": {},
   "outputs": [],
   "source": [
    "plt.close(\"all\")\n",
    "em.plot_dft_fields(nf_truth_valid, nf_recon_valid, nf_resim_valid, \"Near Field, Valid Dataset\", batch=False, idx=6, savefig=True)"
   ]
  },
  {
   "cell_type": "code",
   "execution_count": null,
   "id": "3e4c3727-6fa9-4071-a576-cb69bc653d62",
   "metadata": {},
   "outputs": [],
   "source": [
    "plt.close(\"all\")\n",
    "em.plot_dft_fields(ff_truth_train, ff_recon_train, ff_resim_train, \"Far Field, Train Dataset\", batch=False, idx=0, savefig=True)"
   ]
  },
  {
   "cell_type": "code",
   "execution_count": null,
   "id": "8bca8eca-6b2e-47cc-af03-2ca2616f0ca1",
   "metadata": {},
   "outputs": [],
   "source": [
    "plt.close(\"all\")\n",
    "em.plot_dft_fields(ff_truth_valid, ff_recon_valid, ff_resim_valid, \"Far Field, Valid Dataset\", batch=False, idx=0, savefig=True)"
   ]
  },
  {
   "cell_type": "code",
   "execution_count": null,
   "id": "8786c8bb-85fa-4400-aac0-993de854db1f",
   "metadata": {},
   "outputs": [],
   "source": []
  }
 ],
 "metadata": {
  "kernelspec": {
   "display_name": "Python 3 (ipykernel)",
   "language": "python",
   "name": "python3"
  },
  "language_info": {
   "codemirror_mode": {
    "name": "ipython",
    "version": 3
   },
   "file_extension": ".py",
   "mimetype": "text/x-python",
   "name": "python",
   "nbconvert_exporter": "python",
   "pygments_lexer": "ipython3",
   "version": "3.10.10"
  }
 },
 "nbformat": 4,
 "nbformat_minor": 5
}
