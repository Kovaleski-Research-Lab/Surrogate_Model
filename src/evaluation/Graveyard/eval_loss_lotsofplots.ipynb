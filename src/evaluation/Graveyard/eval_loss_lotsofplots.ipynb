{
 "cells": [
  {
   "cell_type": "code",
   "execution_count": 1,
   "id": "9a05b4f8",
   "metadata": {},
   "outputs": [
    {
     "name": "stderr",
     "output_type": "stream",
     "text": [
      "Global seed set to 1337\n"
     ]
    }
   ],
   "source": [
    "%matplotlib widget\n",
    "\n",
    "import os\n",
    "import sys\n",
    "from IPython import embed\n",
    "from mpl_toolkits.axes_grid1 import AxesGrid\n",
    "from mpl_toolkits.axes_grid1 import make_axes_locatable\n",
    "import matplotlib.pyplot as plt\n",
    "from matplotlib.table import Table\n",
    "import pickle\n",
    "import numpy as np\n",
    "import yaml\n",
    "\n",
    "## methods for evaluating training results\n",
    "sys.path.append(\"../core\")\n",
    "from model import CAI_Model\n",
    "\n",
    "## methods for evaluating resims\n",
    "sys.path.append(os.path.abspath(\"/develop/code/cai_2023/evaluation\"))\n",
    "import eval_methods as em\n",
    "\n",
    "sys.path.append(os.path.abspath(\"/develop/code/cai_2023/resim\"))\n",
    "import launch_resim as launch\n",
    "\n",
    "path_results = \"/develop/results\""
   ]
  },
  {
   "cell_type": "markdown",
   "id": "524d7c7c",
   "metadata": {},
   "source": [
    "define `min_list` and `max_list` according to [`total`, `near field`, `far field`, `phase`, `curvature`] to set ymin and ymax in the loss plots"
   ]
  },
  {
   "cell_type": "code",
   "execution_count": 2,
   "id": "389b9f11",
   "metadata": {},
   "outputs": [],
   "source": [
    "min_list = [None, None, None, None, None]\n",
    "max_list = [None, None, None, None, None]\n",
    "\n",
    "plt.close(\"all\")\n",
    "plt.style.use(\"ggplot\")\n",
    "\n",
    "from matplotlib.font_manager import FontProperties\n",
    "fontsize = 8\n",
    "font = FontProperties()\n",
    "\n",
    "def plot_loss(loss, title, min, max, save_fig):\n",
    "    \n",
    "    plt.style.use(\"ggplot\")\n",
    "    \n",
    "    fig, ax = plt.subplots(2, int((len(loss.keys()) - 1)/2), figsize = (12, 4.5))\n",
    "        \n",
    "    lterms = ['Total Loss', 'Near Field Loss', 'Far Field Loss', 'Phase Loss', 'Curvature Loss']\n",
    "    \n",
    "    for i, name in enumerate(loss.keys()):\n",
    "        \n",
    "        if(name == \"epoch\"):\n",
    "            continue\n",
    "\n",
    "        if(name.startswith('val')):\n",
    "            #fig.suptitle(f\"\\nLoss Analysis {title}: \" + \"Valid Dataset\", fontsize=fontsize, fontproperties=font)\n",
    "            \n",
    "            x_vals = loss[\"epoch\"]\n",
    "            x_vals = x_vals[x_vals.index % 2 == 0]\n",
    "            y_vals = loss[name]\n",
    "            y_vals = y_vals[y_vals.index % 2 == 0]\n",
    "            \n",
    "            ax[1][i].plot(x_vals, y_vals, color = \"blue\", label=title)\n",
    "            ax[1][i].set_ylabel(\"Loss\", fontsize = fontsize-1)\n",
    "            ax[1][i].set_xlabel(\"Epoch\", fontsize = fontsize-1)\n",
    "            ax[1][i].set_title(name,fontsize=fontsize+1)\n",
    "            ax[1][i].tick_params(axis=\"x\", labelsize=6)\n",
    "            ax[1][i].tick_params(axis=\"y\", labelsize=6)\n",
    "            #ax[1][i].legend(loc='upper right', fontsize=fontsize)\n",
    "            ax[1][i].set_ylim([min[i],max[i]])\n",
    "            \n",
    "        else:\n",
    "            #fig.suptitle(f\"\\nLoss Analysis {title}: \" + \"Train Dataset\", fontsize=fontsize, fontproperties=font)\n",
    "\n",
    "            x_vals = loss[\"epoch\"]\n",
    "            x_vals = x_vals[x_vals.index % 2 != 0]\n",
    "            y_vals = loss[name]\n",
    "            y_vals = y_vals[y_vals.index % 2 != 0]\n",
    "            \n",
    "            ax[0][i-6].plot(x_vals, y_vals, color = \"blue\", label=title)\n",
    "            ax[0][i-6].set_ylabel(\"Loss\", fontsize = fontsize-1)\n",
    "            ax[0][i-6].set_xlabel(\"Epoch\", fontsize = fontsize-1)\n",
    "            ax[0][i-6].set_title(name,fontsize=fontsize+1)\n",
    "            ax[0][i-6].tick_params(axis=\"x\", labelsize=6)\n",
    "            ax[0][i-6].tick_params(axis=\"y\", labelsize=6)\n",
    "            ax[0][i-6].set_ylim([0,100])\n",
    "            #ax[0][i-6].legend(loc='upper right', fontsize=fontsize)\n",
    "            ax[0][i-6].set_ylim([min[i-6],max[i-6]])\n",
    "            \n",
    "    fig.suptitle(title)\n",
    "    fig.tight_layout()\n",
    "\n",
    "    if save_fig == True:\n",
    "        temp = title.replace(l_string, \"\").replace(\"\\n\", \"\").replace(\": \", \"\").replace(\" \", \"_\").replace(\"=\", \"\").replace(\"(\", \"\").replace(\")\", \"\").replace(\".\", \"-\")\n",
    "        new_title = \"a_b_d_g_\" + temp\n",
    "        \n",
    "        if(fig.savefig(f'loss_plots/{new_title}.pdf')):\n",
    "            print(\"fig saved\")"
   ]
  },
  {
   "cell_type": "code",
   "execution_count": null,
   "id": "82836a61-5c38-41b2-baa5-b1f04cc916d1",
   "metadata": {},
   "outputs": [],
   "source": [
    "def plot_two(loss, title, loss2, title2, min, max, save_fig):\n",
    "    \n",
    "    plt.style.use(\"ggplot\")\n",
    "    \n",
    "    fig, ax = plt.subplots(2, int((len(loss.keys()) - 1)/2), figsize = (12, 4.5))\n",
    "        \n",
    "    lterms = ['Total Loss', 'Near Field Loss', 'Far Field Loss', 'Phase Loss', 'Curvature Loss']\n",
    "    \n",
    "    for i, name in enumerate(loss.keys()):\n",
    "        \n",
    "        if(name == \"epoch\"):\n",
    "            continue\n",
    "\n",
    "        if(name.startswith('val')):\n",
    "            #fig.suptitle(f\"\\nLoss Analysis {title}: \" + \"Valid Dataset\", fontsize=fontsize, fontproperties=font)\n",
    "            \n",
    "            x_vals = loss[\"epoch\"]\n",
    "            x_vals = x_vals[x_vals.index % 2 == 0]\n",
    "            y_vals = loss[name]\n",
    "            y_vals = y_vals[y_vals.index % 2 == 0]\n",
    "            \n",
    "            ax[1][i].plot(x_vals, y_vals, color = \"blue\", label=title)\n",
    "            ax[1][i].set_ylabel(\"Loss\", fontsize = fontsize-1)\n",
    "            ax[1][i].set_xlabel(\"Epoch\", fontsize = fontsize-1)\n",
    "            ax[1][i].set_title(name,fontsize=fontsize+1)\n",
    "            ax[1][i].tick_params(axis=\"x\", labelsize=6)\n",
    "            ax[1][i].tick_params(axis=\"y\", labelsize=6)\n",
    "            ax[1][i].legend(loc='upper right', fontsize=fontsize)\n",
    "            ax[1][i].set_ylim([min[i],max[i]])\n",
    "            \n",
    "        else:\n",
    "            #fig.suptitle(f\"\\nLoss Analysis {title}: \" + \"Train Dataset\", fontsize=fontsize, fontproperties=font)\n",
    "\n",
    "            x_vals = loss[\"epoch\"]\n",
    "            x_vals = x_vals[x_vals.index % 2 != 0]\n",
    "            y_vals = loss[name]\n",
    "            y_vals = y_vals[y_vals.index % 2 != 0]\n",
    "            \n",
    "            ax[0][i-6].plot(x_vals, y_vals, color = \"blue\", label=title)\n",
    "            ax[0][i-6].set_ylabel(\"Loss\", fontsize = fontsize-1)\n",
    "            ax[0][i-6].set_xlabel(\"Epoch\", fontsize = fontsize-1)\n",
    "            ax[0][i-6].set_title(name,fontsize=fontsize+1)\n",
    "            ax[0][i-6].tick_params(axis=\"x\", labelsize=6)\n",
    "            ax[0][i-6].tick_params(axis=\"y\", labelsize=6)\n",
    "            ax[0][i-6].set_ylim([0,100])\n",
    "            ax[0][i-6].legend(loc='upper right', fontsize=fontsize)\n",
    "            ax[0][i-6].set_ylim([min[i-6],max[i-6]])\n",
    "\n",
    "    for i, name in enumerate(loss2.keys()):\n",
    "        \n",
    "        if(name == \"epoch\"):\n",
    "            continue\n",
    "\n",
    "        if(name.startswith('val')):\n",
    "            #fig.suptitle(f\"\\nLoss Analysis {title}: \" + \"Valid Dataset\", fontsize=fontsize, fontproperties=font)\n",
    "            \n",
    "            x_vals = loss[\"epoch\"]\n",
    "            x_vals = x_vals[x_vals.index % 2 == 0]\n",
    "            y_vals = loss[name]\n",
    "            y_vals = y_vals[y_vals.index % 2 == 0]\n",
    "            \n",
    "            ax[1][i].plot(x_vals, y_vals, color = \"red\", label=title2)\n",
    "            ax[1][i].set_ylabel(\"Loss\", fontsize = fontsize-1)\n",
    "            ax[1][i].set_xlabel(\"Epoch\", fontsize = fontsize-1)\n",
    "            ax[1][i].set_title(name,fontsize=fontsize+1)\n",
    "            ax[1][i].tick_params(axis=\"x\", labelsize=6)\n",
    "            ax[1][i].tick_params(axis=\"y\", labelsize=6)\n",
    "            ax[1][i].legend(loc='upper right', fontsize=fontsize)\n",
    "            ax[1][i].set_ylim([min[i],max[i]])\n",
    "            \n",
    "        else:\n",
    "            #fig.suptitle(f\"\\nLoss Analysis {title}: \" + \"Train Dataset\", fontsize=fontsize, fontproperties=font)\n",
    "\n",
    "            x_vals = loss[\"epoch\"]\n",
    "            x_vals = x_vals[x_vals.index % 2 != 0]\n",
    "            y_vals = loss[name]\n",
    "            y_vals = y_vals[y_vals.index % 2 != 0]\n",
    "            \n",
    "            ax[0][i-6].plot(x_vals, y_vals, color = \"red\", label=title2)\n",
    "            ax[0][i-6].set_ylabel(\"Loss\", fontsize = fontsize-1)\n",
    "            ax[0][i-6].set_xlabel(\"Epoch\", fontsize = fontsize-1)\n",
    "            ax[0][i-6].set_title(name,fontsize=fontsize+1)\n",
    "            ax[0][i-6].tick_params(axis=\"x\", labelsize=6)\n",
    "            ax[0][i-6].tick_params(axis=\"y\", labelsize=6)\n",
    "            ax[0][i-6].set_ylim([0,100])\n",
    "            ax[0][i-6].legend(loc='upper right', fontsize=fontsize)\n",
    "            ax[0][i-6].set_ylim([min[i-6],max[i-6]])\n",
    "    fig.suptitle(title)\n",
    "    fig.tight_layout()"
   ]
  },
  {
   "cell_type": "markdown",
   "id": "b8c716e2",
   "metadata": {},
   "source": [
    "define `folder_name` to choose a single model for which to plot loss"
   ]
  },
  {
   "cell_type": "code",
   "execution_count": null,
   "id": "462d59c7",
   "metadata": {},
   "outputs": [],
   "source": [
    "########################################\n",
    "#### plot loss for a single model #####\n",
    "\n",
    "\n",
    "folder_name = \"model_0031\"\n",
    "folder_path = os.path.join(path_results, folder_name)\n",
    "single_loss = em.gather_loss(folder_path)\n",
    "\n",
    "l_string = r'($\\alpha$' + \" \" + r'$\\beta$' + \" \" + r'$\\delta$' + \" \" + r'$\\gamma$)'\n",
    "title = l_string + f\": ({single_loss['alpha']} {single_loss['beta']} {single_loss['delta']} {single_loss['gamma']}) \" + \"\\n\" + single_loss['title'].replace(path_results,\"\").replace(\"/\",\"\") + \" lr=\" + str(single_loss['lr'])\n",
    "\n",
    "#plot_loss(single_loss['loss'], title, max_list, min_list, False)\n",
    "single_loss.keys()"
   ]
  },
  {
   "cell_type": "code",
   "execution_count": null,
   "id": "49627c96-e3f4-4b8e-b6cf-4e1c50ab7b7d",
   "metadata": {},
   "outputs": [],
   "source": [
    "\n",
    "\n",
    "folder_name = \"model_0041\"\n",
    "folder_path = os.path.join(path_results, folder_name)\n",
    "single_loss2 = em.gather_loss(folder_path)\n",
    "\n",
    "l_string = r'($\\alpha$' + \" \" + r'$\\beta$' + \" \" + r'$\\delta$' + \" \" + r'$\\gamma$)'\n",
    "title2 = l_string + f\": ({single_loss['alpha']} {single_loss['beta']} {single_loss['delta']} {single_loss['gamma']}) \" + \"\\n\" + single_loss['title'].replace(path_results,\"\").replace(\"/\",\"\") + \" lr=\" + str(single_loss['lr'])\n",
    "\n",
    "#plot_loss(single_loss['loss'], title, max_list, min_list, False)\n",
    "\n",
    "#[total, near field, far field, phase, curvature\n",
    "min_list = [None, 0.6, None, 3.18, None]\n",
    "max_list = [None, 1.3, None, 3.19, None]\n",
    "plot_two(single_loss['loss'], title, single_loss2['loss'], title2, min_list, max_list, False)"
   ]
  },
  {
   "cell_type": "code",
   "execution_count": 3,
   "id": "c250d046",
   "metadata": {},
   "outputs": [
    {
     "name": "stdout",
     "output_type": "stream",
     "text": [
      "num folders found: 556\n",
      "num with loss: 2224\n",
      "we have 11 learning rates for backbone resnet18.\n"
     ]
    }
   ],
   "source": [
    " ###############################################################\n",
    "#### Plot loss for all models with the specified backbone #####\n",
    "backbone = \"resnet18\" \n",
    "#backbone = \"resnet34\"\n",
    "#backbone = \"resnet50\"\n",
    "\n",
    "####################################\n",
    "#### Plot loss by learning rate ####\n",
    "\n",
    "all_loss = em.gather_all_loss(path_results, backbone)\n",
    "\n",
    "lr_list = []\n",
    "for result in all_loss:\n",
    "    lr = result['lr']\n",
    "    if lr not in lr_list:\n",
    "        lr_list.append(lr)\n",
    "lr_list.sort()\n",
    "print(f\"we have {len(lr_list)} learning rates for backbone {backbone}.\")"
   ]
  },
  {
   "cell_type": "code",
   "execution_count": null,
   "id": "fa0d0e93-8fd1-4b7c-98fe-49902f955131",
   "metadata": {},
   "outputs": [],
   "source": [
    "all_alpha, all_beta, all_delta = [], [], []\n",
    "\n",
    "def grab_loss(result):\n",
    "\n",
    "    loss = result['loss']\n",
    "    loss.keys()\n",
    "    title = l_string +  f\": ({result['alpha']} {result['beta']} {result['delta']} {result['gamma']}) \" + \"\\n\" + result['title'].replace(path_results,\"\").replace(\"/\",\"\") + \" lr=\" + str(result['lr'])\n",
    "    #plot_loss(loss, title, max_list, min_list)\n",
    "    \n",
    "    return loss, title\n",
    "\n",
    "for result in all_loss:\n",
    "    \n",
    "    if result['alpha'] != 0:\n",
    "        all_alpha.append(result)\n",
    "    if result['beta'] != 0:\n",
    "        all_beta.append(result)\n",
    "    if result['delta'] != 0:\n",
    "        all_delta.append(result)"
   ]
  },
  {
   "cell_type": "code",
   "execution_count": null,
   "id": "dc021ac3-c1ff-4611-9bc9-53ae5e3f2287",
   "metadata": {},
   "outputs": [],
   "source": []
  },
  {
   "cell_type": "code",
   "execution_count": null,
   "id": "ec400225-a342-4ece-b4d5-f28d042b338a",
   "metadata": {},
   "outputs": [],
   "source": [
    "temp = [j for i,j in enumerate(all_alpha[31]['loss']['train_total_loss']) if i % 2 != 0]\n",
    "title = all_alpha[31]['title']\n",
    "temp2 = [j for i,j in enumerate(all_alpha[41]['loss']['train_total_loss']) if i % 2 != 0]\n",
    "title2 = all_alpha[41]['title']\n",
    "np.asarray(temp)==np.asarray(temp2)\n",
    "fig, ax = plt.subplots(1,1)\n",
    "ax.plot(temp, \"blue\")\n",
    "ax.plot(temp2, \"red\")\n",
    "ax.set_ylim([0.9, 2])\n"
   ]
  },
  {
   "cell_type": "markdown",
   "id": "f04762f1-f659-41ea-8ef1-3b58b3e9cd15",
   "metadata": {},
   "source": [
    "## first all the alphas"
   ]
  },
  {
   "cell_type": "code",
   "execution_count": null,
   "id": "089b772a-ad56-4d3c-a0ad-b5a930fb3cc7",
   "metadata": {},
   "outputs": [],
   "source": [
    "for result in all_alpha:\n",
    "    if result['lr'] == lr_list[0]:\n",
    "        loss, title = grab_loss(result)\n",
    "        plot_loss(loss, title, min_list, max_list, True)\n",
    "        break"
   ]
  },
  {
   "cell_type": "code",
   "execution_count": null,
   "id": "50d762fc-740d-4f0b-9845-ca733a70d0ae",
   "metadata": {},
   "outputs": [],
   "source": [
    "plt.close(\"all\")\n",
    "\n",
    "for result in all_alpha:\n",
    "    if result['lr'] == lr_list[1]:\n",
    "        loss, title = grab_loss(result)\n",
    "        plot_loss(loss, title, min_list, max_list, True)\n",
    "        break"
   ]
  },
  {
   "cell_type": "code",
   "execution_count": null,
   "id": "5acf6c14-582d-4be2-8580-4430fb0d2f9a",
   "metadata": {},
   "outputs": [],
   "source": [
    "plt.close(\"all\")\n",
    "\n",
    "for result in all_alpha:\n",
    "    if result['lr'] == lr_list[2]:\n",
    "        loss, title = grab_loss(result)\n",
    "        plot_loss(loss, title, min_list, max_list, True)\n",
    "        break"
   ]
  },
  {
   "cell_type": "code",
   "execution_count": null,
   "id": "27d7f594-4d5e-489b-8861-d9f1e9ff89c4",
   "metadata": {},
   "outputs": [],
   "source": [
    "plt.close(\"all\")\n",
    "\n",
    "for result in all_alpha:\n",
    "    if result['lr'] == lr_list[3]:\n",
    "        loss, title = grab_loss(result)\n",
    "        plot_loss(loss, title, min_list, max_list, True)\n",
    "        break"
   ]
  },
  {
   "cell_type": "code",
   "execution_count": null,
   "id": "89d2f275-f3ae-4351-b57e-19ca03521dcc",
   "metadata": {},
   "outputs": [],
   "source": [
    "plt.close(\"all\")\n",
    "\n",
    "for result in all_alpha:\n",
    "    if result['lr'] == lr_list[4]:\n",
    "        loss, title = grab_loss(result)\n",
    "        plot_loss(loss, title, min_list, max_list, True)\n",
    "        break"
   ]
  },
  {
   "cell_type": "code",
   "execution_count": null,
   "id": "daea99ef-a7fb-45a1-b396-757092d0a2af",
   "metadata": {},
   "outputs": [],
   "source": [
    "plt.close(\"all\")\n",
    "\n",
    "for result in all_alpha:\n",
    "    if result['lr'] == lr_list[5]:\n",
    "        loss, title = grab_loss(result)\n",
    "        plot_loss(loss, title, min_list, max_list, True)\n",
    "        break"
   ]
  },
  {
   "cell_type": "code",
   "execution_count": null,
   "id": "b585c9a4-6a5e-4f58-966b-10976919febb",
   "metadata": {},
   "outputs": [],
   "source": [
    "plt.close(\"all\")\n",
    "\n",
    "for result in all_alpha:\n",
    "    if result['lr'] == lr_list[6]:\n",
    "        loss, title = grab_loss(result)\n",
    "        plot_loss(loss, title, min_list, max_list, True)\n",
    "        break"
   ]
  },
  {
   "cell_type": "code",
   "execution_count": null,
   "id": "8ceade49-4e55-4b81-834d-0d95f148d76b",
   "metadata": {},
   "outputs": [],
   "source": [
    "plt.close(\"all\")\n",
    "\n",
    "for result in all_alpha:\n",
    "    if result['lr'] == lr_list[7]:\n",
    "        loss, title = grab_loss(result)\n",
    "        plot_loss(loss, title, min_list, max_list, True)\n",
    "        break"
   ]
  },
  {
   "cell_type": "code",
   "execution_count": null,
   "id": "faeed7a7-8d0a-4815-967e-b4972af06a23",
   "metadata": {},
   "outputs": [],
   "source": [
    "plt.close(\"all\")\n",
    "\n",
    "for result in all_alpha:\n",
    "    if result['lr'] == lr_list[8]:\n",
    "        loss, title = grab_loss(result)\n",
    "        plot_loss(loss, title, min_list, max_list, True)\n",
    "        break"
   ]
  },
  {
   "cell_type": "code",
   "execution_count": null,
   "id": "75469473-164a-4c75-bb47-922734100d4c",
   "metadata": {},
   "outputs": [],
   "source": [
    "plt.close(\"all\")\n",
    "\n",
    "for result in all_alpha:\n",
    "    if result['lr'] == lr_list[9]:\n",
    "        loss, title = grab_loss(result)\n",
    "        plot_loss(loss, title, min_list, max_list, True)\n",
    "        break"
   ]
  },
  {
   "cell_type": "markdown",
   "id": "362a8c9b-345c-4fca-9775-8eea1a86c87f",
   "metadata": {},
   "source": [
    "## now all the betas"
   ]
  },
  {
   "cell_type": "code",
   "execution_count": null,
   "id": "bfdf0f47-f76b-4231-bb64-f778e8728889",
   "metadata": {},
   "outputs": [],
   "source": [
    "plt.close(\"all\")\n",
    "min_list = [None, None, 2, None, None]\n",
    "max_list = [None, None, 6, None, None]\n",
    "for result in all_beta:\n",
    "    if result['lr'] == lr_list[0]:\n",
    "        loss, title = grab_loss(result)\n",
    "        plot_loss(loss, title, min_list, max_list, True)\n",
    "        break"
   ]
  },
  {
   "cell_type": "code",
   "execution_count": null,
   "id": "efd574c3-551a-4617-906e-e3eadacbc814",
   "metadata": {},
   "outputs": [],
   "source": [
    "plt.close(\"all\")\n",
    "\n",
    "for result in all_beta:\n",
    "    if result['lr'] == lr_list[1]:\n",
    "        loss, title = grab_loss(result)\n",
    "        plot_loss(loss, title, min_list, max_list, True)\n",
    "        break"
   ]
  },
  {
   "cell_type": "code",
   "execution_count": null,
   "id": "8ec198af-257a-4204-8247-7d8c3c74450a",
   "metadata": {},
   "outputs": [],
   "source": [
    "plt.close(\"all\")\n",
    "\n",
    "for result in all_beta:\n",
    "    if result['lr'] == lr_list[2]:\n",
    "        loss, title = grab_loss(result)\n",
    "        plot_loss(loss, title, min_list, max_list, True)\n",
    "        break"
   ]
  },
  {
   "cell_type": "code",
   "execution_count": null,
   "id": "eaff84e4-fdb6-449a-9061-af0c37bc2700",
   "metadata": {},
   "outputs": [],
   "source": [
    "plt.close(\"all\")\n",
    "\n",
    "for result in all_beta:\n",
    "    if result['lr'] == lr_list[3]:\n",
    "        loss, title = grab_loss(result)\n",
    "        plot_loss(loss, title, min_list, max_list, True)\n",
    "        break"
   ]
  },
  {
   "cell_type": "code",
   "execution_count": null,
   "id": "c7315132-53d9-41c3-9ba0-e8aa5f499718",
   "metadata": {},
   "outputs": [],
   "source": [
    "# plt.close(\"all\")\n",
    "\n",
    "# for result in all_beta:\n",
    "#     if result['lr'] == lr_list[4]:\n",
    "#         loss, title = grab_loss(result)\n",
    "#         plot_loss(loss, title, min_list, max_list, True)"
   ]
  },
  {
   "cell_type": "code",
   "execution_count": null,
   "id": "df2c1af5-daf7-4713-84a1-a783c8422154",
   "metadata": {},
   "outputs": [],
   "source": [
    "# plt.close(\"all\")\n",
    "\n",
    "# for result in all_beta:\n",
    "#     if result['lr'] == lr_list[5]:\n",
    "#         loss, title = grab_loss(result)\n",
    "#         plot_loss(loss, title, min_list, max_list, True)"
   ]
  },
  {
   "cell_type": "code",
   "execution_count": null,
   "id": "19448ea5-c338-4004-9ed7-90285591c6ed",
   "metadata": {},
   "outputs": [],
   "source": [
    "# plt.close(\"all\")\n",
    "\n",
    "# for result in all_beta:\n",
    "#     if result['lr'] == lr_list[6]:\n",
    "#         loss, title = grab_loss(result)\n",
    "#         plot_loss(loss, title, min_list, max_list, True)"
   ]
  },
  {
   "cell_type": "code",
   "execution_count": null,
   "id": "6602764f-a45c-468f-bf78-a8bbc9e51408",
   "metadata": {},
   "outputs": [],
   "source": [
    "# plt.close(\"all\")\n",
    "\n",
    "# for result in all_beta:\n",
    "#     if result['lr'] == lr_list[7]:\n",
    "#         loss, title = grab_loss(result)\n",
    "#         plot_loss(loss, title, min_list, max_list, True)"
   ]
  },
  {
   "cell_type": "code",
   "execution_count": null,
   "id": "8f866351-aa52-4ce0-9ecd-e5b49fb5ca79",
   "metadata": {},
   "outputs": [],
   "source": [
    "# plt.close(\"all\")\n",
    "\n",
    "# for result in all_beta:\n",
    "#     if result['lr'] == lr_list[8]:\n",
    "#         loss, title = grab_loss(result)\n",
    "#         plot_loss(loss, title, min_list, max_list, True)"
   ]
  },
  {
   "cell_type": "code",
   "execution_count": null,
   "id": "bbbf4f0a-c250-4e98-a9e2-75f51db50103",
   "metadata": {},
   "outputs": [],
   "source": [
    "# plt.close(\"all\")\n",
    "\n",
    "# for result in all_beta:\n",
    "#     if result['lr'] == lr_list[9]:\n",
    "#         loss, title = grab_loss(result)\n",
    "#         plot_loss(loss, title, min_list, max_list, True)"
   ]
  },
  {
   "cell_type": "markdown",
   "id": "98d81f50-30e7-4529-981c-2112a888ff7a",
   "metadata": {},
   "source": [
    "## now all the deltas"
   ]
  },
  {
   "cell_type": "code",
   "execution_count": null,
   "id": "b86fd6c4-a757-44c6-b7e5-c8d586ad8c46",
   "metadata": {},
   "outputs": [],
   "source": [
    "plt.close(\"all\")\n",
    "min_list = [None, None, 2, 0, 0]\n",
    "max_list = [None, None, 6, 5, 8]\n",
    "\n",
    "for result in all_delta:\n",
    "    if result['lr'] == lr_list[0]:\n",
    "        loss, title = grab_loss(result)\n",
    "        plot_loss(loss, title, min_list, max_list, True)\n",
    "        break"
   ]
  },
  {
   "cell_type": "code",
   "execution_count": null,
   "id": "def0653a-19d1-401c-a1b6-0a227d5f18cd",
   "metadata": {},
   "outputs": [],
   "source": [
    "plt.close(\"all\")\n",
    "\n",
    "for result in all_delta:\n",
    "    if result['lr'] == lr_list[1]:\n",
    "        loss, title = grab_loss(result)\n",
    "        plot_loss(loss, title, min_list, max_list, True)\n",
    "        break"
   ]
  },
  {
   "cell_type": "code",
   "execution_count": null,
   "id": "e9dd79ed-8576-4078-bfa4-16bf9f28b47c",
   "metadata": {},
   "outputs": [],
   "source": [
    "plt.close(\"all\")\n",
    "\n",
    "for result in all_delta:\n",
    "    if result['lr'] == lr_list[2]:\n",
    "        loss, title = grab_loss(result)\n",
    "        plot_loss(loss, title, min_list, max_list, True)\n",
    "        break"
   ]
  },
  {
   "cell_type": "code",
   "execution_count": null,
   "id": "c1172ae7-273f-472f-ba20-52a32f1280b6",
   "metadata": {},
   "outputs": [],
   "source": [
    "plt.close(\"all\")\n",
    "\n",
    "for result in all_delta:\n",
    "    if result['lr'] == lr_list[3]:\n",
    "        loss, title = grab_loss(result)\n",
    "        plot_loss(loss, title, min_list, max_list, True)\n",
    "        break"
   ]
  },
  {
   "cell_type": "code",
   "execution_count": null,
   "id": "8996d182-2c9d-4213-853a-c13036e27933",
   "metadata": {},
   "outputs": [],
   "source": [
    "plt.close(\"all\")\n",
    "\n",
    "for result in all_delta:\n",
    "    if result['lr'] == lr_list[4]:\n",
    "        loss, title = grab_loss(result)\n",
    "        plot_loss(loss, title, min_list, max_list, True)\n",
    "        break"
   ]
  },
  {
   "cell_type": "code",
   "execution_count": null,
   "id": "2dac1193-8a6b-470b-92eb-40b2a571192a",
   "metadata": {},
   "outputs": [],
   "source": [
    "plt.close(\"all\")\n",
    "\n",
    "for result in all_delta:\n",
    "    if result['lr'] == lr_list[5]:\n",
    "        loss, title = grab_loss(result)\n",
    "        plot_loss(loss, title, min_list, max_list, True)\n",
    "        break"
   ]
  },
  {
   "cell_type": "code",
   "execution_count": null,
   "id": "020f46e0-9d4f-47a6-9e48-385596a0fc35",
   "metadata": {},
   "outputs": [],
   "source": [
    "plt.close(\"all\")\n",
    "\n",
    "for result in all_delta:\n",
    "    if result['lr'] == lr_list[6]:\n",
    "        loss, title = grab_loss(result)\n",
    "        plot_loss(loss, title, min_list, max_list, True)\n",
    "        break"
   ]
  },
  {
   "cell_type": "code",
   "execution_count": null,
   "id": "16f71129-7f15-4050-9334-fb7b805382ce",
   "metadata": {},
   "outputs": [],
   "source": [
    "plt.close(\"all\")\n",
    "\n",
    "for result in all_delta:\n",
    "    if result['lr'] == lr_list[7]:\n",
    "        loss, title = grab_loss(result)\n",
    "        plot_loss(loss, title, min_list, max_list, True)\n",
    "        break"
   ]
  },
  {
   "cell_type": "code",
   "execution_count": null,
   "id": "c6d37cb0-08bb-4ce5-9263-da14683025bb",
   "metadata": {},
   "outputs": [],
   "source": [
    "plt.close(\"all\")\n",
    "\n",
    "for result in all_delta:\n",
    "    if result['lr'] == lr_list[8]:\n",
    "        loss, title = grab_loss(result)\n",
    "        plot_loss(loss, title, min_list, max_list, True)\n",
    "        break"
   ]
  },
  {
   "cell_type": "code",
   "execution_count": null,
   "id": "a5f8e4bf-6047-492a-b95a-45a1f51a6eb3",
   "metadata": {},
   "outputs": [],
   "source": [
    "plt.close(\"all\")\n",
    "\n",
    "for result in all_delta:\n",
    "    if result['lr'] == lr_list[9]:\n",
    "        loss, title = grab_loss(result)\n",
    "        plot_loss(loss, title, min_list, max_list, True)\n",
    "        break"
   ]
  },
  {
   "cell_type": "code",
   "execution_count": null,
   "id": "60d8015e-4d76-4500-b3ee-f668a9c6b752",
   "metadata": {},
   "outputs": [],
   "source": []
  },
  {
   "cell_type": "code",
   "execution_count": null,
   "id": "59093716-0f9d-4ed7-aff8-1d0ea1b5cfa2",
   "metadata": {},
   "outputs": [],
   "source": []
  },
  {
   "cell_type": "code",
   "execution_count": null,
   "id": "ca61232b-74db-4c47-9c42-39eb73c466b1",
   "metadata": {},
   "outputs": [],
   "source": []
  },
  {
   "cell_type": "code",
   "execution_count": null,
   "id": "3278e17c-04e7-49ec-b393-9edde16162aa",
   "metadata": {},
   "outputs": [],
   "source": []
  },
  {
   "cell_type": "code",
   "execution_count": null,
   "id": "c73ecf85-c191-4ec8-a836-0fc3853a579c",
   "metadata": {},
   "outputs": [],
   "source": []
  },
  {
   "cell_type": "code",
   "execution_count": null,
   "id": "87b058ab-a25a-4290-96b5-73b6e67002a0",
   "metadata": {},
   "outputs": [],
   "source": []
  },
  {
   "cell_type": "code",
   "execution_count": null,
   "id": "2aeeceeb-2e36-4239-a839-43fceaeb56d2",
   "metadata": {},
   "outputs": [],
   "source": []
  },
  {
   "cell_type": "code",
   "execution_count": null,
   "id": "59b1ec59-f86a-4676-99ce-f8bef9a4310f",
   "metadata": {},
   "outputs": [],
   "source": []
  },
  {
   "cell_type": "code",
   "execution_count": null,
   "id": "60f276b5-ac09-4f95-8876-45623927b401",
   "metadata": {},
   "outputs": [],
   "source": []
  },
  {
   "cell_type": "code",
   "execution_count": null,
   "id": "08406b5d-4c70-49a2-9274-5395cf066601",
   "metadata": {},
   "outputs": [],
   "source": []
  },
  {
   "cell_type": "code",
   "execution_count": null,
   "id": "1b98d009-802c-4fc6-bd31-f6674adb69bd",
   "metadata": {},
   "outputs": [],
   "source": []
  },
  {
   "cell_type": "code",
   "execution_count": null,
   "id": "8bee0857-7e14-4692-83ee-91a514211d48",
   "metadata": {},
   "outputs": [],
   "source": []
  },
  {
   "cell_type": "code",
   "execution_count": null,
   "id": "9b72c7bb-021d-4700-97fd-b5d45556e064",
   "metadata": {},
   "outputs": [],
   "source": []
  },
  {
   "cell_type": "code",
   "execution_count": null,
   "id": "5bed6a3d-1aca-4179-9a6c-95315243fbb2",
   "metadata": {},
   "outputs": [],
   "source": []
  },
  {
   "cell_type": "code",
   "execution_count": null,
   "id": "b3d21e83-582d-45ee-9370-78448056ebd0",
   "metadata": {},
   "outputs": [],
   "source": []
  },
  {
   "cell_type": "code",
   "execution_count": null,
   "id": "59ee1c6a-f8a9-45ca-bb37-472685ac8de1",
   "metadata": {},
   "outputs": [],
   "source": []
  },
  {
   "cell_type": "code",
   "execution_count": null,
   "id": "2bf94662-0903-4be9-bffb-a702fa69ed97",
   "metadata": {},
   "outputs": [],
   "source": []
  },
  {
   "cell_type": "code",
   "execution_count": null,
   "id": "87a2c9b7-e85b-482e-8d80-5c079b62d8c6",
   "metadata": {},
   "outputs": [],
   "source": []
  },
  {
   "cell_type": "code",
   "execution_count": null,
   "id": "74689e10-0543-4f5b-bb31-753b0b6f46e7",
   "metadata": {},
   "outputs": [],
   "source": []
  },
  {
   "cell_type": "code",
   "execution_count": null,
   "id": "81177f16-96dc-47f7-8ce2-10178a017de9",
   "metadata": {},
   "outputs": [],
   "source": []
  },
  {
   "cell_type": "code",
   "execution_count": null,
   "id": "d9dc071e-3300-4bf7-947a-49c7f4e0c668",
   "metadata": {},
   "outputs": [],
   "source": []
  },
  {
   "cell_type": "code",
   "execution_count": null,
   "id": "0520010a-89a8-489b-b738-204aea108509",
   "metadata": {},
   "outputs": [],
   "source": []
  },
  {
   "cell_type": "code",
   "execution_count": null,
   "id": "6c175a52",
   "metadata": {},
   "outputs": [],
   "source": [
    "def plot_scatter(train_results, valid_results, title):\n",
    "    fig, ax = plt.subplots(1, 2, figsize = (9,3))\n",
    "    fig.suptitle(title)\n",
    "\n",
    "    ax[0].scatter(train_results['truth_phase'], train_results['pred_phase'])\n",
    "    ax[0].set_title(\"Train Dataset\")\n",
    "    ax[0].set_xlabel(\"Truth Phases\")\n",
    "    ax[0].set_ylabel(\"Pred Phases\")\n",
    "\n",
    "    ax[1].scatter(valid_results['truth_phase'], valid_results['pred_phase'])\n",
    "    ax[1].set_title(\"Valid Dataset\")\n",
    "    ax[1].set_xlabel(\"Truth Phases\")\n",
    "    ax[1].set_ylabel(\"Pred Phases\")\n",
    "\n",
    "    fig.tight_layout()"
   ]
  },
  {
   "cell_type": "markdown",
   "id": "ca5dc49b",
   "metadata": {},
   "source": [
    "#### compare gammas for encoder training models"
   ]
  },
  {
   "cell_type": "code",
   "execution_count": null,
   "id": "ee1535ff",
   "metadata": {},
   "outputs": [],
   "source": [
    "# model_encoderOnly_list = []\n",
    "# batch_size = 1\n",
    "#print(path_results)\n",
    "\n",
    "# def load_models(string):\n",
    "    \n",
    "#     num_folders = 0\n",
    "\n",
    "#     for folder in os.listdir(path_results):\n",
    "        \n",
    "#         if string in folder:\n",
    "\n",
    "#             ckpt_path = f\"/develop/results/model_checkpoints/{folder}\"\n",
    "#             params_path = f\"/develop/results/results/{folder}/params.yaml\"\n",
    "\n",
    "#             try:\n",
    "#                 with open(params_path, 'r') as file:\n",
    "#                     yaml_content = yaml.safe_load(file)\n",
    "#                     #print(f\"found yaml file for {folder}\")\n",
    "#                     key_dict = {}\n",
    "#                     key_dict['gamma'] = yaml_content['mcl_params']['gamma']\n",
    "#                     key_dict['backbone'] = yaml_content['backbone']\n",
    "#                     key_dict['learning_rate'] = yaml_content['learning_rate']\n",
    "                \n",
    "#                     model = em.load_model(ckpt_path, params_path, batch_size)\n",
    "#                     data_loader_train, data_loader_valid = em.load_data(batch_size, params_path)\n",
    "#                     train_results = em.evaluate(model, data_loader_train)\n",
    "#                     valid_results = em.evaluate(model, data_loader_valid)\n",
    "                    \n",
    "#                     key_dict['valid_truth_phase'] = valid_results['truth_phase']\n",
    "#                     key_dict['valid_pred_phase'] = valid_results['pred_phase']\n",
    "#                     key_dict['train_truth_phase'] = train_results['truth_phase']\n",
    "#                     key_dict['train_pred_phase'] = train_results['pred_phase']\n",
    "#                     key_dict['title'] = folder\n",
    "                    \n",
    "#                     model_encoderOnly_list.append(key_dict)\n",
    "#             except FileNotFoundError:\n",
    "#                 print(f\"no yaml file for {folder}\")\n",
    "                \n",
    "\n",
    "#             num_folders += 1\n",
    "#             print(f\"searched folder {num_folders}, {folder}\")\n",
    "#             #plot_scatter(train_results, valid_results,folder)\n",
    "#             pass\n",
    "#     print(f\"loaded in {num_folders} folders.\")\n",
    "\n",
    "# load_models(\"model_encoderOnly_lrSweep_\")\n"
   ]
  },
  {
   "cell_type": "code",
   "execution_count": null,
   "id": "22667dbc",
   "metadata": {},
   "outputs": [],
   "source": [
    "# path = \"/develop/results/results/results_05_23_model_encoderTraining\"\n",
    "# filename = 'sanity_check.pkl'\n",
    "\n",
    "# pickle.dump(model_encoderOnly_list,open(os.path.join(path,filename),\"wb\"))"
   ]
  },
  {
   "cell_type": "markdown",
   "id": "e2ea85bb",
   "metadata": {},
   "source": [
    "define `ckpt_path`, `params_path` and `batch_size` to load in the model you want"
   ]
  },
  {
   "cell_type": "code",
   "execution_count": null,
   "id": "13eaddde",
   "metadata": {},
   "outputs": [],
   "source": [
    "folder_name = \"model_baselineEncoder\"\n",
    "ckpt_path = f\"/develop/model_checkpoints/{folder_name}\"\n",
    "destination_path = \"/cgi/data/erdc_xai/cai_2023/resims/radii_predictions\"\n",
    "params_path = os.path.join(path_results, f\"{folder_name}/params.yaml\")\n",
    "batch_size = 1\n",
    "\n",
    "print(ckpt_path)\n",
    "print(params_path)"
   ]
  },
  {
   "cell_type": "code",
   "execution_count": null,
   "id": "b9f93595",
   "metadata": {},
   "outputs": [],
   "source": [
    "torch.multiprocessing.set_sharing_strategy('file_system')\n",
    "\n",
    "model = em.load_model(ckpt_path, params_path, batch_size)\n",
    "data_loader_train, data_loader_valid = em.load_data(batch_size, params_path)\n",
    "\n",
    "train_results = em.evaluate(model, data_loader_train)\n",
    "valid_results = em.evaluate(model, data_loader_valid)\n",
    "results = {}\n",
    "results['train'] = train_results[:5]\n",
    "results['valid'] = valid_results[:5]\n",
    "pickle.dump(results, open(os.path.join(destination_path, f\"{folder_name}.pkl\"), \"wb\"))"
   ]
  },
  {
   "cell_type": "code",
   "execution_count": null,
   "id": "bf1a7c0f",
   "metadata": {},
   "outputs": [],
   "source": [
    " def plot_violin(train_results, valid_results):\n",
    "    \n",
    "    fig, ax = plt.subplots(1, 2, figsize = (9,3))\n",
    "    \n",
    "    diff_train = train_results['pred_phase'] - train_results['truth_phase']\n",
    "    diff_valid = valid_results['pred_phase'] = valid_results['pred_phase']\n",
    "    \n",
    "    ax[0].violinplot(diff_train)\n",
    "    ax[0].boxplot(diff_train)\n",
    "    ax[0].set_title(\"Train Dataset\")\n",
    "    ax[0].set_ylim([-6,6])\n",
    "    ax[0].set_ylabel(\"Difference\")\n",
    "    ax[0].set_xlabel(\"Phase (Feature)\")\n",
    "    \n",
    "    ax[1].violinplot(diff_valid)\n",
    "    ax[1].boxplot(diff_valid)\n",
    "    ax[1].set_title(\"Valid Dataset\")\n",
    "    ax[1].set_ylim([-6,6])\n",
    "    ax[1].set_ylabel(\"Difference\")\n",
    "    ax[1].set_xlabel(\"Phase (Feature)\")\n",
    "\n",
    "    fig.tight_layout()"
   ]
  },
  {
   "cell_type": "code",
   "execution_count": null,
   "id": "a1a3d8e1",
   "metadata": {},
   "outputs": [],
   "source": [
    "plt.close(\"all\")\n",
    "plot_violin(train_results, valid_results)"
   ]
  },
  {
   "cell_type": "code",
   "execution_count": null,
   "id": "2ced7593",
   "metadata": {},
   "outputs": [],
   "source": [
    " def plot_scatter(train_results, valid_results):\n",
    "    fig, ax = plt.subplots(1, 2, figsize = (9,3))\n",
    "\n",
    "    ax[0].scatter(train_results['truth_phase'], train_results['pred_phase'])\n",
    "    ax[0].set_title(\"Train Dataset\")\n",
    "    ax[0].set_xlabel(\"Truth Phases\")\n",
    "    ax[0].set_ylabel(\"Pred Phases\")\n",
    "\n",
    "    ax[1].scatter(valid_results['truth_phase'], valid_results['pred_phase'])\n",
    "    ax[1].set_title(\"Valid Dataset\")\n",
    "    ax[1].set_xlabel(\"Truth Phases\")\n",
    "    ax[1].set_ylabel(\"Pred Phases\")\n",
    "\n",
    "    fig.tight_layout()"
   ]
  },
  {
   "cell_type": "code",
   "execution_count": null,
   "id": "ab797d99",
   "metadata": {},
   "outputs": [],
   "source": [
    " plt.close(\"all\")\n",
    "#plt.scatter(truth_phase_array, pred_phase_array);\n",
    "plot_scatter(train_results, valid_results)"
   ]
  },
  {
   "cell_type": "code",
   "execution_count": null,
   "id": "4b1dcd41",
   "metadata": {},
   "outputs": [],
   "source": [
    "def plot_regs():\n",
    "    "
   ]
  },
  {
   "cell_type": "markdown",
   "id": "94d37a9c",
   "metadata": {},
   "source": [
    "### launch resims"
   ]
  },
  {
   "cell_type": "markdown",
   "id": "f60d8c03",
   "metadata": {},
   "source": [
    "#### num_resims = 5\n",
    "\n",
    "### start a container ####\n",
    "\n",
    "sys.path.append(os.path.abspath(\"/develop/code/cai_2023/resim\"))\n",
    "!sudo docker run -d --gpus all --ipc host -it -v /home/agkgd4/Documents/code:/develop/code -v /home/agkgd4/Documents/data:/develop/data -v /home/agkgd4/Documents/results:/develop/results cai\n",
    "\n",
    "\n",
    "#launch(train_results)\n",
    "#launch(valid_results)"
   ]
  },
  {
   "cell_type": "code",
   "execution_count": null,
   "id": "080f081b",
   "metadata": {},
   "outputs": [],
   "source": []
  }
 ],
 "metadata": {
  "kernelspec": {
   "display_name": "Python 3 (ipykernel)",
   "language": "python",
   "name": "python3"
  },
  "language_info": {
   "codemirror_mode": {
    "name": "ipython",
    "version": 3
   },
   "file_extension": ".py",
   "mimetype": "text/x-python",
   "name": "python",
   "nbconvert_exporter": "python",
   "pygments_lexer": "ipython3",
   "version": "3.10.10"
  }
 },
 "nbformat": 4,
 "nbformat_minor": 5
}
