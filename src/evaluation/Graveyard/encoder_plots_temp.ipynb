{
 "cells": [
  {
   "cell_type": "code",
   "execution_count": 1,
   "id": "93cbafb3-2f10-455d-9699-3001b7226de5",
   "metadata": {},
   "outputs": [],
   "source": [
    "import numpy as np\n",
    "import pickle\n",
    "import os\n",
    "import matplotlib.pyplot as plt"
   ]
  },
  {
   "cell_type": "code",
   "execution_count": 2,
   "id": "75d7b194-dd20-4b42-9433-acc8d892d832",
   "metadata": {},
   "outputs": [
    {
     "name": "stdout",
     "output_type": "stream",
     "text": [
      "964\n",
      "241\n",
      "dict_keys(['gamma', 'backbone', 'learning_rate', 'valid_truth_phase', 'valid_pred_phase', 'train_truth_phase', 'train_pred_phase', 'title'])\n"
     ]
    }
   ],
   "source": [
    "path_results = \"/develop/results/results/results_05_23_model_encoderTraining\"\n",
    "filename = 'sanity_check.pkl'\n",
    "\n",
    "enc_only = pickle.load(open(os.path.join(path_results,filename),\"rb\"))\n",
    "enc_only = sorted(enc_only, key=lambda x: x['learning_rate'])\n",
    "\n",
    "#     print(result['title'], result['learning_rate'])\n",
    "print(len(enc_only[0]['train_truth_phase']))\n",
    "print(len(enc_only[0]['valid_truth_phase']))\n",
    "print(enc_only[0].keys())"
   ]
  },
  {
   "cell_type": "code",
   "execution_count": 8,
   "id": "c2b5eb14-329e-4294-ab6f-e19e692d2c6b",
   "metadata": {},
   "outputs": [
    {
     "name": "stdout",
     "output_type": "stream",
     "text": [
      "2.673609\n",
      "-4.8549767\n"
     ]
    }
   ],
   "source": [
    "print(enc_only[0]['valid_truth_phase'].max())\n",
    "print(enc_only[0]['valid_truth_phase'].min())"
   ]
  },
  {
   "cell_type": "code",
   "execution_count": null,
   "id": "b2b904b1-ab06-404b-85f5-23df1bf745c3",
   "metadata": {},
   "outputs": [],
   "source": [
    "gamma, backbone, learning_rate, valid_truth_phase, valid_pred_phase, train_truth_phase, train_pred_phase, title = [], [], [], [], [], [], [], []\n",
    "\n",
    "for item in enc_only:\n",
    "    gamma.append(item['gamma'])\n",
    "    backbone.append(item['backbone'])\n",
    "    learning_rate.append(item['learning_rate'])\n",
    "    valid_truth_phase.append(item['valid_truth_phase'])\n",
    "    valid_pred_phase.append(item['valid_pred_phase'])\n",
    "    train_truth_phase.append(item['train_truth_phase'])\n",
    "    train_pred_phase.append(item['train_pred_phase'])\n",
    "    title.append(item['title'])"
   ]
  },
  {
   "cell_type": "code",
   "execution_count": null,
   "id": "eb2a9b2f-2bee-41f4-8f37-1dfa8095e4a1",
   "metadata": {},
   "outputs": [],
   "source": [
    "gamma = np.asarray(gamma)\n",
    "backbone = np.asarray(backbone)\n",
    "learning_rate = np.asarray(learning_rate)\n",
    "valid_truth_phase = np.asarray(valid_truth_phase)\n",
    "valid_pred_phase = np.asarray(valid_pred_phase)\n",
    "train_truth_phase = np.asarray(train_truth_phase)\n",
    "train_pred_phase = np.asarray(train_pred_phase)\n",
    "title = np.asarray(title)\n",
    "\n",
    "len(gamma)\n",
    "backbone"
   ]
  },
  {
   "cell_type": "code",
   "execution_count": null,
   "id": "74ab6f93-c007-4e35-b3c5-d64d371a73c5",
   "metadata": {
    "scrolled": true
   },
   "outputs": [],
   "source": [
    "def idk(truth_phase, pred_phase):\n",
    "    new_truth_data, new_pred_data = [], []\n",
    "    for(d1,d2) in zip(truth_phase, pred_phase):\n",
    "        # if((d1 > 2.8).any() or (d1 < -2.8).any()):\n",
    "            # idx1, = np.where(d1>2.8)\n",
    "            # idx2, = np.where(d1<-2.8)\n",
    "            # indices = np.concatenate((idx1,idx2))\n",
    "            # d1 = np.delete(d1,indices)\n",
    "            # d2 = np.delete(d2,indices)\n",
    "        new_truth_data.append(d1)\n",
    "        new_pred_data.append(d2)\n",
    "    return new_truth_data, new_pred_data\n",
    "            \n",
    "valid_truth, valid_preds = [], []\n",
    "\n",
    "for i, j in zip(valid_truth_phase, valid_pred_phase):\n",
    "    temp1, temp2 = idk(i, j)\n",
    "    valid_truth.append(temp1)\n",
    "    valid_preds.append(temp2)"
   ]
  },
  {
   "cell_type": "code",
   "execution_count": null,
   "id": "529fadab-f920-4dd2-91fa-085cdd05da81",
   "metadata": {},
   "outputs": [],
   "source": [
    "train_truth, train_preds = [], []\n",
    "for i, j in zip(train_truth_phase, train_pred_phase):\n",
    "    temp1, temp2 = idk(i, j)\n",
    "    train_truth.append(temp1)\n",
    "    train_preds.append(temp2)"
   ]
  },
  {
   "cell_type": "code",
   "execution_count": null,
   "id": "b896ee02-c5ef-4440-9862-9dbd4485505c",
   "metadata": {},
   "outputs": [],
   "source": [
    "def plot_scatter(train_truth, train_pred, valid_truth, valid_pred, title):\n",
    "    train_truth = np.concatenate(train_truth)\n",
    "    valid_truth = np.concatenate(valid_truth)\n",
    "    train_pred = np.concatenate(train_pred)\n",
    "    valid_pred = np.concatenate(valid_pred)\n",
    "    \n",
    "    fig, ax = plt.subplots(1, 2, figsize = (9,3))\n",
    "    fig.suptitle(title)\n",
    "\n",
    "    ax[0].scatter(train_truth, train_pred)\n",
    "    ax[0].set_title(\"Train Dataset\")\n",
    "    ax[0].set_xlabel(\"Truth Phases\")\n",
    "    ax[0].set_ylabel(\"Pred Phases\")\n",
    "\n",
    "    ax[1].scatter(valid_truth, valid_pred)\n",
    "    ax[1].set_title(\"Valid Dataset\")\n",
    "    ax[1].set_xlabel(\"Truth Phases\")\n",
    "    ax[1].set_ylabel(\"Pred Phases\")\n",
    "\n",
    "    fig.tight_layout()\n",
    "    # fig.save_fig(title)\n",
    "\n",
    "\n",
    "for (g, t, b, lr, tt, tp, vt, vp) in zip(gamma, title, backbone, learning_rate, train_truth, train_preds, valid_truth, valid_preds):\n",
    "    plot_scatter(tt, tp, vt, vp, \"lr \" + str(lr) + \" backbone: \" + str(b))\n",
    "    "
   ]
  },
  {
   "cell_type": "code",
   "execution_count": null,
   "id": "69c830bf-f1e4-4cda-b6e5-7c5c5badd195",
   "metadata": {},
   "outputs": [],
   "source": []
  },
  {
   "cell_type": "code",
   "execution_count": null,
   "id": "bdfb90a6-03c0-4d84-b5e3-36a958f3e9e3",
   "metadata": {},
   "outputs": [],
   "source": []
  },
  {
   "cell_type": "code",
   "execution_count": null,
   "id": "2910afd2-caf2-41b6-b780-1c4c065caa7a",
   "metadata": {},
   "outputs": [],
   "source": [
    "filename = 'enc_only_fixedData.pkl'\n",
    "data = pickle.load(open(os.path.join(path_results,filename),\"rb\"))\n",
    "data = sorted(data, key=lambda x: x['learning_rate'])"
   ]
  },
  {
   "cell_type": "code",
   "execution_count": null,
   "id": "3df9eb4b-791d-4a8e-b613-7f950cfbebf5",
   "metadata": {},
   "outputs": [],
   "source": [
    "def plot_scatter(train_truth, train_pred, valid_truth, valid_pred, title):\n",
    "    fig, ax = plt.subplots(1, 2, figsize = (9,3))\n",
    "    fig.suptitle(title)\n",
    "\n",
    "    ax[0].scatter(train_truth, train_pred)\n",
    "    ax[0].set_title(\"Train Dataset\")\n",
    "    ax[0].set_xlabel(\"Truth Phases\")\n",
    "    ax[0].set_ylabel(\"Pred Phases\")\n",
    "\n",
    "    ax[1].scatter(valid_truth, valid_pred)\n",
    "    ax[1].set_title(\"Valid Dataset\")\n",
    "    ax[1].set_xlabel(\"Truth Phases\")\n",
    "    ax[1].set_ylabel(\"Pred Phases\")\n",
    "\n",
    "    fig.tight_layout()\n",
    "    # fig.save_fig(title)\n",
    "\n",
    "# \n",
    "for result in data:\n",
    "    if result['backbone'] == \"resnet18\":\n",
    "        plot_scatter(result['train_truth_phase'], result['train_pred_phase'], result['valid_truth_phase'], result['valid_pred_phase'], result['backbone'] + \", lr=\" + str(result['learning_rate']))"
   ]
  },
  {
   "cell_type": "code",
   "execution_count": null,
   "id": "1fbd791d-8380-4139-ba25-72ebc3a073c4",
   "metadata": {},
   "outputs": [],
   "source": [
    "plt.close(\"all\")\n",
    "\n",
    "for result in data:\n",
    "    if result['backbone'] == \"resnet34\":\n",
    "        plot_scatter(result['train_truth_phase'], result['train_pred_phase'], result['valid_truth_phase'], result['valid_pred_phase'], result['backbone'] + \", lr=\" + str(result['learning_rate']))"
   ]
  },
  {
   "cell_type": "code",
   "execution_count": null,
   "id": "669e364c-fd78-4aa7-a14b-1ac7f0936c9c",
   "metadata": {},
   "outputs": [],
   "source": [
    "plt.close(\"all\")\n",
    "\n",
    "for result in data:\n",
    "    if result['backbone'] == \"resnet50\":\n",
    "        plot_scatter(result['train_truth_phase'], result['train_pred_phase'], result['valid_truth_phase'], result['valid_pred_phase'], result['backbone'] + \", lr=\" + str(result['learning_rate']))"
   ]
  },
  {
   "cell_type": "code",
   "execution_count": null,
   "id": "df8d2da0-420e-49e5-b9f5-4029d32b1c44",
   "metadata": {},
   "outputs": [],
   "source": []
  }
 ],
 "metadata": {
  "kernelspec": {
   "display_name": "Python 3 (ipykernel)",
   "language": "python",
   "name": "python3"
  },
  "language_info": {
   "codemirror_mode": {
    "name": "ipython",
    "version": 3
   },
   "file_extension": ".py",
   "mimetype": "text/x-python",
   "name": "python",
   "nbconvert_exporter": "python",
   "pygments_lexer": "ipython3",
   "version": "3.10.10"
  }
 },
 "nbformat": 4,
 "nbformat_minor": 5
}
