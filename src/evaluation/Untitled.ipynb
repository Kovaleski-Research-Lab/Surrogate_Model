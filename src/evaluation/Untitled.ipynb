{
 "cells": [
  {
   "cell_type": "code",
   "execution_count": 3,
   "id": "a5a778e9-2a21-47b7-9168-e46ba8377882",
   "metadata": {},
   "outputs": [],
   "source": [
    "import pickle\n",
    "import os"
   ]
  },
  {
   "cell_type": "code",
   "execution_count": 7,
   "id": "f42911ae-ab90-4ecc-a12a-a5201e103c8c",
   "metadata": {},
   "outputs": [],
   "source": [
    "folder_name = \"model_fullTrain\"\n",
    "target = \"valid\"\n",
    "#idx = 0\n",
    "path_resims = \"/develop/resims/resim_outputs\""
   ]
  },
  {
   "cell_type": "code",
   "execution_count": 8,
   "id": "a80999c9-e585-4492-a911-8a7b15798940",
   "metadata": {},
   "outputs": [
    {
     "name": "stdout",
     "output_type": "stream",
     "text": [
      "model_fullTrain_valid_0.pkl\n",
      "model_fullTrain_valid_1.pkl\n",
      "model_fullTrain_valid_2.pkl\n",
      "model_fullTrain_valid_3.pkl\n",
      "model_fullTrain_valid_4.pkl\n",
      "model_fullTrain_valid_5.pkl\n",
      "model_fullTrain_valid_6.pkl\n",
      "model_fullTrain_valid_7.pkl\n"
     ]
    }
   ],
   "source": [
    "for folder in os.listdir(path_resims):\n",
    "    if folder_name in folder:\n",
    "        if target in folder:\n",
    "            print(folder)\n",
    "            if os.path.isdir(path_resims):\n",
    "                pass"
   ]
  },
  {
   "cell_type": "markdown",
   "id": "8e2c6ada-8fed-454a-9cd9-9d1d43fafdf0",
   "metadata": {},
   "source": [
    "## what is the font?"
   ]
  },
  {
   "cell_type": "code",
   "execution_count": null,
   "id": "264b4497-22f6-43b6-935a-b0d4221b80e0",
   "metadata": {},
   "outputs": [],
   "source": []
  }
 ],
 "metadata": {
  "kernelspec": {
   "display_name": "Python 3 (ipykernel)",
   "language": "python",
   "name": "python3"
  },
  "language_info": {
   "codemirror_mode": {
    "name": "ipython",
    "version": 3
   },
   "file_extension": ".py",
   "mimetype": "text/x-python",
   "name": "python",
   "nbconvert_exporter": "python",
   "pygments_lexer": "ipython3",
   "version": "3.10.10"
  }
 },
 "nbformat": 4,
 "nbformat_minor": 5
}
