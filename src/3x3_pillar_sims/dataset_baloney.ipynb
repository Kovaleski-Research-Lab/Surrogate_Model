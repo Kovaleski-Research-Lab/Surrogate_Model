{
 "cells": [
  {
   "cell_type": "markdown",
   "id": "5bc124b9-1e8b-42af-a700-0418aaf24c92",
   "metadata": {},
   "source": [
    "#### just figuring out what our missing data samples are in case more data needs to be generated. will need to import this list to datagen script and do some rewriting if we want to make use of this"
   ]
  },
  {
   "cell_type": "code",
   "execution_count": 1,
   "id": "18afcc88-f11a-4f7d-8d14-86abeb3e4424",
   "metadata": {},
   "outputs": [],
   "source": [
    "import os\n",
    "import sys\n",
    "import matplotlib.pyplot as plt\n",
    "import numpy as np"
   ]
  },
  {
   "cell_type": "code",
   "execution_count": 2,
   "id": "a0ee12a1-594f-40ef-9d83-8a22b31b3796",
   "metadata": {},
   "outputs": [],
   "source": [
    "data_path = \"/develop/data/spie_journal_2023/kube_dataset/preprocessed\""
   ]
  },
  {
   "cell_type": "code",
   "execution_count": 3,
   "id": "34f6cf1c-dc97-4ead-9214-d5c98c522326",
   "metadata": {},
   "outputs": [],
   "source": [
    "files = []\n",
    "with os.scandir(data_path) as entries:\n",
    "    for entry in entries:   \n",
    "        if \".pkl\" in entry.name:\n",
    "            files.append(int(entry.name.split('.')[0]))"
   ]
  },
  {
   "cell_type": "code",
   "execution_count": 4,
   "id": "54f8343b-a5d3-43fa-bed9-4432263ff789",
   "metadata": {},
   "outputs": [],
   "source": [
    "files.sort()"
   ]
  },
  {
   "cell_type": "code",
   "execution_count": 5,
   "id": "d0e51652-1808-404f-9c16-931ef744449d",
   "metadata": {},
   "outputs": [],
   "source": [
    "missing = [num for num in range(0,5000) if num not in files]"
   ]
  },
  {
   "cell_type": "code",
   "execution_count": 6,
   "id": "2dc0a5fe-e410-458f-b07e-63ee53506065",
   "metadata": {},
   "outputs": [],
   "source": [
    "# fig, ax = plt.subplots(figsize = (2,40))\n",
    "# ax.scatter(np.zeros(len(files)), files, marker='.', s=0.2, label = \"present\")\n",
    "# ax.scatter(np.ones(len(missing))*0.25, missing, marker='.', s=0.2, label = \"missing\")\n",
    "# ax.set_xlim([-0.1,0.8])\n",
    "# ax.legend()"
   ]
  },
  {
   "cell_type": "code",
   "execution_count": 7,
   "id": "f77b9691-e368-43d9-a649-740031a6a0f7",
   "metadata": {},
   "outputs": [
    {
     "data": {
      "text/plain": [
       "3083"
      ]
     },
     "execution_count": 7,
     "metadata": {},
     "output_type": "execute_result"
    }
   ],
   "source": [
    "len(files) # was 2215. should go up to ~3000"
   ]
  },
  {
   "cell_type": "code",
   "execution_count": 8,
   "id": "dfd9d7a9-83ff-4bf9-ad2b-c5039d9625bc",
   "metadata": {},
   "outputs": [
    {
     "data": {
      "text/plain": [
       "1917"
      ]
     },
     "execution_count": 8,
     "metadata": {},
     "output_type": "execute_result"
    }
   ],
   "source": [
    "len(missing) # was 2785. should do gown to ~2000"
   ]
  },
  {
   "cell_type": "code",
   "execution_count": 9,
   "id": "4440d221-c3a2-4a10-871b-d6da0594dd64",
   "metadata": {},
   "outputs": [
    {
     "data": {
      "text/plain": [
       "5000"
      ]
     },
     "execution_count": 9,
     "metadata": {},
     "output_type": "execute_result"
    }
   ],
   "source": [
    "len(files) + len(missing) # 5000. should stay the same!"
   ]
  },
  {
   "cell_type": "code",
   "execution_count": 10,
   "id": "4dd633ce-5e52-4d6b-b293-e30dd9565205",
   "metadata": {},
   "outputs": [
    {
     "data": {
      "text/plain": [
       "54"
      ]
     },
     "execution_count": 10,
     "metadata": {},
     "output_type": "execute_result"
    }
   ],
   "source": [
    "min(missing)"
   ]
  },
  {
   "cell_type": "code",
   "execution_count": 11,
   "id": "645ce94a-9814-4ef2-bf71-6db485d50c29",
   "metadata": {},
   "outputs": [
    {
     "data": {
      "text/plain": [
       "4745"
      ]
     },
     "execution_count": 11,
     "metadata": {},
     "output_type": "execute_result"
    }
   ],
   "source": [
    "max(missing)"
   ]
  },
  {
   "cell_type": "code",
   "execution_count": null,
   "id": "de4afd83-3518-40d7-9c0f-97b4f23d9e82",
   "metadata": {},
   "outputs": [],
   "source": []
  }
 ],
 "metadata": {
  "kernelspec": {
   "display_name": "Python 3 (ipykernel)",
   "language": "python",
   "name": "python3"
  },
  "language_info": {
   "codemirror_mode": {
    "name": "ipython",
    "version": 3
   },
   "file_extension": ".py",
   "mimetype": "text/x-python",
   "name": "python",
   "nbconvert_exporter": "python",
   "pygments_lexer": "ipython3",
   "version": "3.10.12"
  }
 },
 "nbformat": 4,
 "nbformat_minor": 5
}
