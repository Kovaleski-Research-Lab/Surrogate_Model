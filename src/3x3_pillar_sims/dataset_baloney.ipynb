{
 "cells": [
  {
   "cell_type": "markdown",
   "id": "5bc124b9-1e8b-42af-a700-0418aaf24c92",
   "metadata": {},
   "source": [
    "#### just figuring out what our missing data samples are in case more data needs to be generated. will need to import this list to datagen script and do some rewriting if we want to make use of this"
   ]
  },
  {
   "cell_type": "code",
   "execution_count": 1,
   "id": "18afcc88-f11a-4f7d-8d14-86abeb3e4424",
   "metadata": {},
   "outputs": [],
   "source": [
    "import os\n",
    "import sys\n",
    "import matplotlib.pyplot as plt\n",
    "import numpy as np"
   ]
  },
  {
   "cell_type": "code",
   "execution_count": 2,
   "id": "a0ee12a1-594f-40ef-9d83-8a22b31b3796",
   "metadata": {},
   "outputs": [],
   "source": [
    "data_path = \"/develop/data/spie_journal_2023/kube_dataset/preprocessed\""
   ]
  },
  {
   "cell_type": "code",
   "execution_count": 3,
   "id": "34f6cf1c-dc97-4ead-9214-d5c98c522326",
   "metadata": {},
   "outputs": [],
   "source": [
    "files = []\n",
    "with os.scandir(data_path) as entries:\n",
    "    for entry in entries:   \n",
    "        if \".pkl\" in entry.name:\n",
    "            files.append(int(entry.name.split('.')[0]))"
   ]
  },
  {
   "cell_type": "code",
   "execution_count": 4,
   "id": "54f8343b-a5d3-43fa-bed9-4432263ff789",
   "metadata": {},
   "outputs": [],
   "source": [
    "files.sort()"
   ]
  },
  {
   "cell_type": "code",
   "execution_count": 5,
   "id": "d0e51652-1808-404f-9c16-931ef744449d",
   "metadata": {},
   "outputs": [],
   "source": [
    "missing = [num for num in range(0,5000) if num not in files]"
   ]
  },
  {
   "cell_type": "code",
   "execution_count": 7,
   "id": "2dc0a5fe-e410-458f-b07e-63ee53506065",
   "metadata": {},
   "outputs": [],
   "source": [
    "# fig, ax = plt.subplots(figsize = (2,40))\n",
    "# ax.scatter(np.zeros(len(files)), files, marker='.', s=0.2, label = \"present\")\n",
    "# ax.scatter(np.ones(len(missing))*0.25, missing, marker='.', s=0.2, label = \"missing\")\n",
    "# ax.set_xlim([-0.1,0.8])\n",
    "# ax.legend()"
   ]
  },
  {
   "cell_type": "code",
   "execution_count": 8,
   "id": "f77b9691-e368-43d9-a649-740031a6a0f7",
   "metadata": {},
   "outputs": [
    {
     "data": {
      "text/plain": [
       "2215"
      ]
     },
     "execution_count": 8,
     "metadata": {},
     "output_type": "execute_result"
    }
   ],
   "source": [
    "len(files)"
   ]
  },
  {
   "cell_type": "code",
   "execution_count": 9,
   "id": "dfd9d7a9-83ff-4bf9-ad2b-c5039d9625bc",
   "metadata": {},
   "outputs": [
    {
     "data": {
      "text/plain": [
       "2785"
      ]
     },
     "execution_count": 9,
     "metadata": {},
     "output_type": "execute_result"
    }
   ],
   "source": [
    "len(missing)"
   ]
  },
  {
   "cell_type": "code",
   "execution_count": 10,
   "id": "4440d221-c3a2-4a10-871b-d6da0594dd64",
   "metadata": {},
   "outputs": [
    {
     "data": {
      "text/plain": [
       "5000"
      ]
     },
     "execution_count": 10,
     "metadata": {},
     "output_type": "execute_result"
    }
   ],
   "source": [
    "len(files) + len(missing)"
   ]
  },
  {
   "cell_type": "code",
   "execution_count": 11,
   "id": "4dd633ce-5e52-4d6b-b293-e30dd9565205",
   "metadata": {},
   "outputs": [
    {
     "data": {
      "text/plain": [
       "8"
      ]
     },
     "execution_count": 11,
     "metadata": {},
     "output_type": "execute_result"
    }
   ],
   "source": [
    "min(missing)"
   ]
  },
  {
   "cell_type": "code",
   "execution_count": 12,
   "id": "645ce94a-9814-4ef2-bf71-6db485d50c29",
   "metadata": {},
   "outputs": [
    {
     "data": {
      "text/plain": [
       "4958"
      ]
     },
     "execution_count": 12,
     "metadata": {},
     "output_type": "execute_result"
    }
   ],
   "source": [
    "max(missing)"
   ]
  },
  {
   "cell_type": "code",
   "execution_count": 15,
   "id": "c139b06b-eff7-4d3a-a59f-e98ce38f23a1",
   "metadata": {},
   "outputs": [
    {
     "name": "stdout",
     "output_type": "stream",
     "text": [
      "[0, 1, 2, 3, 4, 5, 6, 7, 12, 13, 14, 15, 16, 17, 20, 21, 22, 23, 24, 25, 27, 28, 29, 30, 32, 33, 35, 36, 37, 38, 39, 40, 42, 43, 44, 45, 47, 48, 49, 50, 51, 52, 53, 55, 56, 57, 58, 59, 60, 61]\n"
     ]
    }
   ],
   "source": [
    "print(files[:50])"
   ]
  },
  {
   "cell_type": "code",
   "execution_count": 16,
   "id": "3ffe9acf-4462-4005-88ed-32a19667871b",
   "metadata": {},
   "outputs": [],
   "source": [
    "# num_sims = 4959\n",
    "# num_parallel_ops = 443\n",
    "counter = 8\n",
    "\n",
    "num_sims = 50\n",
    "num_parallel_ops = 5"
   ]
  },
  {
   "cell_type": "code",
   "execution_count": null,
   "id": "34a5c414-f14d-435a-b15a-ea11cad7c042",
   "metadata": {
    "scrolled": true
   },
   "outputs": [],
   "source": [
    "current_group = []\n",
    "while(counter < num_sims):\n",
    "    if(len(current_group) < num_parallel_ops):\n",
    "        if counter not in files:\n",
    "            num_to_launch = num_parallel_ops - len(current_group)\n",
    "            for i in range(counter, counter + num_to_launch):\n",
    "                print(counter)\n",
    "    counter += 1"
   ]
  },
  {
   "cell_type": "code",
   "execution_count": 17,
   "id": "ca10f5ad-8749-425f-84f4-d9eee541f0c7",
   "metadata": {},
   "outputs": [
    {
     "name": "stdout",
     "output_type": "stream",
     "text": [
      "8\n",
      "9\n",
      "10\n",
      "11\n",
      "18\n",
      "19\n",
      "26\n",
      "31\n",
      "34\n",
      "41\n",
      "46\n"
     ]
    }
   ],
   "source": [
    "counter = 8\n",
    "\n",
    "num_sims = 50\n",
    "num_parallel_ops = 5\n",
    "\n",
    "current_group = [] \n",
    "\n",
    "while(counter < num_sims):\n",
    "\n",
    "    # -- Launch jobs if there is room in processing group\n",
    "\n",
    "    if(len(current_group) < num_parallel_ops):\n",
    "\n",
    "        num_to_launch = num_parallel_ops - len(current_group)\n",
    "\n",
    "        for i in range(counter, counter + num_to_launch):\n",
    "\n",
    "            # --- Configure simulation job\n",
    "\n",
    "            #job_name = \"%s-%s\" % (params[\"kill_tag\"], str(counter).zfill(6))\n",
    "            if counter not in files:\n",
    "                print(counter)\n",
    "            counter += 1"
   ]
  },
  {
   "cell_type": "code",
   "execution_count": null,
   "id": "6adbf41c-19fb-47c4-b471-5de2084fa6e1",
   "metadata": {},
   "outputs": [],
   "source": []
  }
 ],
 "metadata": {
  "kernelspec": {
   "display_name": "Python 3 (ipykernel)",
   "language": "python",
   "name": "python3"
  },
  "language_info": {
   "codemirror_mode": {
    "name": "ipython",
    "version": 3
   },
   "file_extension": ".py",
   "mimetype": "text/x-python",
   "name": "python",
   "nbconvert_exporter": "python",
   "pygments_lexer": "ipython3",
   "version": "3.10.12"
  }
 },
 "nbformat": 4,
 "nbformat_minor": 5
}
