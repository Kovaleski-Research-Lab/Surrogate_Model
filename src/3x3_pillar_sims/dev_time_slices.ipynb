{
 "cells": [
  {
   "cell_type": "code",
   "execution_count": 1,
   "id": "2e4fa383-cc7a-4c46-a85e-c29ee877f98b",
   "metadata": {},
   "outputs": [
    {
     "name": "stdout",
     "output_type": "stream",
     "text": [
      "Using MPI version 4.0, 1 processes\n"
     ]
    }
   ],
   "source": [
    "import meep as mp\n",
    "import numpy as np\n",
    "import _3x3Pillars\n",
    "import sys\n",
    "import yaml\n",
    "import time\n",
    "\n",
    "sys.path.append(\"../\")\n",
    "from utils import parameter_manager"
   ]
  },
  {
   "cell_type": "code",
   "execution_count": 2,
   "id": "67795024-7172-42f8-abe6-179e4ee73208",
   "metadata": {},
   "outputs": [],
   "source": [
    "params = yaml.load(open('../config.yaml'), Loader=yaml.FullLoader).copy()\n",
    "pm = parameter_manager.ParameterManager(params=params)\n",
    "\n",
    "radii_list = [0.1625, 0.16, 0.2, 0.18, 0.155, 0.162, 0.16, 0.18, 0.1] "
   ]
  },
  {
   "cell_type": "code",
   "execution_count": 3,
   "id": "7c701b7c-40e5-4de6-a077-3c9bcc608e6b",
   "metadata": {},
   "outputs": [],
   "source": [
    "a = pm.lattice_size\n",
    "model = _3x3Pillars._3x3PillarSim()"
   ]
  },
  {
   "cell_type": "code",
   "execution_count": 4,
   "id": "b54932e0-9468-4932-acfd-d0781dc3aa5e",
   "metadata": {},
   "outputs": [],
   "source": [
    "model.build_geometry(pm.geometry_params)"
   ]
  },
  {
   "cell_type": "code",
   "execution_count": 5,
   "id": "bb600132-8cf6-4e31-8e51-19e27e62bfc6",
   "metadata": {},
   "outputs": [],
   "source": [
    "pm.geometry = [model.fusedSilica_block, model.PDMS_block]"
   ]
  },
  {
   "cell_type": "code",
   "execution_count": 6,
   "id": "29c7703d-9b0c-4f0e-846a-6b982be686a7",
   "metadata": {},
   "outputs": [
    {
     "name": "stdout",
     "output_type": "stream",
     "text": [
      "building source\n",
      "building sim\n"
     ]
    }
   ],
   "source": [
    "x_list = [-a, 0, a, -a, 0, a, -a, 0, a]\n",
    "y_list = [a, a, a, 0, 0, 0, -a, -a, -a] \n",
    "for i, neighbor in enumerate(radii_list):\n",
    "    pm.radius = neighbor\n",
    "    pm.x_dim = x_list[i]\n",
    "    pm.y_dim = y_list[i]\n",
    "    model.build_geometry(pm.geometry_params)\n",
    "    pm.geometry.append(model.pillar)\n",
    "# Build Source object #\n",
    "model.build_source(pm.source_params)\n",
    "\n",
    "pm.source = model.source\n",
    "model.build_sim(pm.sim_params)\n",
    "\n",
    "model.build_dft_mon(pm.dft_params)  "
   ]
  },
  {
   "cell_type": "code",
   "execution_count": 7,
   "id": "18f57096-a2d4-4a7f-bc99-3215736ef004",
   "metadata": {},
   "outputs": [
    {
     "data": {
      "text/plain": [
       "80"
      ]
     },
     "execution_count": 7,
     "metadata": {},
     "output_type": "execute_result"
    }
   ],
   "source": [
    "pm.resolution"
   ]
  },
  {
   "cell_type": "code",
   "execution_count": null,
   "id": "f81067b4-591f-44ce-bb7a-5ea98726a768",
   "metadata": {},
   "outputs": [],
   "source": [
    "start_time = time.time()\n",
    "model.run_sim(pm.sim_params, )\n",
    "elapsed_time = time.time() - start_time\n",
    "elapsed_time = round(elapsed_time / 60,2)\n",
    "\n",
    "model.collect_field_info()"
   ]
  },
  {
   "cell_type": "code",
   "execution_count": null,
   "id": "99eb41ae-c84d-4699-9bae-a2bbf1323144",
   "metadata": {},
   "outputs": [],
   "source": []
  }
 ],
 "metadata": {
  "kernelspec": {
   "display_name": "Python 3 (ipykernel)",
   "language": "python",
   "name": "python3"
  },
  "language_info": {
   "codemirror_mode": {
    "name": "ipython",
    "version": 3
   },
   "file_extension": ".py",
   "mimetype": "text/x-python",
   "name": "python",
   "nbconvert_exporter": "python",
   "pygments_lexer": "ipython3",
   "version": "3.10.12"
  }
 },
 "nbformat": 4,
 "nbformat_minor": 5
}
