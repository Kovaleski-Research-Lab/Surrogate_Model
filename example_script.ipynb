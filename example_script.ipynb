{
 "cells": [
  {
   "cell_type": "code",
   "execution_count": 7,
   "id": "53fdec3b-8798-47a1-a58d-64c14e730401",
   "metadata": {},
   "outputs": [],
   "source": [
    "import pickle\n",
    "import numpy as np\n",
    "import os\n",
    "import sys"
   ]
  },
  {
   "cell_type": "code",
   "execution_count": 9,
   "id": "b0307e50-a790-483f-aeb1-afc19b849d11",
   "metadata": {},
   "outputs": [],
   "source": [
    "path = \"/develop/data\""
   ]
  },
  {
   "cell_type": "code",
   "execution_count": 19,
   "id": "7cd075c1-a58f-4440-a709-6d34eabde13e",
   "metadata": {},
   "outputs": [],
   "source": [
    "directory = os.path.join(path, \"spie_journal_2023/data_subset\")\n",
    "samples = [file for file in os.listdir(directory) if file.endswith('.pkl')]\n",
    "\n",
    "loaded_data = []\n",
    "for sample in samples:\n",
    "    file_path = os.path.join(directory, sample)\n",
    "    with open(file_path, 'rb') as f:\n",
    "        data = pickle.load(f)\n",
    "        loaded_data.append(data)"
   ]
  },
  {
   "cell_type": "code",
   "execution_count": 20,
   "id": "9553366c-0a9d-462c-8dbe-4682087fad27",
   "metadata": {},
   "outputs": [
    {
     "data": {
      "text/plain": [
       "40"
      ]
     },
     "execution_count": 20,
     "metadata": {},
     "output_type": "execute_result"
    }
   ],
   "source": [
    "len(loaded_data)"
   ]
  },
  {
   "cell_type": "code",
   "execution_count": 22,
   "id": "7771d907-d8cd-4c2d-9434-ed7d3a56a0f1",
   "metadata": {},
   "outputs": [
    {
     "data": {
      "text/plain": [
       "dict_keys(['volume', 'near_fields', 'E_slice', 'location', 'radii'])"
      ]
     },
     "execution_count": 22,
     "metadata": {},
     "output_type": "execute_result"
    }
   ],
   "source": [
    "loaded_data[0].keys()"
   ]
  },
  {
   "cell_type": "code",
   "execution_count": 23,
   "id": "1e59d85b-1118-4cef-98c6-0bde0500ea0e",
   "metadata": {},
   "outputs": [
    {
     "data": {
      "text/plain": [
       "dict_keys(['grating_ex', 'grating_ey', 'grating_ez'])"
      ]
     },
     "execution_count": 23,
     "metadata": {},
     "output_type": "execute_result"
    }
   ],
   "source": [
    "loaded_data[0]['near_fields'].keys()"
   ]
  },
  {
   "cell_type": "code",
   "execution_count": 24,
   "id": "d590b3ad-aa47-4bf7-97f3-a8759ded087d",
   "metadata": {},
   "outputs": [
    {
     "name": "stdout",
     "output_type": "stream",
     "text": [
      "[0.20675, 0.10115, 0.21983, 0.15345, 0.15244, 0.13132, 0.20172, 0.19468, 0.11422]\n"
     ]
    }
   ],
   "source": [
    "print(loaded_data[0]['radii'])"
   ]
  },
  {
   "cell_type": "code",
   "execution_count": 25,
   "id": "19a6eed7-904e-482b-8a79-06bcebf5460b",
   "metadata": {},
   "outputs": [
    {
     "data": {
      "text/plain": [
       "(176, 176)"
      ]
     },
     "execution_count": 25,
     "metadata": {},
     "output_type": "execute_result"
    }
   ],
   "source": [
    "loaded_data[0]['near_fields']['grating_ey'].shape"
   ]
  },
  {
   "cell_type": "code",
   "execution_count": null,
   "id": "d522fc83-275f-4d9e-b582-9d45e33de9e6",
   "metadata": {},
   "outputs": [],
   "source": []
  }
 ],
 "metadata": {
  "kernelspec": {
   "display_name": "Python 3 (ipykernel)",
   "language": "python",
   "name": "python3"
  },
  "language_info": {
   "codemirror_mode": {
    "name": "ipython",
    "version": 3
   },
   "file_extension": ".py",
   "mimetype": "text/x-python",
   "name": "python",
   "nbconvert_exporter": "python",
   "pygments_lexer": "ipython3",
   "version": "3.10.12"
  }
 },
 "nbformat": 4,
 "nbformat_minor": 5
}
